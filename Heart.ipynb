{
  "nbformat": 4,
  "nbformat_minor": 0,
  "metadata": {
    "colab": {
      "provenance": [],
      "authorship_tag": "ABX9TyMxNstGq0NYy7ljchgI+P50",
      "include_colab_link": true
    },
    "kernelspec": {
      "name": "python3",
      "display_name": "Python 3"
    },
    "language_info": {
      "name": "python"
    }
  },
  "cells": [
    {
      "cell_type": "markdown",
      "metadata": {
        "id": "view-in-github",
        "colab_type": "text"
      },
      "source": [
        "<a href=\"https://colab.research.google.com/github/eooloyede/Data-Analytics/blob/main/Heart.ipynb\" target=\"_parent\"><img src=\"https://colab.research.google.com/assets/colab-badge.svg\" alt=\"Open In Colab\"/></a>"
      ]
    },
    {
      "cell_type": "markdown",
      "source": [
        "Import the Neccessary Libraries"
      ],
      "metadata": {
        "id": "icvvHAQSypV_"
      }
    },
    {
      "cell_type": "code",
      "execution_count": 1,
      "metadata": {
        "id": "EgroCn27KM0d"
      },
      "outputs": [],
      "source": [
        "import pandas as pd\n",
        "import numpy as np"
      ]
    },
    {
      "cell_type": "markdown",
      "source": [
        "Read the Data using Pandas"
      ],
      "metadata": {
        "id": "CKwwe5sEywPk"
      }
    },
    {
      "cell_type": "code",
      "source": [
        "df_heart = pd.read_csv('/content/sample_data/heart_2022_with_nans.csv')\n",
        "df_heart"
      ],
      "metadata": {
        "colab": {
          "base_uri": "https://localhost:8080/",
          "height": 791
        },
        "id": "VAaJXdXgK1tm",
        "outputId": "06805cad-e0c3-4f38-a1de-9c0dc82e8de9"
      },
      "execution_count": 2,
      "outputs": [
        {
          "output_type": "execute_result",
          "data": {
            "text/plain": [
              "                 State     Sex GeneralHealth  PhysicalHealthDays  \\\n",
              "0              Alabama  Female     Very good                 0.0   \n",
              "1              Alabama  Female     Excellent                 0.0   \n",
              "2              Alabama  Female     Very good                 2.0   \n",
              "3              Alabama  Female     Excellent                 0.0   \n",
              "4              Alabama  Female          Fair                 2.0   \n",
              "...                ...     ...           ...                 ...   \n",
              "445127  Virgin Islands  Female          Good                 0.0   \n",
              "445128  Virgin Islands  Female     Excellent                 2.0   \n",
              "445129  Virgin Islands  Female          Poor                30.0   \n",
              "445130  Virgin Islands    Male     Very good                 0.0   \n",
              "445131  Virgin Islands    Male     Very good                 0.0   \n",
              "\n",
              "        MentalHealthDays                                    LastCheckupTime  \\\n",
              "0                    0.0  Within past year (anytime less than 12 months ...   \n",
              "1                    0.0                                                NaN   \n",
              "2                    3.0  Within past year (anytime less than 12 months ...   \n",
              "3                    0.0  Within past year (anytime less than 12 months ...   \n",
              "4                    0.0  Within past year (anytime less than 12 months ...   \n",
              "...                  ...                                                ...   \n",
              "445127               3.0  Within past 2 years (1 year but less than 2 ye...   \n",
              "445128               2.0  Within past year (anytime less than 12 months ...   \n",
              "445129              30.0                                5 or more years ago   \n",
              "445130               0.0  Within past year (anytime less than 12 months ...   \n",
              "445131               1.0                                                NaN   \n",
              "\n",
              "       PhysicalActivities  SleepHours  RemovedTeeth HadHeartAttack  ...  \\\n",
              "0                      No         8.0           NaN             No  ...   \n",
              "1                      No         6.0           NaN             No  ...   \n",
              "2                     Yes         5.0           NaN             No  ...   \n",
              "3                     Yes         7.0           NaN             No  ...   \n",
              "4                     Yes         9.0           NaN             No  ...   \n",
              "...                   ...         ...           ...            ...  ...   \n",
              "445127                Yes         6.0  None of them             No  ...   \n",
              "445128                Yes         7.0  None of them             No  ...   \n",
              "445129                 No         5.0        1 to 5             No  ...   \n",
              "445130                 No         5.0  None of them            Yes  ...   \n",
              "445131                Yes         5.0  None of them             No  ...   \n",
              "\n",
              "       HeightInMeters WeightInKilograms    BMI AlcoholDrinkers HIVTesting  \\\n",
              "0                 NaN               NaN    NaN              No         No   \n",
              "1                1.60             68.04  26.57              No         No   \n",
              "2                1.57             63.50  25.61              No         No   \n",
              "3                1.65             63.50  23.30              No         No   \n",
              "4                1.57             53.98  21.77             Yes         No   \n",
              "...               ...               ...    ...             ...        ...   \n",
              "445127           1.65             69.85  25.63             NaN        Yes   \n",
              "445128           1.70             83.01  28.66              No        Yes   \n",
              "445129           1.70             49.90  17.23             NaN         No   \n",
              "445130           1.83            108.86  32.55              No        Yes   \n",
              "445131           1.68             63.50  22.60             Yes         No   \n",
              "\n",
              "       FluVaxLast12 PneumoVaxEver  \\\n",
              "0               Yes            No   \n",
              "1                No            No   \n",
              "2                No            No   \n",
              "3               Yes           Yes   \n",
              "4                No           Yes   \n",
              "...             ...           ...   \n",
              "445127           No            No   \n",
              "445128          Yes            No   \n",
              "445129           No            No   \n",
              "445130          Yes           Yes   \n",
              "445131           No            No   \n",
              "\n",
              "                                        TetanusLast10Tdap HighRiskLastYear  \\\n",
              "0       Yes, received tetanus shot but not sure what type               No   \n",
              "1       No, did not receive any tetanus shot in the pa...               No   \n",
              "2                                                     NaN               No   \n",
              "3       No, did not receive any tetanus shot in the pa...               No   \n",
              "4       No, did not receive any tetanus shot in the pa...               No   \n",
              "...                                                   ...              ...   \n",
              "445127  No, did not receive any tetanus shot in the pa...               No   \n",
              "445128  Yes, received tetanus shot but not sure what type               No   \n",
              "445129  No, did not receive any tetanus shot in the pa...               No   \n",
              "445130  No, did not receive any tetanus shot in the pa...               No   \n",
              "445131  Yes, received tetanus shot but not sure what type               No   \n",
              "\n",
              "       CovidPos  \n",
              "0            No  \n",
              "1            No  \n",
              "2           Yes  \n",
              "3            No  \n",
              "4            No  \n",
              "...         ...  \n",
              "445127      Yes  \n",
              "445128       No  \n",
              "445129       No  \n",
              "445130      Yes  \n",
              "445131       No  \n",
              "\n",
              "[445132 rows x 40 columns]"
            ],
            "text/html": [
              "\n",
              "  <div id=\"df-dbd58271-c31e-48d9-b244-6078228bada9\" class=\"colab-df-container\">\n",
              "    <div>\n",
              "<style scoped>\n",
              "    .dataframe tbody tr th:only-of-type {\n",
              "        vertical-align: middle;\n",
              "    }\n",
              "\n",
              "    .dataframe tbody tr th {\n",
              "        vertical-align: top;\n",
              "    }\n",
              "\n",
              "    .dataframe thead th {\n",
              "        text-align: right;\n",
              "    }\n",
              "</style>\n",
              "<table border=\"1\" class=\"dataframe\">\n",
              "  <thead>\n",
              "    <tr style=\"text-align: right;\">\n",
              "      <th></th>\n",
              "      <th>State</th>\n",
              "      <th>Sex</th>\n",
              "      <th>GeneralHealth</th>\n",
              "      <th>PhysicalHealthDays</th>\n",
              "      <th>MentalHealthDays</th>\n",
              "      <th>LastCheckupTime</th>\n",
              "      <th>PhysicalActivities</th>\n",
              "      <th>SleepHours</th>\n",
              "      <th>RemovedTeeth</th>\n",
              "      <th>HadHeartAttack</th>\n",
              "      <th>...</th>\n",
              "      <th>HeightInMeters</th>\n",
              "      <th>WeightInKilograms</th>\n",
              "      <th>BMI</th>\n",
              "      <th>AlcoholDrinkers</th>\n",
              "      <th>HIVTesting</th>\n",
              "      <th>FluVaxLast12</th>\n",
              "      <th>PneumoVaxEver</th>\n",
              "      <th>TetanusLast10Tdap</th>\n",
              "      <th>HighRiskLastYear</th>\n",
              "      <th>CovidPos</th>\n",
              "    </tr>\n",
              "  </thead>\n",
              "  <tbody>\n",
              "    <tr>\n",
              "      <th>0</th>\n",
              "      <td>Alabama</td>\n",
              "      <td>Female</td>\n",
              "      <td>Very good</td>\n",
              "      <td>0.0</td>\n",
              "      <td>0.0</td>\n",
              "      <td>Within past year (anytime less than 12 months ...</td>\n",
              "      <td>No</td>\n",
              "      <td>8.0</td>\n",
              "      <td>NaN</td>\n",
              "      <td>No</td>\n",
              "      <td>...</td>\n",
              "      <td>NaN</td>\n",
              "      <td>NaN</td>\n",
              "      <td>NaN</td>\n",
              "      <td>No</td>\n",
              "      <td>No</td>\n",
              "      <td>Yes</td>\n",
              "      <td>No</td>\n",
              "      <td>Yes, received tetanus shot but not sure what type</td>\n",
              "      <td>No</td>\n",
              "      <td>No</td>\n",
              "    </tr>\n",
              "    <tr>\n",
              "      <th>1</th>\n",
              "      <td>Alabama</td>\n",
              "      <td>Female</td>\n",
              "      <td>Excellent</td>\n",
              "      <td>0.0</td>\n",
              "      <td>0.0</td>\n",
              "      <td>NaN</td>\n",
              "      <td>No</td>\n",
              "      <td>6.0</td>\n",
              "      <td>NaN</td>\n",
              "      <td>No</td>\n",
              "      <td>...</td>\n",
              "      <td>1.60</td>\n",
              "      <td>68.04</td>\n",
              "      <td>26.57</td>\n",
              "      <td>No</td>\n",
              "      <td>No</td>\n",
              "      <td>No</td>\n",
              "      <td>No</td>\n",
              "      <td>No, did not receive any tetanus shot in the pa...</td>\n",
              "      <td>No</td>\n",
              "      <td>No</td>\n",
              "    </tr>\n",
              "    <tr>\n",
              "      <th>2</th>\n",
              "      <td>Alabama</td>\n",
              "      <td>Female</td>\n",
              "      <td>Very good</td>\n",
              "      <td>2.0</td>\n",
              "      <td>3.0</td>\n",
              "      <td>Within past year (anytime less than 12 months ...</td>\n",
              "      <td>Yes</td>\n",
              "      <td>5.0</td>\n",
              "      <td>NaN</td>\n",
              "      <td>No</td>\n",
              "      <td>...</td>\n",
              "      <td>1.57</td>\n",
              "      <td>63.50</td>\n",
              "      <td>25.61</td>\n",
              "      <td>No</td>\n",
              "      <td>No</td>\n",
              "      <td>No</td>\n",
              "      <td>No</td>\n",
              "      <td>NaN</td>\n",
              "      <td>No</td>\n",
              "      <td>Yes</td>\n",
              "    </tr>\n",
              "    <tr>\n",
              "      <th>3</th>\n",
              "      <td>Alabama</td>\n",
              "      <td>Female</td>\n",
              "      <td>Excellent</td>\n",
              "      <td>0.0</td>\n",
              "      <td>0.0</td>\n",
              "      <td>Within past year (anytime less than 12 months ...</td>\n",
              "      <td>Yes</td>\n",
              "      <td>7.0</td>\n",
              "      <td>NaN</td>\n",
              "      <td>No</td>\n",
              "      <td>...</td>\n",
              "      <td>1.65</td>\n",
              "      <td>63.50</td>\n",
              "      <td>23.30</td>\n",
              "      <td>No</td>\n",
              "      <td>No</td>\n",
              "      <td>Yes</td>\n",
              "      <td>Yes</td>\n",
              "      <td>No, did not receive any tetanus shot in the pa...</td>\n",
              "      <td>No</td>\n",
              "      <td>No</td>\n",
              "    </tr>\n",
              "    <tr>\n",
              "      <th>4</th>\n",
              "      <td>Alabama</td>\n",
              "      <td>Female</td>\n",
              "      <td>Fair</td>\n",
              "      <td>2.0</td>\n",
              "      <td>0.0</td>\n",
              "      <td>Within past year (anytime less than 12 months ...</td>\n",
              "      <td>Yes</td>\n",
              "      <td>9.0</td>\n",
              "      <td>NaN</td>\n",
              "      <td>No</td>\n",
              "      <td>...</td>\n",
              "      <td>1.57</td>\n",
              "      <td>53.98</td>\n",
              "      <td>21.77</td>\n",
              "      <td>Yes</td>\n",
              "      <td>No</td>\n",
              "      <td>No</td>\n",
              "      <td>Yes</td>\n",
              "      <td>No, did not receive any tetanus shot in the pa...</td>\n",
              "      <td>No</td>\n",
              "      <td>No</td>\n",
              "    </tr>\n",
              "    <tr>\n",
              "      <th>...</th>\n",
              "      <td>...</td>\n",
              "      <td>...</td>\n",
              "      <td>...</td>\n",
              "      <td>...</td>\n",
              "      <td>...</td>\n",
              "      <td>...</td>\n",
              "      <td>...</td>\n",
              "      <td>...</td>\n",
              "      <td>...</td>\n",
              "      <td>...</td>\n",
              "      <td>...</td>\n",
              "      <td>...</td>\n",
              "      <td>...</td>\n",
              "      <td>...</td>\n",
              "      <td>...</td>\n",
              "      <td>...</td>\n",
              "      <td>...</td>\n",
              "      <td>...</td>\n",
              "      <td>...</td>\n",
              "      <td>...</td>\n",
              "      <td>...</td>\n",
              "    </tr>\n",
              "    <tr>\n",
              "      <th>445127</th>\n",
              "      <td>Virgin Islands</td>\n",
              "      <td>Female</td>\n",
              "      <td>Good</td>\n",
              "      <td>0.0</td>\n",
              "      <td>3.0</td>\n",
              "      <td>Within past 2 years (1 year but less than 2 ye...</td>\n",
              "      <td>Yes</td>\n",
              "      <td>6.0</td>\n",
              "      <td>None of them</td>\n",
              "      <td>No</td>\n",
              "      <td>...</td>\n",
              "      <td>1.65</td>\n",
              "      <td>69.85</td>\n",
              "      <td>25.63</td>\n",
              "      <td>NaN</td>\n",
              "      <td>Yes</td>\n",
              "      <td>No</td>\n",
              "      <td>No</td>\n",
              "      <td>No, did not receive any tetanus shot in the pa...</td>\n",
              "      <td>No</td>\n",
              "      <td>Yes</td>\n",
              "    </tr>\n",
              "    <tr>\n",
              "      <th>445128</th>\n",
              "      <td>Virgin Islands</td>\n",
              "      <td>Female</td>\n",
              "      <td>Excellent</td>\n",
              "      <td>2.0</td>\n",
              "      <td>2.0</td>\n",
              "      <td>Within past year (anytime less than 12 months ...</td>\n",
              "      <td>Yes</td>\n",
              "      <td>7.0</td>\n",
              "      <td>None of them</td>\n",
              "      <td>No</td>\n",
              "      <td>...</td>\n",
              "      <td>1.70</td>\n",
              "      <td>83.01</td>\n",
              "      <td>28.66</td>\n",
              "      <td>No</td>\n",
              "      <td>Yes</td>\n",
              "      <td>Yes</td>\n",
              "      <td>No</td>\n",
              "      <td>Yes, received tetanus shot but not sure what type</td>\n",
              "      <td>No</td>\n",
              "      <td>No</td>\n",
              "    </tr>\n",
              "    <tr>\n",
              "      <th>445129</th>\n",
              "      <td>Virgin Islands</td>\n",
              "      <td>Female</td>\n",
              "      <td>Poor</td>\n",
              "      <td>30.0</td>\n",
              "      <td>30.0</td>\n",
              "      <td>5 or more years ago</td>\n",
              "      <td>No</td>\n",
              "      <td>5.0</td>\n",
              "      <td>1 to 5</td>\n",
              "      <td>No</td>\n",
              "      <td>...</td>\n",
              "      <td>1.70</td>\n",
              "      <td>49.90</td>\n",
              "      <td>17.23</td>\n",
              "      <td>NaN</td>\n",
              "      <td>No</td>\n",
              "      <td>No</td>\n",
              "      <td>No</td>\n",
              "      <td>No, did not receive any tetanus shot in the pa...</td>\n",
              "      <td>No</td>\n",
              "      <td>No</td>\n",
              "    </tr>\n",
              "    <tr>\n",
              "      <th>445130</th>\n",
              "      <td>Virgin Islands</td>\n",
              "      <td>Male</td>\n",
              "      <td>Very good</td>\n",
              "      <td>0.0</td>\n",
              "      <td>0.0</td>\n",
              "      <td>Within past year (anytime less than 12 months ...</td>\n",
              "      <td>No</td>\n",
              "      <td>5.0</td>\n",
              "      <td>None of them</td>\n",
              "      <td>Yes</td>\n",
              "      <td>...</td>\n",
              "      <td>1.83</td>\n",
              "      <td>108.86</td>\n",
              "      <td>32.55</td>\n",
              "      <td>No</td>\n",
              "      <td>Yes</td>\n",
              "      <td>Yes</td>\n",
              "      <td>Yes</td>\n",
              "      <td>No, did not receive any tetanus shot in the pa...</td>\n",
              "      <td>No</td>\n",
              "      <td>Yes</td>\n",
              "    </tr>\n",
              "    <tr>\n",
              "      <th>445131</th>\n",
              "      <td>Virgin Islands</td>\n",
              "      <td>Male</td>\n",
              "      <td>Very good</td>\n",
              "      <td>0.0</td>\n",
              "      <td>1.0</td>\n",
              "      <td>NaN</td>\n",
              "      <td>Yes</td>\n",
              "      <td>5.0</td>\n",
              "      <td>None of them</td>\n",
              "      <td>No</td>\n",
              "      <td>...</td>\n",
              "      <td>1.68</td>\n",
              "      <td>63.50</td>\n",
              "      <td>22.60</td>\n",
              "      <td>Yes</td>\n",
              "      <td>No</td>\n",
              "      <td>No</td>\n",
              "      <td>No</td>\n",
              "      <td>Yes, received tetanus shot but not sure what type</td>\n",
              "      <td>No</td>\n",
              "      <td>No</td>\n",
              "    </tr>\n",
              "  </tbody>\n",
              "</table>\n",
              "<p>445132 rows × 40 columns</p>\n",
              "</div>\n",
              "    <div class=\"colab-df-buttons\">\n",
              "\n",
              "  <div class=\"colab-df-container\">\n",
              "    <button class=\"colab-df-convert\" onclick=\"convertToInteractive('df-dbd58271-c31e-48d9-b244-6078228bada9')\"\n",
              "            title=\"Convert this dataframe to an interactive table.\"\n",
              "            style=\"display:none;\">\n",
              "\n",
              "  <svg xmlns=\"http://www.w3.org/2000/svg\" height=\"24px\" viewBox=\"0 -960 960 960\">\n",
              "    <path d=\"M120-120v-720h720v720H120Zm60-500h600v-160H180v160Zm220 220h160v-160H400v160Zm0 220h160v-160H400v160ZM180-400h160v-160H180v160Zm440 0h160v-160H620v160ZM180-180h160v-160H180v160Zm440 0h160v-160H620v160Z\"/>\n",
              "  </svg>\n",
              "    </button>\n",
              "\n",
              "  <style>\n",
              "    .colab-df-container {\n",
              "      display:flex;\n",
              "      gap: 12px;\n",
              "    }\n",
              "\n",
              "    .colab-df-convert {\n",
              "      background-color: #E8F0FE;\n",
              "      border: none;\n",
              "      border-radius: 50%;\n",
              "      cursor: pointer;\n",
              "      display: none;\n",
              "      fill: #1967D2;\n",
              "      height: 32px;\n",
              "      padding: 0 0 0 0;\n",
              "      width: 32px;\n",
              "    }\n",
              "\n",
              "    .colab-df-convert:hover {\n",
              "      background-color: #E2EBFA;\n",
              "      box-shadow: 0px 1px 2px rgba(60, 64, 67, 0.3), 0px 1px 3px 1px rgba(60, 64, 67, 0.15);\n",
              "      fill: #174EA6;\n",
              "    }\n",
              "\n",
              "    .colab-df-buttons div {\n",
              "      margin-bottom: 4px;\n",
              "    }\n",
              "\n",
              "    [theme=dark] .colab-df-convert {\n",
              "      background-color: #3B4455;\n",
              "      fill: #D2E3FC;\n",
              "    }\n",
              "\n",
              "    [theme=dark] .colab-df-convert:hover {\n",
              "      background-color: #434B5C;\n",
              "      box-shadow: 0px 1px 3px 1px rgba(0, 0, 0, 0.15);\n",
              "      filter: drop-shadow(0px 1px 2px rgba(0, 0, 0, 0.3));\n",
              "      fill: #FFFFFF;\n",
              "    }\n",
              "  </style>\n",
              "\n",
              "    <script>\n",
              "      const buttonEl =\n",
              "        document.querySelector('#df-dbd58271-c31e-48d9-b244-6078228bada9 button.colab-df-convert');\n",
              "      buttonEl.style.display =\n",
              "        google.colab.kernel.accessAllowed ? 'block' : 'none';\n",
              "\n",
              "      async function convertToInteractive(key) {\n",
              "        const element = document.querySelector('#df-dbd58271-c31e-48d9-b244-6078228bada9');\n",
              "        const dataTable =\n",
              "          await google.colab.kernel.invokeFunction('convertToInteractive',\n",
              "                                                    [key], {});\n",
              "        if (!dataTable) return;\n",
              "\n",
              "        const docLinkHtml = 'Like what you see? Visit the ' +\n",
              "          '<a target=\"_blank\" href=https://colab.research.google.com/notebooks/data_table.ipynb>data table notebook</a>'\n",
              "          + ' to learn more about interactive tables.';\n",
              "        element.innerHTML = '';\n",
              "        dataTable['output_type'] = 'display_data';\n",
              "        await google.colab.output.renderOutput(dataTable, element);\n",
              "        const docLink = document.createElement('div');\n",
              "        docLink.innerHTML = docLinkHtml;\n",
              "        element.appendChild(docLink);\n",
              "      }\n",
              "    </script>\n",
              "  </div>\n",
              "\n",
              "\n",
              "<div id=\"df-865e83da-b434-4e42-93f6-b87aa01b2839\">\n",
              "  <button class=\"colab-df-quickchart\" onclick=\"quickchart('df-865e83da-b434-4e42-93f6-b87aa01b2839')\"\n",
              "            title=\"Suggest charts\"\n",
              "            style=\"display:none;\">\n",
              "\n",
              "<svg xmlns=\"http://www.w3.org/2000/svg\" height=\"24px\"viewBox=\"0 0 24 24\"\n",
              "     width=\"24px\">\n",
              "    <g>\n",
              "        <path d=\"M19 3H5c-1.1 0-2 .9-2 2v14c0 1.1.9 2 2 2h14c1.1 0 2-.9 2-2V5c0-1.1-.9-2-2-2zM9 17H7v-7h2v7zm4 0h-2V7h2v10zm4 0h-2v-4h2v4z\"/>\n",
              "    </g>\n",
              "</svg>\n",
              "  </button>\n",
              "\n",
              "<style>\n",
              "  .colab-df-quickchart {\n",
              "      --bg-color: #E8F0FE;\n",
              "      --fill-color: #1967D2;\n",
              "      --hover-bg-color: #E2EBFA;\n",
              "      --hover-fill-color: #174EA6;\n",
              "      --disabled-fill-color: #AAA;\n",
              "      --disabled-bg-color: #DDD;\n",
              "  }\n",
              "\n",
              "  [theme=dark] .colab-df-quickchart {\n",
              "      --bg-color: #3B4455;\n",
              "      --fill-color: #D2E3FC;\n",
              "      --hover-bg-color: #434B5C;\n",
              "      --hover-fill-color: #FFFFFF;\n",
              "      --disabled-bg-color: #3B4455;\n",
              "      --disabled-fill-color: #666;\n",
              "  }\n",
              "\n",
              "  .colab-df-quickchart {\n",
              "    background-color: var(--bg-color);\n",
              "    border: none;\n",
              "    border-radius: 50%;\n",
              "    cursor: pointer;\n",
              "    display: none;\n",
              "    fill: var(--fill-color);\n",
              "    height: 32px;\n",
              "    padding: 0;\n",
              "    width: 32px;\n",
              "  }\n",
              "\n",
              "  .colab-df-quickchart:hover {\n",
              "    background-color: var(--hover-bg-color);\n",
              "    box-shadow: 0 1px 2px rgba(60, 64, 67, 0.3), 0 1px 3px 1px rgba(60, 64, 67, 0.15);\n",
              "    fill: var(--button-hover-fill-color);\n",
              "  }\n",
              "\n",
              "  .colab-df-quickchart-complete:disabled,\n",
              "  .colab-df-quickchart-complete:disabled:hover {\n",
              "    background-color: var(--disabled-bg-color);\n",
              "    fill: var(--disabled-fill-color);\n",
              "    box-shadow: none;\n",
              "  }\n",
              "\n",
              "  .colab-df-spinner {\n",
              "    border: 2px solid var(--fill-color);\n",
              "    border-color: transparent;\n",
              "    border-bottom-color: var(--fill-color);\n",
              "    animation:\n",
              "      spin 1s steps(1) infinite;\n",
              "  }\n",
              "\n",
              "  @keyframes spin {\n",
              "    0% {\n",
              "      border-color: transparent;\n",
              "      border-bottom-color: var(--fill-color);\n",
              "      border-left-color: var(--fill-color);\n",
              "    }\n",
              "    20% {\n",
              "      border-color: transparent;\n",
              "      border-left-color: var(--fill-color);\n",
              "      border-top-color: var(--fill-color);\n",
              "    }\n",
              "    30% {\n",
              "      border-color: transparent;\n",
              "      border-left-color: var(--fill-color);\n",
              "      border-top-color: var(--fill-color);\n",
              "      border-right-color: var(--fill-color);\n",
              "    }\n",
              "    40% {\n",
              "      border-color: transparent;\n",
              "      border-right-color: var(--fill-color);\n",
              "      border-top-color: var(--fill-color);\n",
              "    }\n",
              "    60% {\n",
              "      border-color: transparent;\n",
              "      border-right-color: var(--fill-color);\n",
              "    }\n",
              "    80% {\n",
              "      border-color: transparent;\n",
              "      border-right-color: var(--fill-color);\n",
              "      border-bottom-color: var(--fill-color);\n",
              "    }\n",
              "    90% {\n",
              "      border-color: transparent;\n",
              "      border-bottom-color: var(--fill-color);\n",
              "    }\n",
              "  }\n",
              "</style>\n",
              "\n",
              "  <script>\n",
              "    async function quickchart(key) {\n",
              "      const quickchartButtonEl =\n",
              "        document.querySelector('#' + key + ' button');\n",
              "      quickchartButtonEl.disabled = true;  // To prevent multiple clicks.\n",
              "      quickchartButtonEl.classList.add('colab-df-spinner');\n",
              "      try {\n",
              "        const charts = await google.colab.kernel.invokeFunction(\n",
              "            'suggestCharts', [key], {});\n",
              "      } catch (error) {\n",
              "        console.error('Error during call to suggestCharts:', error);\n",
              "      }\n",
              "      quickchartButtonEl.classList.remove('colab-df-spinner');\n",
              "      quickchartButtonEl.classList.add('colab-df-quickchart-complete');\n",
              "    }\n",
              "    (() => {\n",
              "      let quickchartButtonEl =\n",
              "        document.querySelector('#df-865e83da-b434-4e42-93f6-b87aa01b2839 button');\n",
              "      quickchartButtonEl.style.display =\n",
              "        google.colab.kernel.accessAllowed ? 'block' : 'none';\n",
              "    })();\n",
              "  </script>\n",
              "</div>\n",
              "    </div>\n",
              "  </div>\n"
            ],
            "application/vnd.google.colaboratory.intrinsic+json": {
              "type": "dataframe",
              "variable_name": "df_heart"
            }
          },
          "metadata": {},
          "execution_count": 2
        }
      ]
    },
    {
      "cell_type": "code",
      "source": [
        "df_heart.info()"
      ],
      "metadata": {
        "colab": {
          "base_uri": "https://localhost:8080/"
        },
        "id": "_ep8efIQMiVa",
        "outputId": "542074ed-4c02-4dd5-dd31-7273cfc7cfb5"
      },
      "execution_count": 3,
      "outputs": [
        {
          "output_type": "stream",
          "name": "stdout",
          "text": [
            "<class 'pandas.core.frame.DataFrame'>\n",
            "RangeIndex: 445132 entries, 0 to 445131\n",
            "Data columns (total 40 columns):\n",
            " #   Column                     Non-Null Count   Dtype  \n",
            "---  ------                     --------------   -----  \n",
            " 0   State                      445132 non-null  object \n",
            " 1   Sex                        445132 non-null  object \n",
            " 2   GeneralHealth              443934 non-null  object \n",
            " 3   PhysicalHealthDays         434205 non-null  float64\n",
            " 4   MentalHealthDays           436065 non-null  float64\n",
            " 5   LastCheckupTime            436824 non-null  object \n",
            " 6   PhysicalActivities         444039 non-null  object \n",
            " 7   SleepHours                 439679 non-null  float64\n",
            " 8   RemovedTeeth               433772 non-null  object \n",
            " 9   HadHeartAttack             442067 non-null  object \n",
            " 10  HadAngina                  440727 non-null  object \n",
            " 11  HadStroke                  443575 non-null  object \n",
            " 12  HadAsthma                  443359 non-null  object \n",
            " 13  HadSkinCancer              441989 non-null  object \n",
            " 14  HadCOPD                    442913 non-null  object \n",
            " 15  HadDepressiveDisorder      442320 non-null  object \n",
            " 16  HadKidneyDisease           443206 non-null  object \n",
            " 17  HadArthritis               442499 non-null  object \n",
            " 18  HadDiabetes                444045 non-null  object \n",
            " 19  DeafOrHardOfHearing        424485 non-null  object \n",
            " 20  BlindOrVisionDifficulty    423568 non-null  object \n",
            " 21  DifficultyConcentrating    420892 non-null  object \n",
            " 22  DifficultyWalking          421120 non-null  object \n",
            " 23  DifficultyDressingBathing  421217 non-null  object \n",
            " 24  DifficultyErrands          419476 non-null  object \n",
            " 25  SmokerStatus               409670 non-null  object \n",
            " 26  ECigaretteUsage            409472 non-null  object \n",
            " 27  ChestScan                  389086 non-null  object \n",
            " 28  RaceEthnicityCategory      431075 non-null  object \n",
            " 29  AgeCategory                436053 non-null  object \n",
            " 30  HeightInMeters             416480 non-null  float64\n",
            " 31  WeightInKilograms          403054 non-null  float64\n",
            " 32  BMI                        396326 non-null  float64\n",
            " 33  AlcoholDrinkers            398558 non-null  object \n",
            " 34  HIVTesting                 379005 non-null  object \n",
            " 35  FluVaxLast12               398011 non-null  object \n",
            " 36  PneumoVaxEver              368092 non-null  object \n",
            " 37  TetanusLast10Tdap          362616 non-null  object \n",
            " 38  HighRiskLastYear           394509 non-null  object \n",
            " 39  CovidPos                   394368 non-null  object \n",
            "dtypes: float64(6), object(34)\n",
            "memory usage: 135.8+ MB\n"
          ]
        }
      ]
    },
    {
      "cell_type": "markdown",
      "source": [
        "To check the data for missing values"
      ],
      "metadata": {
        "id": "6pmzSDDq0vVV"
      }
    },
    {
      "cell_type": "code",
      "source": [
        "df_heart.isnull().sum()"
      ],
      "metadata": {
        "colab": {
          "base_uri": "https://localhost:8080/"
        },
        "id": "JeeYETKCOH81",
        "outputId": "5cf0a993-59b2-4a66-c969-3506682f946a"
      },
      "execution_count": 4,
      "outputs": [
        {
          "output_type": "execute_result",
          "data": {
            "text/plain": [
              "State                            0\n",
              "Sex                              0\n",
              "GeneralHealth                 1198\n",
              "PhysicalHealthDays           10927\n",
              "MentalHealthDays              9067\n",
              "LastCheckupTime               8308\n",
              "PhysicalActivities            1093\n",
              "SleepHours                    5453\n",
              "RemovedTeeth                 11360\n",
              "HadHeartAttack                3065\n",
              "HadAngina                     4405\n",
              "HadStroke                     1557\n",
              "HadAsthma                     1773\n",
              "HadSkinCancer                 3143\n",
              "HadCOPD                       2219\n",
              "HadDepressiveDisorder         2812\n",
              "HadKidneyDisease              1926\n",
              "HadArthritis                  2633\n",
              "HadDiabetes                   1087\n",
              "DeafOrHardOfHearing          20647\n",
              "BlindOrVisionDifficulty      21564\n",
              "DifficultyConcentrating      24240\n",
              "DifficultyWalking            24012\n",
              "DifficultyDressingBathing    23915\n",
              "DifficultyErrands            25656\n",
              "SmokerStatus                 35462\n",
              "ECigaretteUsage              35660\n",
              "ChestScan                    56046\n",
              "RaceEthnicityCategory        14057\n",
              "AgeCategory                   9079\n",
              "HeightInMeters               28652\n",
              "WeightInKilograms            42078\n",
              "BMI                          48806\n",
              "AlcoholDrinkers              46574\n",
              "HIVTesting                   66127\n",
              "FluVaxLast12                 47121\n",
              "PneumoVaxEver                77040\n",
              "TetanusLast10Tdap            82516\n",
              "HighRiskLastYear             50623\n",
              "CovidPos                     50764\n",
              "dtype: int64"
            ]
          },
          "metadata": {},
          "execution_count": 4
        }
      ]
    },
    {
      "cell_type": "markdown",
      "source": [
        "Column TetanusLast10Tdap has too many missing values, the entire column will be dropped"
      ],
      "metadata": {
        "id": "owsky3OEUt_p"
      }
    },
    {
      "cell_type": "code",
      "source": [
        "df_heart.drop(columns='TetanusLast10Tdap',axis=1, inplace=True)"
      ],
      "metadata": {
        "id": "MMGsnS7xUkYQ"
      },
      "execution_count": 5,
      "outputs": []
    },
    {
      "cell_type": "code",
      "source": [
        "df_heart.duplicated().sum()"
      ],
      "metadata": {
        "colab": {
          "base_uri": "https://localhost:8080/"
        },
        "id": "rguw18UgWEjw",
        "outputId": "a5f96533-0510-45ee-b1ca-8f987a4e2f78"
      },
      "execution_count": 6,
      "outputs": [
        {
          "output_type": "execute_result",
          "data": {
            "text/plain": [
              "166"
            ]
          },
          "metadata": {},
          "execution_count": 6
        }
      ]
    },
    {
      "cell_type": "markdown",
      "source": [
        "Remove these 166 duplicates"
      ],
      "metadata": {
        "id": "4Bn9s3JtXSWM"
      }
    },
    {
      "cell_type": "code",
      "source": [
        "df_heart.drop_duplicates(inplace=True)"
      ],
      "metadata": {
        "id": "P-X0wwoPXRht"
      },
      "execution_count": 7,
      "outputs": []
    },
    {
      "cell_type": "code",
      "source": [
        "df_heart.shape"
      ],
      "metadata": {
        "colab": {
          "base_uri": "https://localhost:8080/"
        },
        "id": "GBXF_nH6X406",
        "outputId": "d305dd67-9b63-4ec6-f448-8c75922b5588"
      },
      "execution_count": 8,
      "outputs": [
        {
          "output_type": "execute_result",
          "data": {
            "text/plain": [
              "(444966, 39)"
            ]
          },
          "metadata": {},
          "execution_count": 8
        }
      ]
    },
    {
      "cell_type": "code",
      "source": [
        "#Dropping other irrelevant columns not contributing to heart disease\n",
        "df_heart = df_heart.drop(columns=['State', 'MentalHealthDays', 'RemovedTeeth', 'HadSkinCancer', 'HadArthritis',\\\n",
        "                                  'DeafOrHardOfHearing', 'BlindOrVisionDifficulty', 'DifficultyConcentrating',\\\n",
        "                                  'DifficultyDressingBathing', 'DifficultyErrands', 'RaceEthnicityCategory',\\\n",
        "                                  'HeightInMeters', 'WeightInKilograms', 'HIVTesting', 'CovidPos', 'HighRiskLastYear'], axis=1)"
      ],
      "metadata": {
        "id": "zi5yfnvY2Clw"
      },
      "execution_count": 9,
      "outputs": []
    },
    {
      "cell_type": "markdown",
      "source": [
        "There are some factors that contributes to heart disease. These variables will be selected out of the 39 columns"
      ],
      "metadata": {
        "id": "eiEJfXGpYbq6"
      }
    },
    {
      "cell_type": "code",
      "source": [
        "df_heart.shape"
      ],
      "metadata": {
        "id": "Q-58p_iaYk0e",
        "colab": {
          "base_uri": "https://localhost:8080/"
        },
        "outputId": "b3f27ac6-b393-4d48-cd20-68ca77852ff5"
      },
      "execution_count": 10,
      "outputs": [
        {
          "output_type": "execute_result",
          "data": {
            "text/plain": [
              "(444966, 23)"
            ]
          },
          "metadata": {},
          "execution_count": 10
        }
      ]
    },
    {
      "cell_type": "code",
      "source": [
        "df_heart.isnull().sum()"
      ],
      "metadata": {
        "colab": {
          "base_uri": "https://localhost:8080/"
        },
        "id": "JnUiu8klaxIe",
        "outputId": "fd10d0b5-b738-4f97-ea43-0f3d6a6cb76f"
      },
      "execution_count": 11,
      "outputs": [
        {
          "output_type": "execute_result",
          "data": {
            "text/plain": [
              "Sex                          0\n",
              "GeneralHealth             1193\n",
              "PhysicalHealthDays       10922\n",
              "LastCheckupTime           8301\n",
              "PhysicalActivities        1088\n",
              "SleepHours                5448\n",
              "HadHeartAttack            3060\n",
              "HadAngina                 4400\n",
              "HadStroke                 1552\n",
              "HadAsthma                 1768\n",
              "HadCOPD                   2214\n",
              "HadDepressiveDisorder     2807\n",
              "HadKidneyDisease          1921\n",
              "HadDiabetes               1082\n",
              "DifficultyWalking        23867\n",
              "SmokerStatus             35316\n",
              "ECigaretteUsage          35514\n",
              "ChestScan                55900\n",
              "AgeCategory               9069\n",
              "BMI                      48657\n",
              "AlcoholDrinkers          46428\n",
              "FluVaxLast12             46975\n",
              "PneumoVaxEver            76894\n",
              "dtype: int64"
            ]
          },
          "metadata": {},
          "execution_count": 11
        }
      ]
    },
    {
      "cell_type": "markdown",
      "source": [
        "Columns with too many missing values and little effect on heart attack will also be dropped"
      ],
      "metadata": {
        "id": "z0ViS90E5wce"
      }
    },
    {
      "cell_type": "code",
      "source": [
        "df_heart = df_heart.drop(columns=['PneumoVaxEver'],axis=1)\n",
        "df_heart.shape"
      ],
      "metadata": {
        "colab": {
          "base_uri": "https://localhost:8080/"
        },
        "id": "APohyuMya_e2",
        "outputId": "10068307-6673-4c51-8a41-0de9701f587d"
      },
      "execution_count": 12,
      "outputs": [
        {
          "output_type": "execute_result",
          "data": {
            "text/plain": [
              "(444966, 22)"
            ]
          },
          "metadata": {},
          "execution_count": 12
        }
      ]
    },
    {
      "cell_type": "markdown",
      "source": [
        "The missing values from the selected variables for prediction will be dropped for all the categorical variables\n"
      ],
      "metadata": {
        "id": "l_hTUvUHcAji"
      }
    },
    {
      "cell_type": "code",
      "source": [
        "df_heart['BMI'] = df_heart['BMI'].fillna(df_heart['BMI'].mean())"
      ],
      "metadata": {
        "id": "OOjJjIj9cK_7"
      },
      "execution_count": 13,
      "outputs": []
    },
    {
      "cell_type": "code",
      "source": [
        "df_heart['SleepHours'] = df_heart['SleepHours'].fillna(df_heart['SleepHours'].mean())"
      ],
      "metadata": {
        "id": "r2xnm6wQ61BK"
      },
      "execution_count": 14,
      "outputs": []
    },
    {
      "cell_type": "markdown",
      "source": [
        "The remaining missing values from categorical variables will be dropped"
      ],
      "metadata": {
        "id": "rlS7axNs6p9F"
      }
    },
    {
      "cell_type": "code",
      "source": [
        "df_heart.dropna(axis=0, inplace=True)"
      ],
      "metadata": {
        "id": "K-ZZIUaMc3d4"
      },
      "execution_count": 15,
      "outputs": []
    },
    {
      "cell_type": "code",
      "source": [
        "df_heart.isnull().sum()"
      ],
      "metadata": {
        "colab": {
          "base_uri": "https://localhost:8080/"
        },
        "id": "6uTNcQbUdYWW",
        "outputId": "e942a464-3b0a-4b2b-af94-0cb624c1a5a8"
      },
      "execution_count": 16,
      "outputs": [
        {
          "output_type": "execute_result",
          "data": {
            "text/plain": [
              "Sex                      0\n",
              "GeneralHealth            0\n",
              "PhysicalHealthDays       0\n",
              "LastCheckupTime          0\n",
              "PhysicalActivities       0\n",
              "SleepHours               0\n",
              "HadHeartAttack           0\n",
              "HadAngina                0\n",
              "HadStroke                0\n",
              "HadAsthma                0\n",
              "HadCOPD                  0\n",
              "HadDepressiveDisorder    0\n",
              "HadKidneyDisease         0\n",
              "HadDiabetes              0\n",
              "DifficultyWalking        0\n",
              "SmokerStatus             0\n",
              "ECigaretteUsage          0\n",
              "ChestScan                0\n",
              "AgeCategory              0\n",
              "BMI                      0\n",
              "AlcoholDrinkers          0\n",
              "FluVaxLast12             0\n",
              "dtype: int64"
            ]
          },
          "metadata": {},
          "execution_count": 16
        }
      ]
    },
    {
      "cell_type": "markdown",
      "source": [
        "There are no more missing values"
      ],
      "metadata": {
        "id": "FieLqJ4Dddqx"
      }
    },
    {
      "cell_type": "code",
      "source": [
        "df_heart.shape"
      ],
      "metadata": {
        "colab": {
          "base_uri": "https://localhost:8080/"
        },
        "id": "QoiiIbtvddNN",
        "outputId": "4397b35c-5b9f-416b-a552-b3b63a7211e5"
      },
      "execution_count": 16,
      "outputs": [
        {
          "output_type": "execute_result",
          "data": {
            "text/plain": [
              "(343181, 22)"
            ]
          },
          "metadata": {},
          "execution_count": 16
        }
      ]
    },
    {
      "cell_type": "code",
      "source": [
        "df_heart.head(5)"
      ],
      "metadata": {
        "colab": {
          "base_uri": "https://localhost:8080/",
          "height": 429
        },
        "id": "H9-fuvzO7Xkk",
        "outputId": "f6758d41-5515-461c-c513-263bcf1a4176"
      },
      "execution_count": 17,
      "outputs": [
        {
          "output_type": "execute_result",
          "data": {
            "text/plain": [
              "      Sex GeneralHealth  PhysicalHealthDays  \\\n",
              "0  Female     Very good                 0.0   \n",
              "2  Female     Very good                 2.0   \n",
              "4  Female          Fair                 2.0   \n",
              "5    Male          Poor                 1.0   \n",
              "6  Female     Very good                 0.0   \n",
              "\n",
              "                                     LastCheckupTime PhysicalActivities  \\\n",
              "0  Within past year (anytime less than 12 months ...                 No   \n",
              "2  Within past year (anytime less than 12 months ...                Yes   \n",
              "4  Within past year (anytime less than 12 months ...                Yes   \n",
              "5  Within past year (anytime less than 12 months ...                 No   \n",
              "6  Within past year (anytime less than 12 months ...                Yes   \n",
              "\n",
              "   SleepHours HadHeartAttack HadAngina HadStroke HadAsthma  ...  \\\n",
              "0         8.0             No        No        No        No  ...   \n",
              "2         5.0             No        No        No        No  ...   \n",
              "4         9.0             No        No        No        No  ...   \n",
              "5         7.0            Yes        No       Yes        No  ...   \n",
              "6         7.0             No        No        No        No  ...   \n",
              "\n",
              "  HadKidneyDisease HadDiabetes DifficultyWalking   SmokerStatus  \\\n",
              "0               No         Yes                No   Never smoked   \n",
              "2               No          No                No   Never smoked   \n",
              "4               No          No                No   Never smoked   \n",
              "5               No         Yes                No   Never smoked   \n",
              "6               No          No                No  Former smoker   \n",
              "\n",
              "                             ECigaretteUsage ChestScan      AgeCategory  \\\n",
              "0                     Not at all (right now)        No  Age 80 or older   \n",
              "2  Never used e-cigarettes in my entire life        No     Age 55 to 59   \n",
              "4  Never used e-cigarettes in my entire life       Yes     Age 40 to 44   \n",
              "5  Never used e-cigarettes in my entire life        No  Age 80 or older   \n",
              "6  Never used e-cigarettes in my entire life        No  Age 80 or older   \n",
              "\n",
              "        BMI AlcoholDrinkers  FluVaxLast12  \n",
              "0  28.52993              No           Yes  \n",
              "2  25.61000              No            No  \n",
              "4  21.77000             Yes            No  \n",
              "5  26.08000              No            No  \n",
              "6  22.96000             Yes            No  \n",
              "\n",
              "[5 rows x 22 columns]"
            ],
            "text/html": [
              "\n",
              "  <div id=\"df-a541b8a5-fc22-4a6a-b5f9-6e76b1922ba8\" class=\"colab-df-container\">\n",
              "    <div>\n",
              "<style scoped>\n",
              "    .dataframe tbody tr th:only-of-type {\n",
              "        vertical-align: middle;\n",
              "    }\n",
              "\n",
              "    .dataframe tbody tr th {\n",
              "        vertical-align: top;\n",
              "    }\n",
              "\n",
              "    .dataframe thead th {\n",
              "        text-align: right;\n",
              "    }\n",
              "</style>\n",
              "<table border=\"1\" class=\"dataframe\">\n",
              "  <thead>\n",
              "    <tr style=\"text-align: right;\">\n",
              "      <th></th>\n",
              "      <th>Sex</th>\n",
              "      <th>GeneralHealth</th>\n",
              "      <th>PhysicalHealthDays</th>\n",
              "      <th>LastCheckupTime</th>\n",
              "      <th>PhysicalActivities</th>\n",
              "      <th>SleepHours</th>\n",
              "      <th>HadHeartAttack</th>\n",
              "      <th>HadAngina</th>\n",
              "      <th>HadStroke</th>\n",
              "      <th>HadAsthma</th>\n",
              "      <th>...</th>\n",
              "      <th>HadKidneyDisease</th>\n",
              "      <th>HadDiabetes</th>\n",
              "      <th>DifficultyWalking</th>\n",
              "      <th>SmokerStatus</th>\n",
              "      <th>ECigaretteUsage</th>\n",
              "      <th>ChestScan</th>\n",
              "      <th>AgeCategory</th>\n",
              "      <th>BMI</th>\n",
              "      <th>AlcoholDrinkers</th>\n",
              "      <th>FluVaxLast12</th>\n",
              "    </tr>\n",
              "  </thead>\n",
              "  <tbody>\n",
              "    <tr>\n",
              "      <th>0</th>\n",
              "      <td>Female</td>\n",
              "      <td>Very good</td>\n",
              "      <td>0.0</td>\n",
              "      <td>Within past year (anytime less than 12 months ...</td>\n",
              "      <td>No</td>\n",
              "      <td>8.0</td>\n",
              "      <td>No</td>\n",
              "      <td>No</td>\n",
              "      <td>No</td>\n",
              "      <td>No</td>\n",
              "      <td>...</td>\n",
              "      <td>No</td>\n",
              "      <td>Yes</td>\n",
              "      <td>No</td>\n",
              "      <td>Never smoked</td>\n",
              "      <td>Not at all (right now)</td>\n",
              "      <td>No</td>\n",
              "      <td>Age 80 or older</td>\n",
              "      <td>28.52993</td>\n",
              "      <td>No</td>\n",
              "      <td>Yes</td>\n",
              "    </tr>\n",
              "    <tr>\n",
              "      <th>2</th>\n",
              "      <td>Female</td>\n",
              "      <td>Very good</td>\n",
              "      <td>2.0</td>\n",
              "      <td>Within past year (anytime less than 12 months ...</td>\n",
              "      <td>Yes</td>\n",
              "      <td>5.0</td>\n",
              "      <td>No</td>\n",
              "      <td>No</td>\n",
              "      <td>No</td>\n",
              "      <td>No</td>\n",
              "      <td>...</td>\n",
              "      <td>No</td>\n",
              "      <td>No</td>\n",
              "      <td>No</td>\n",
              "      <td>Never smoked</td>\n",
              "      <td>Never used e-cigarettes in my entire life</td>\n",
              "      <td>No</td>\n",
              "      <td>Age 55 to 59</td>\n",
              "      <td>25.61000</td>\n",
              "      <td>No</td>\n",
              "      <td>No</td>\n",
              "    </tr>\n",
              "    <tr>\n",
              "      <th>4</th>\n",
              "      <td>Female</td>\n",
              "      <td>Fair</td>\n",
              "      <td>2.0</td>\n",
              "      <td>Within past year (anytime less than 12 months ...</td>\n",
              "      <td>Yes</td>\n",
              "      <td>9.0</td>\n",
              "      <td>No</td>\n",
              "      <td>No</td>\n",
              "      <td>No</td>\n",
              "      <td>No</td>\n",
              "      <td>...</td>\n",
              "      <td>No</td>\n",
              "      <td>No</td>\n",
              "      <td>No</td>\n",
              "      <td>Never smoked</td>\n",
              "      <td>Never used e-cigarettes in my entire life</td>\n",
              "      <td>Yes</td>\n",
              "      <td>Age 40 to 44</td>\n",
              "      <td>21.77000</td>\n",
              "      <td>Yes</td>\n",
              "      <td>No</td>\n",
              "    </tr>\n",
              "    <tr>\n",
              "      <th>5</th>\n",
              "      <td>Male</td>\n",
              "      <td>Poor</td>\n",
              "      <td>1.0</td>\n",
              "      <td>Within past year (anytime less than 12 months ...</td>\n",
              "      <td>No</td>\n",
              "      <td>7.0</td>\n",
              "      <td>Yes</td>\n",
              "      <td>No</td>\n",
              "      <td>Yes</td>\n",
              "      <td>No</td>\n",
              "      <td>...</td>\n",
              "      <td>No</td>\n",
              "      <td>Yes</td>\n",
              "      <td>No</td>\n",
              "      <td>Never smoked</td>\n",
              "      <td>Never used e-cigarettes in my entire life</td>\n",
              "      <td>No</td>\n",
              "      <td>Age 80 or older</td>\n",
              "      <td>26.08000</td>\n",
              "      <td>No</td>\n",
              "      <td>No</td>\n",
              "    </tr>\n",
              "    <tr>\n",
              "      <th>6</th>\n",
              "      <td>Female</td>\n",
              "      <td>Very good</td>\n",
              "      <td>0.0</td>\n",
              "      <td>Within past year (anytime less than 12 months ...</td>\n",
              "      <td>Yes</td>\n",
              "      <td>7.0</td>\n",
              "      <td>No</td>\n",
              "      <td>No</td>\n",
              "      <td>No</td>\n",
              "      <td>No</td>\n",
              "      <td>...</td>\n",
              "      <td>No</td>\n",
              "      <td>No</td>\n",
              "      <td>No</td>\n",
              "      <td>Former smoker</td>\n",
              "      <td>Never used e-cigarettes in my entire life</td>\n",
              "      <td>No</td>\n",
              "      <td>Age 80 or older</td>\n",
              "      <td>22.96000</td>\n",
              "      <td>Yes</td>\n",
              "      <td>No</td>\n",
              "    </tr>\n",
              "  </tbody>\n",
              "</table>\n",
              "<p>5 rows × 22 columns</p>\n",
              "</div>\n",
              "    <div class=\"colab-df-buttons\">\n",
              "\n",
              "  <div class=\"colab-df-container\">\n",
              "    <button class=\"colab-df-convert\" onclick=\"convertToInteractive('df-a541b8a5-fc22-4a6a-b5f9-6e76b1922ba8')\"\n",
              "            title=\"Convert this dataframe to an interactive table.\"\n",
              "            style=\"display:none;\">\n",
              "\n",
              "  <svg xmlns=\"http://www.w3.org/2000/svg\" height=\"24px\" viewBox=\"0 -960 960 960\">\n",
              "    <path d=\"M120-120v-720h720v720H120Zm60-500h600v-160H180v160Zm220 220h160v-160H400v160Zm0 220h160v-160H400v160ZM180-400h160v-160H180v160Zm440 0h160v-160H620v160ZM180-180h160v-160H180v160Zm440 0h160v-160H620v160Z\"/>\n",
              "  </svg>\n",
              "    </button>\n",
              "\n",
              "  <style>\n",
              "    .colab-df-container {\n",
              "      display:flex;\n",
              "      gap: 12px;\n",
              "    }\n",
              "\n",
              "    .colab-df-convert {\n",
              "      background-color: #E8F0FE;\n",
              "      border: none;\n",
              "      border-radius: 50%;\n",
              "      cursor: pointer;\n",
              "      display: none;\n",
              "      fill: #1967D2;\n",
              "      height: 32px;\n",
              "      padding: 0 0 0 0;\n",
              "      width: 32px;\n",
              "    }\n",
              "\n",
              "    .colab-df-convert:hover {\n",
              "      background-color: #E2EBFA;\n",
              "      box-shadow: 0px 1px 2px rgba(60, 64, 67, 0.3), 0px 1px 3px 1px rgba(60, 64, 67, 0.15);\n",
              "      fill: #174EA6;\n",
              "    }\n",
              "\n",
              "    .colab-df-buttons div {\n",
              "      margin-bottom: 4px;\n",
              "    }\n",
              "\n",
              "    [theme=dark] .colab-df-convert {\n",
              "      background-color: #3B4455;\n",
              "      fill: #D2E3FC;\n",
              "    }\n",
              "\n",
              "    [theme=dark] .colab-df-convert:hover {\n",
              "      background-color: #434B5C;\n",
              "      box-shadow: 0px 1px 3px 1px rgba(0, 0, 0, 0.15);\n",
              "      filter: drop-shadow(0px 1px 2px rgba(0, 0, 0, 0.3));\n",
              "      fill: #FFFFFF;\n",
              "    }\n",
              "  </style>\n",
              "\n",
              "    <script>\n",
              "      const buttonEl =\n",
              "        document.querySelector('#df-a541b8a5-fc22-4a6a-b5f9-6e76b1922ba8 button.colab-df-convert');\n",
              "      buttonEl.style.display =\n",
              "        google.colab.kernel.accessAllowed ? 'block' : 'none';\n",
              "\n",
              "      async function convertToInteractive(key) {\n",
              "        const element = document.querySelector('#df-a541b8a5-fc22-4a6a-b5f9-6e76b1922ba8');\n",
              "        const dataTable =\n",
              "          await google.colab.kernel.invokeFunction('convertToInteractive',\n",
              "                                                    [key], {});\n",
              "        if (!dataTable) return;\n",
              "\n",
              "        const docLinkHtml = 'Like what you see? Visit the ' +\n",
              "          '<a target=\"_blank\" href=https://colab.research.google.com/notebooks/data_table.ipynb>data table notebook</a>'\n",
              "          + ' to learn more about interactive tables.';\n",
              "        element.innerHTML = '';\n",
              "        dataTable['output_type'] = 'display_data';\n",
              "        await google.colab.output.renderOutput(dataTable, element);\n",
              "        const docLink = document.createElement('div');\n",
              "        docLink.innerHTML = docLinkHtml;\n",
              "        element.appendChild(docLink);\n",
              "      }\n",
              "    </script>\n",
              "  </div>\n",
              "\n",
              "\n",
              "<div id=\"df-2d874ac4-29e9-43d9-9709-73c4d6ea1456\">\n",
              "  <button class=\"colab-df-quickchart\" onclick=\"quickchart('df-2d874ac4-29e9-43d9-9709-73c4d6ea1456')\"\n",
              "            title=\"Suggest charts\"\n",
              "            style=\"display:none;\">\n",
              "\n",
              "<svg xmlns=\"http://www.w3.org/2000/svg\" height=\"24px\"viewBox=\"0 0 24 24\"\n",
              "     width=\"24px\">\n",
              "    <g>\n",
              "        <path d=\"M19 3H5c-1.1 0-2 .9-2 2v14c0 1.1.9 2 2 2h14c1.1 0 2-.9 2-2V5c0-1.1-.9-2-2-2zM9 17H7v-7h2v7zm4 0h-2V7h2v10zm4 0h-2v-4h2v4z\"/>\n",
              "    </g>\n",
              "</svg>\n",
              "  </button>\n",
              "\n",
              "<style>\n",
              "  .colab-df-quickchart {\n",
              "      --bg-color: #E8F0FE;\n",
              "      --fill-color: #1967D2;\n",
              "      --hover-bg-color: #E2EBFA;\n",
              "      --hover-fill-color: #174EA6;\n",
              "      --disabled-fill-color: #AAA;\n",
              "      --disabled-bg-color: #DDD;\n",
              "  }\n",
              "\n",
              "  [theme=dark] .colab-df-quickchart {\n",
              "      --bg-color: #3B4455;\n",
              "      --fill-color: #D2E3FC;\n",
              "      --hover-bg-color: #434B5C;\n",
              "      --hover-fill-color: #FFFFFF;\n",
              "      --disabled-bg-color: #3B4455;\n",
              "      --disabled-fill-color: #666;\n",
              "  }\n",
              "\n",
              "  .colab-df-quickchart {\n",
              "    background-color: var(--bg-color);\n",
              "    border: none;\n",
              "    border-radius: 50%;\n",
              "    cursor: pointer;\n",
              "    display: none;\n",
              "    fill: var(--fill-color);\n",
              "    height: 32px;\n",
              "    padding: 0;\n",
              "    width: 32px;\n",
              "  }\n",
              "\n",
              "  .colab-df-quickchart:hover {\n",
              "    background-color: var(--hover-bg-color);\n",
              "    box-shadow: 0 1px 2px rgba(60, 64, 67, 0.3), 0 1px 3px 1px rgba(60, 64, 67, 0.15);\n",
              "    fill: var(--button-hover-fill-color);\n",
              "  }\n",
              "\n",
              "  .colab-df-quickchart-complete:disabled,\n",
              "  .colab-df-quickchart-complete:disabled:hover {\n",
              "    background-color: var(--disabled-bg-color);\n",
              "    fill: var(--disabled-fill-color);\n",
              "    box-shadow: none;\n",
              "  }\n",
              "\n",
              "  .colab-df-spinner {\n",
              "    border: 2px solid var(--fill-color);\n",
              "    border-color: transparent;\n",
              "    border-bottom-color: var(--fill-color);\n",
              "    animation:\n",
              "      spin 1s steps(1) infinite;\n",
              "  }\n",
              "\n",
              "  @keyframes spin {\n",
              "    0% {\n",
              "      border-color: transparent;\n",
              "      border-bottom-color: var(--fill-color);\n",
              "      border-left-color: var(--fill-color);\n",
              "    }\n",
              "    20% {\n",
              "      border-color: transparent;\n",
              "      border-left-color: var(--fill-color);\n",
              "      border-top-color: var(--fill-color);\n",
              "    }\n",
              "    30% {\n",
              "      border-color: transparent;\n",
              "      border-left-color: var(--fill-color);\n",
              "      border-top-color: var(--fill-color);\n",
              "      border-right-color: var(--fill-color);\n",
              "    }\n",
              "    40% {\n",
              "      border-color: transparent;\n",
              "      border-right-color: var(--fill-color);\n",
              "      border-top-color: var(--fill-color);\n",
              "    }\n",
              "    60% {\n",
              "      border-color: transparent;\n",
              "      border-right-color: var(--fill-color);\n",
              "    }\n",
              "    80% {\n",
              "      border-color: transparent;\n",
              "      border-right-color: var(--fill-color);\n",
              "      border-bottom-color: var(--fill-color);\n",
              "    }\n",
              "    90% {\n",
              "      border-color: transparent;\n",
              "      border-bottom-color: var(--fill-color);\n",
              "    }\n",
              "  }\n",
              "</style>\n",
              "\n",
              "  <script>\n",
              "    async function quickchart(key) {\n",
              "      const quickchartButtonEl =\n",
              "        document.querySelector('#' + key + ' button');\n",
              "      quickchartButtonEl.disabled = true;  // To prevent multiple clicks.\n",
              "      quickchartButtonEl.classList.add('colab-df-spinner');\n",
              "      try {\n",
              "        const charts = await google.colab.kernel.invokeFunction(\n",
              "            'suggestCharts', [key], {});\n",
              "      } catch (error) {\n",
              "        console.error('Error during call to suggestCharts:', error);\n",
              "      }\n",
              "      quickchartButtonEl.classList.remove('colab-df-spinner');\n",
              "      quickchartButtonEl.classList.add('colab-df-quickchart-complete');\n",
              "    }\n",
              "    (() => {\n",
              "      let quickchartButtonEl =\n",
              "        document.querySelector('#df-2d874ac4-29e9-43d9-9709-73c4d6ea1456 button');\n",
              "      quickchartButtonEl.style.display =\n",
              "        google.colab.kernel.accessAllowed ? 'block' : 'none';\n",
              "    })();\n",
              "  </script>\n",
              "</div>\n",
              "    </div>\n",
              "  </div>\n"
            ],
            "application/vnd.google.colaboratory.intrinsic+json": {
              "type": "dataframe",
              "variable_name": "df_heart"
            }
          },
          "metadata": {},
          "execution_count": 17
        }
      ]
    },
    {
      "cell_type": "code",
      "source": [
        "df_heart.tail(5)"
      ],
      "metadata": {
        "colab": {
          "base_uri": "https://localhost:8080/",
          "height": 429
        },
        "id": "ld0L7QjA7jlx",
        "outputId": "c1931025-f898-4812-baea-9026004dbbe7"
      },
      "execution_count": 18,
      "outputs": [
        {
          "output_type": "execute_result",
          "data": {
            "text/plain": [
              "           Sex GeneralHealth  PhysicalHealthDays  \\\n",
              "445123  Female          Fair                 0.0   \n",
              "445124    Male          Good                 0.0   \n",
              "445126    Male          Good                 0.0   \n",
              "445128  Female     Excellent                 2.0   \n",
              "445130    Male     Very good                 0.0   \n",
              "\n",
              "                                          LastCheckupTime PhysicalActivities  \\\n",
              "445123  Within past year (anytime less than 12 months ...                Yes   \n",
              "445124  Within past year (anytime less than 12 months ...                Yes   \n",
              "445126  Within past 2 years (1 year but less than 2 ye...                Yes   \n",
              "445128  Within past year (anytime less than 12 months ...                Yes   \n",
              "445130  Within past year (anytime less than 12 months ...                 No   \n",
              "\n",
              "        SleepHours HadHeartAttack HadAngina HadStroke HadAsthma  ...  \\\n",
              "445123         7.0             No        No        No        No  ...   \n",
              "445124         7.0             No        No       Yes        No  ...   \n",
              "445126         8.0             No        No        No        No  ...   \n",
              "445128         7.0             No        No        No        No  ...   \n",
              "445130         5.0            Yes        No        No       Yes  ...   \n",
              "\n",
              "       HadKidneyDisease HadDiabetes DifficultyWalking  SmokerStatus  \\\n",
              "445123               No          No                No  Never smoked   \n",
              "445124               No         Yes                No  Never smoked   \n",
              "445126               No          No                No  Never smoked   \n",
              "445128               No          No                No  Never smoked   \n",
              "445130               No          No                No  Never smoked   \n",
              "\n",
              "                                  ECigaretteUsage ChestScan   AgeCategory  \\\n",
              "445123  Never used e-cigarettes in my entire life        No  Age 25 to 29   \n",
              "445124  Never used e-cigarettes in my entire life        No  Age 65 to 69   \n",
              "445126  Never used e-cigarettes in my entire life        No  Age 30 to 34   \n",
              "445128  Never used e-cigarettes in my entire life        No  Age 50 to 54   \n",
              "445130  Never used e-cigarettes in my entire life       Yes  Age 70 to 74   \n",
              "\n",
              "          BMI AlcoholDrinkers  FluVaxLast12  \n",
              "445123  24.34              No            No  \n",
              "445124  29.86             Yes           Yes  \n",
              "445126  31.19             Yes            No  \n",
              "445128  28.66              No           Yes  \n",
              "445130  32.55              No           Yes  \n",
              "\n",
              "[5 rows x 22 columns]"
            ],
            "text/html": [
              "\n",
              "  <div id=\"df-1e25611f-c17f-4fa7-8b79-f488dca65f63\" class=\"colab-df-container\">\n",
              "    <div>\n",
              "<style scoped>\n",
              "    .dataframe tbody tr th:only-of-type {\n",
              "        vertical-align: middle;\n",
              "    }\n",
              "\n",
              "    .dataframe tbody tr th {\n",
              "        vertical-align: top;\n",
              "    }\n",
              "\n",
              "    .dataframe thead th {\n",
              "        text-align: right;\n",
              "    }\n",
              "</style>\n",
              "<table border=\"1\" class=\"dataframe\">\n",
              "  <thead>\n",
              "    <tr style=\"text-align: right;\">\n",
              "      <th></th>\n",
              "      <th>Sex</th>\n",
              "      <th>GeneralHealth</th>\n",
              "      <th>PhysicalHealthDays</th>\n",
              "      <th>LastCheckupTime</th>\n",
              "      <th>PhysicalActivities</th>\n",
              "      <th>SleepHours</th>\n",
              "      <th>HadHeartAttack</th>\n",
              "      <th>HadAngina</th>\n",
              "      <th>HadStroke</th>\n",
              "      <th>HadAsthma</th>\n",
              "      <th>...</th>\n",
              "      <th>HadKidneyDisease</th>\n",
              "      <th>HadDiabetes</th>\n",
              "      <th>DifficultyWalking</th>\n",
              "      <th>SmokerStatus</th>\n",
              "      <th>ECigaretteUsage</th>\n",
              "      <th>ChestScan</th>\n",
              "      <th>AgeCategory</th>\n",
              "      <th>BMI</th>\n",
              "      <th>AlcoholDrinkers</th>\n",
              "      <th>FluVaxLast12</th>\n",
              "    </tr>\n",
              "  </thead>\n",
              "  <tbody>\n",
              "    <tr>\n",
              "      <th>445123</th>\n",
              "      <td>Female</td>\n",
              "      <td>Fair</td>\n",
              "      <td>0.0</td>\n",
              "      <td>Within past year (anytime less than 12 months ...</td>\n",
              "      <td>Yes</td>\n",
              "      <td>7.0</td>\n",
              "      <td>No</td>\n",
              "      <td>No</td>\n",
              "      <td>No</td>\n",
              "      <td>No</td>\n",
              "      <td>...</td>\n",
              "      <td>No</td>\n",
              "      <td>No</td>\n",
              "      <td>No</td>\n",
              "      <td>Never smoked</td>\n",
              "      <td>Never used e-cigarettes in my entire life</td>\n",
              "      <td>No</td>\n",
              "      <td>Age 25 to 29</td>\n",
              "      <td>24.34</td>\n",
              "      <td>No</td>\n",
              "      <td>No</td>\n",
              "    </tr>\n",
              "    <tr>\n",
              "      <th>445124</th>\n",
              "      <td>Male</td>\n",
              "      <td>Good</td>\n",
              "      <td>0.0</td>\n",
              "      <td>Within past year (anytime less than 12 months ...</td>\n",
              "      <td>Yes</td>\n",
              "      <td>7.0</td>\n",
              "      <td>No</td>\n",
              "      <td>No</td>\n",
              "      <td>Yes</td>\n",
              "      <td>No</td>\n",
              "      <td>...</td>\n",
              "      <td>No</td>\n",
              "      <td>Yes</td>\n",
              "      <td>No</td>\n",
              "      <td>Never smoked</td>\n",
              "      <td>Never used e-cigarettes in my entire life</td>\n",
              "      <td>No</td>\n",
              "      <td>Age 65 to 69</td>\n",
              "      <td>29.86</td>\n",
              "      <td>Yes</td>\n",
              "      <td>Yes</td>\n",
              "    </tr>\n",
              "    <tr>\n",
              "      <th>445126</th>\n",
              "      <td>Male</td>\n",
              "      <td>Good</td>\n",
              "      <td>0.0</td>\n",
              "      <td>Within past 2 years (1 year but less than 2 ye...</td>\n",
              "      <td>Yes</td>\n",
              "      <td>8.0</td>\n",
              "      <td>No</td>\n",
              "      <td>No</td>\n",
              "      <td>No</td>\n",
              "      <td>No</td>\n",
              "      <td>...</td>\n",
              "      <td>No</td>\n",
              "      <td>No</td>\n",
              "      <td>No</td>\n",
              "      <td>Never smoked</td>\n",
              "      <td>Never used e-cigarettes in my entire life</td>\n",
              "      <td>No</td>\n",
              "      <td>Age 30 to 34</td>\n",
              "      <td>31.19</td>\n",
              "      <td>Yes</td>\n",
              "      <td>No</td>\n",
              "    </tr>\n",
              "    <tr>\n",
              "      <th>445128</th>\n",
              "      <td>Female</td>\n",
              "      <td>Excellent</td>\n",
              "      <td>2.0</td>\n",
              "      <td>Within past year (anytime less than 12 months ...</td>\n",
              "      <td>Yes</td>\n",
              "      <td>7.0</td>\n",
              "      <td>No</td>\n",
              "      <td>No</td>\n",
              "      <td>No</td>\n",
              "      <td>No</td>\n",
              "      <td>...</td>\n",
              "      <td>No</td>\n",
              "      <td>No</td>\n",
              "      <td>No</td>\n",
              "      <td>Never smoked</td>\n",
              "      <td>Never used e-cigarettes in my entire life</td>\n",
              "      <td>No</td>\n",
              "      <td>Age 50 to 54</td>\n",
              "      <td>28.66</td>\n",
              "      <td>No</td>\n",
              "      <td>Yes</td>\n",
              "    </tr>\n",
              "    <tr>\n",
              "      <th>445130</th>\n",
              "      <td>Male</td>\n",
              "      <td>Very good</td>\n",
              "      <td>0.0</td>\n",
              "      <td>Within past year (anytime less than 12 months ...</td>\n",
              "      <td>No</td>\n",
              "      <td>5.0</td>\n",
              "      <td>Yes</td>\n",
              "      <td>No</td>\n",
              "      <td>No</td>\n",
              "      <td>Yes</td>\n",
              "      <td>...</td>\n",
              "      <td>No</td>\n",
              "      <td>No</td>\n",
              "      <td>No</td>\n",
              "      <td>Never smoked</td>\n",
              "      <td>Never used e-cigarettes in my entire life</td>\n",
              "      <td>Yes</td>\n",
              "      <td>Age 70 to 74</td>\n",
              "      <td>32.55</td>\n",
              "      <td>No</td>\n",
              "      <td>Yes</td>\n",
              "    </tr>\n",
              "  </tbody>\n",
              "</table>\n",
              "<p>5 rows × 22 columns</p>\n",
              "</div>\n",
              "    <div class=\"colab-df-buttons\">\n",
              "\n",
              "  <div class=\"colab-df-container\">\n",
              "    <button class=\"colab-df-convert\" onclick=\"convertToInteractive('df-1e25611f-c17f-4fa7-8b79-f488dca65f63')\"\n",
              "            title=\"Convert this dataframe to an interactive table.\"\n",
              "            style=\"display:none;\">\n",
              "\n",
              "  <svg xmlns=\"http://www.w3.org/2000/svg\" height=\"24px\" viewBox=\"0 -960 960 960\">\n",
              "    <path d=\"M120-120v-720h720v720H120Zm60-500h600v-160H180v160Zm220 220h160v-160H400v160Zm0 220h160v-160H400v160ZM180-400h160v-160H180v160Zm440 0h160v-160H620v160ZM180-180h160v-160H180v160Zm440 0h160v-160H620v160Z\"/>\n",
              "  </svg>\n",
              "    </button>\n",
              "\n",
              "  <style>\n",
              "    .colab-df-container {\n",
              "      display:flex;\n",
              "      gap: 12px;\n",
              "    }\n",
              "\n",
              "    .colab-df-convert {\n",
              "      background-color: #E8F0FE;\n",
              "      border: none;\n",
              "      border-radius: 50%;\n",
              "      cursor: pointer;\n",
              "      display: none;\n",
              "      fill: #1967D2;\n",
              "      height: 32px;\n",
              "      padding: 0 0 0 0;\n",
              "      width: 32px;\n",
              "    }\n",
              "\n",
              "    .colab-df-convert:hover {\n",
              "      background-color: #E2EBFA;\n",
              "      box-shadow: 0px 1px 2px rgba(60, 64, 67, 0.3), 0px 1px 3px 1px rgba(60, 64, 67, 0.15);\n",
              "      fill: #174EA6;\n",
              "    }\n",
              "\n",
              "    .colab-df-buttons div {\n",
              "      margin-bottom: 4px;\n",
              "    }\n",
              "\n",
              "    [theme=dark] .colab-df-convert {\n",
              "      background-color: #3B4455;\n",
              "      fill: #D2E3FC;\n",
              "    }\n",
              "\n",
              "    [theme=dark] .colab-df-convert:hover {\n",
              "      background-color: #434B5C;\n",
              "      box-shadow: 0px 1px 3px 1px rgba(0, 0, 0, 0.15);\n",
              "      filter: drop-shadow(0px 1px 2px rgba(0, 0, 0, 0.3));\n",
              "      fill: #FFFFFF;\n",
              "    }\n",
              "  </style>\n",
              "\n",
              "    <script>\n",
              "      const buttonEl =\n",
              "        document.querySelector('#df-1e25611f-c17f-4fa7-8b79-f488dca65f63 button.colab-df-convert');\n",
              "      buttonEl.style.display =\n",
              "        google.colab.kernel.accessAllowed ? 'block' : 'none';\n",
              "\n",
              "      async function convertToInteractive(key) {\n",
              "        const element = document.querySelector('#df-1e25611f-c17f-4fa7-8b79-f488dca65f63');\n",
              "        const dataTable =\n",
              "          await google.colab.kernel.invokeFunction('convertToInteractive',\n",
              "                                                    [key], {});\n",
              "        if (!dataTable) return;\n",
              "\n",
              "        const docLinkHtml = 'Like what you see? Visit the ' +\n",
              "          '<a target=\"_blank\" href=https://colab.research.google.com/notebooks/data_table.ipynb>data table notebook</a>'\n",
              "          + ' to learn more about interactive tables.';\n",
              "        element.innerHTML = '';\n",
              "        dataTable['output_type'] = 'display_data';\n",
              "        await google.colab.output.renderOutput(dataTable, element);\n",
              "        const docLink = document.createElement('div');\n",
              "        docLink.innerHTML = docLinkHtml;\n",
              "        element.appendChild(docLink);\n",
              "      }\n",
              "    </script>\n",
              "  </div>\n",
              "\n",
              "\n",
              "<div id=\"df-06f26660-6570-4037-9bfd-61f573255bc5\">\n",
              "  <button class=\"colab-df-quickchart\" onclick=\"quickchart('df-06f26660-6570-4037-9bfd-61f573255bc5')\"\n",
              "            title=\"Suggest charts\"\n",
              "            style=\"display:none;\">\n",
              "\n",
              "<svg xmlns=\"http://www.w3.org/2000/svg\" height=\"24px\"viewBox=\"0 0 24 24\"\n",
              "     width=\"24px\">\n",
              "    <g>\n",
              "        <path d=\"M19 3H5c-1.1 0-2 .9-2 2v14c0 1.1.9 2 2 2h14c1.1 0 2-.9 2-2V5c0-1.1-.9-2-2-2zM9 17H7v-7h2v7zm4 0h-2V7h2v10zm4 0h-2v-4h2v4z\"/>\n",
              "    </g>\n",
              "</svg>\n",
              "  </button>\n",
              "\n",
              "<style>\n",
              "  .colab-df-quickchart {\n",
              "      --bg-color: #E8F0FE;\n",
              "      --fill-color: #1967D2;\n",
              "      --hover-bg-color: #E2EBFA;\n",
              "      --hover-fill-color: #174EA6;\n",
              "      --disabled-fill-color: #AAA;\n",
              "      --disabled-bg-color: #DDD;\n",
              "  }\n",
              "\n",
              "  [theme=dark] .colab-df-quickchart {\n",
              "      --bg-color: #3B4455;\n",
              "      --fill-color: #D2E3FC;\n",
              "      --hover-bg-color: #434B5C;\n",
              "      --hover-fill-color: #FFFFFF;\n",
              "      --disabled-bg-color: #3B4455;\n",
              "      --disabled-fill-color: #666;\n",
              "  }\n",
              "\n",
              "  .colab-df-quickchart {\n",
              "    background-color: var(--bg-color);\n",
              "    border: none;\n",
              "    border-radius: 50%;\n",
              "    cursor: pointer;\n",
              "    display: none;\n",
              "    fill: var(--fill-color);\n",
              "    height: 32px;\n",
              "    padding: 0;\n",
              "    width: 32px;\n",
              "  }\n",
              "\n",
              "  .colab-df-quickchart:hover {\n",
              "    background-color: var(--hover-bg-color);\n",
              "    box-shadow: 0 1px 2px rgba(60, 64, 67, 0.3), 0 1px 3px 1px rgba(60, 64, 67, 0.15);\n",
              "    fill: var(--button-hover-fill-color);\n",
              "  }\n",
              "\n",
              "  .colab-df-quickchart-complete:disabled,\n",
              "  .colab-df-quickchart-complete:disabled:hover {\n",
              "    background-color: var(--disabled-bg-color);\n",
              "    fill: var(--disabled-fill-color);\n",
              "    box-shadow: none;\n",
              "  }\n",
              "\n",
              "  .colab-df-spinner {\n",
              "    border: 2px solid var(--fill-color);\n",
              "    border-color: transparent;\n",
              "    border-bottom-color: var(--fill-color);\n",
              "    animation:\n",
              "      spin 1s steps(1) infinite;\n",
              "  }\n",
              "\n",
              "  @keyframes spin {\n",
              "    0% {\n",
              "      border-color: transparent;\n",
              "      border-bottom-color: var(--fill-color);\n",
              "      border-left-color: var(--fill-color);\n",
              "    }\n",
              "    20% {\n",
              "      border-color: transparent;\n",
              "      border-left-color: var(--fill-color);\n",
              "      border-top-color: var(--fill-color);\n",
              "    }\n",
              "    30% {\n",
              "      border-color: transparent;\n",
              "      border-left-color: var(--fill-color);\n",
              "      border-top-color: var(--fill-color);\n",
              "      border-right-color: var(--fill-color);\n",
              "    }\n",
              "    40% {\n",
              "      border-color: transparent;\n",
              "      border-right-color: var(--fill-color);\n",
              "      border-top-color: var(--fill-color);\n",
              "    }\n",
              "    60% {\n",
              "      border-color: transparent;\n",
              "      border-right-color: var(--fill-color);\n",
              "    }\n",
              "    80% {\n",
              "      border-color: transparent;\n",
              "      border-right-color: var(--fill-color);\n",
              "      border-bottom-color: var(--fill-color);\n",
              "    }\n",
              "    90% {\n",
              "      border-color: transparent;\n",
              "      border-bottom-color: var(--fill-color);\n",
              "    }\n",
              "  }\n",
              "</style>\n",
              "\n",
              "  <script>\n",
              "    async function quickchart(key) {\n",
              "      const quickchartButtonEl =\n",
              "        document.querySelector('#' + key + ' button');\n",
              "      quickchartButtonEl.disabled = true;  // To prevent multiple clicks.\n",
              "      quickchartButtonEl.classList.add('colab-df-spinner');\n",
              "      try {\n",
              "        const charts = await google.colab.kernel.invokeFunction(\n",
              "            'suggestCharts', [key], {});\n",
              "      } catch (error) {\n",
              "        console.error('Error during call to suggestCharts:', error);\n",
              "      }\n",
              "      quickchartButtonEl.classList.remove('colab-df-spinner');\n",
              "      quickchartButtonEl.classList.add('colab-df-quickchart-complete');\n",
              "    }\n",
              "    (() => {\n",
              "      let quickchartButtonEl =\n",
              "        document.querySelector('#df-06f26660-6570-4037-9bfd-61f573255bc5 button');\n",
              "      quickchartButtonEl.style.display =\n",
              "        google.colab.kernel.accessAllowed ? 'block' : 'none';\n",
              "    })();\n",
              "  </script>\n",
              "</div>\n",
              "    </div>\n",
              "  </div>\n"
            ],
            "application/vnd.google.colaboratory.intrinsic+json": {
              "type": "dataframe"
            }
          },
          "metadata": {},
          "execution_count": 18
        }
      ]
    },
    {
      "cell_type": "code",
      "source": [
        "#Reindexing the rows\n",
        "df_heart = df_heart.reset_index(drop=True)"
      ],
      "metadata": {
        "id": "PD7dgbMY7nbe"
      },
      "execution_count": 19,
      "outputs": []
    },
    {
      "cell_type": "markdown",
      "source": [
        "Now that the data is clean, we can do some exploratory data analysis"
      ],
      "metadata": {
        "id": "7BeaVdz_76R9"
      }
    },
    {
      "cell_type": "code",
      "source": [
        "df_heart.shape"
      ],
      "metadata": {
        "colab": {
          "base_uri": "https://localhost:8080/"
        },
        "id": "3aMZIEhhAcic",
        "outputId": "b2d238db-988b-48d3-fb2f-2ab3b9f49fc6"
      },
      "execution_count": 20,
      "outputs": [
        {
          "output_type": "execute_result",
          "data": {
            "text/plain": [
              "(343181, 22)"
            ]
          },
          "metadata": {},
          "execution_count": 20
        }
      ]
    },
    {
      "cell_type": "code",
      "source": [
        "df_heart.describe()"
      ],
      "metadata": {
        "colab": {
          "base_uri": "https://localhost:8080/",
          "height": 300
        },
        "id": "6x5DKkw_AiF6",
        "outputId": "cb61e98e-0768-47ca-c6c6-d3887208abc7"
      },
      "execution_count": 21,
      "outputs": [
        {
          "output_type": "execute_result",
          "data": {
            "text/plain": [
              "       PhysicalHealthDays     SleepHours            BMI\n",
              "count       343181.000000  343181.000000  343181.000000\n",
              "mean             4.215012       7.021741      28.578539\n",
              "std              8.516457       1.446634       6.336259\n",
              "min              0.000000       1.000000      12.020000\n",
              "25%              0.000000       6.000000      24.370000\n",
              "50%              0.000000       7.000000      27.940000\n",
              "75%              3.000000       8.000000      31.410000\n",
              "max             30.000000      24.000000      97.650000"
            ],
            "text/html": [
              "\n",
              "  <div id=\"df-4518a5b2-8d07-49cb-9e6a-ed9c813a7deb\" class=\"colab-df-container\">\n",
              "    <div>\n",
              "<style scoped>\n",
              "    .dataframe tbody tr th:only-of-type {\n",
              "        vertical-align: middle;\n",
              "    }\n",
              "\n",
              "    .dataframe tbody tr th {\n",
              "        vertical-align: top;\n",
              "    }\n",
              "\n",
              "    .dataframe thead th {\n",
              "        text-align: right;\n",
              "    }\n",
              "</style>\n",
              "<table border=\"1\" class=\"dataframe\">\n",
              "  <thead>\n",
              "    <tr style=\"text-align: right;\">\n",
              "      <th></th>\n",
              "      <th>PhysicalHealthDays</th>\n",
              "      <th>SleepHours</th>\n",
              "      <th>BMI</th>\n",
              "    </tr>\n",
              "  </thead>\n",
              "  <tbody>\n",
              "    <tr>\n",
              "      <th>count</th>\n",
              "      <td>343181.000000</td>\n",
              "      <td>343181.000000</td>\n",
              "      <td>343181.000000</td>\n",
              "    </tr>\n",
              "    <tr>\n",
              "      <th>mean</th>\n",
              "      <td>4.215012</td>\n",
              "      <td>7.021741</td>\n",
              "      <td>28.578539</td>\n",
              "    </tr>\n",
              "    <tr>\n",
              "      <th>std</th>\n",
              "      <td>8.516457</td>\n",
              "      <td>1.446634</td>\n",
              "      <td>6.336259</td>\n",
              "    </tr>\n",
              "    <tr>\n",
              "      <th>min</th>\n",
              "      <td>0.000000</td>\n",
              "      <td>1.000000</td>\n",
              "      <td>12.020000</td>\n",
              "    </tr>\n",
              "    <tr>\n",
              "      <th>25%</th>\n",
              "      <td>0.000000</td>\n",
              "      <td>6.000000</td>\n",
              "      <td>24.370000</td>\n",
              "    </tr>\n",
              "    <tr>\n",
              "      <th>50%</th>\n",
              "      <td>0.000000</td>\n",
              "      <td>7.000000</td>\n",
              "      <td>27.940000</td>\n",
              "    </tr>\n",
              "    <tr>\n",
              "      <th>75%</th>\n",
              "      <td>3.000000</td>\n",
              "      <td>8.000000</td>\n",
              "      <td>31.410000</td>\n",
              "    </tr>\n",
              "    <tr>\n",
              "      <th>max</th>\n",
              "      <td>30.000000</td>\n",
              "      <td>24.000000</td>\n",
              "      <td>97.650000</td>\n",
              "    </tr>\n",
              "  </tbody>\n",
              "</table>\n",
              "</div>\n",
              "    <div class=\"colab-df-buttons\">\n",
              "\n",
              "  <div class=\"colab-df-container\">\n",
              "    <button class=\"colab-df-convert\" onclick=\"convertToInteractive('df-4518a5b2-8d07-49cb-9e6a-ed9c813a7deb')\"\n",
              "            title=\"Convert this dataframe to an interactive table.\"\n",
              "            style=\"display:none;\">\n",
              "\n",
              "  <svg xmlns=\"http://www.w3.org/2000/svg\" height=\"24px\" viewBox=\"0 -960 960 960\">\n",
              "    <path d=\"M120-120v-720h720v720H120Zm60-500h600v-160H180v160Zm220 220h160v-160H400v160Zm0 220h160v-160H400v160ZM180-400h160v-160H180v160Zm440 0h160v-160H620v160ZM180-180h160v-160H180v160Zm440 0h160v-160H620v160Z\"/>\n",
              "  </svg>\n",
              "    </button>\n",
              "\n",
              "  <style>\n",
              "    .colab-df-container {\n",
              "      display:flex;\n",
              "      gap: 12px;\n",
              "    }\n",
              "\n",
              "    .colab-df-convert {\n",
              "      background-color: #E8F0FE;\n",
              "      border: none;\n",
              "      border-radius: 50%;\n",
              "      cursor: pointer;\n",
              "      display: none;\n",
              "      fill: #1967D2;\n",
              "      height: 32px;\n",
              "      padding: 0 0 0 0;\n",
              "      width: 32px;\n",
              "    }\n",
              "\n",
              "    .colab-df-convert:hover {\n",
              "      background-color: #E2EBFA;\n",
              "      box-shadow: 0px 1px 2px rgba(60, 64, 67, 0.3), 0px 1px 3px 1px rgba(60, 64, 67, 0.15);\n",
              "      fill: #174EA6;\n",
              "    }\n",
              "\n",
              "    .colab-df-buttons div {\n",
              "      margin-bottom: 4px;\n",
              "    }\n",
              "\n",
              "    [theme=dark] .colab-df-convert {\n",
              "      background-color: #3B4455;\n",
              "      fill: #D2E3FC;\n",
              "    }\n",
              "\n",
              "    [theme=dark] .colab-df-convert:hover {\n",
              "      background-color: #434B5C;\n",
              "      box-shadow: 0px 1px 3px 1px rgba(0, 0, 0, 0.15);\n",
              "      filter: drop-shadow(0px 1px 2px rgba(0, 0, 0, 0.3));\n",
              "      fill: #FFFFFF;\n",
              "    }\n",
              "  </style>\n",
              "\n",
              "    <script>\n",
              "      const buttonEl =\n",
              "        document.querySelector('#df-4518a5b2-8d07-49cb-9e6a-ed9c813a7deb button.colab-df-convert');\n",
              "      buttonEl.style.display =\n",
              "        google.colab.kernel.accessAllowed ? 'block' : 'none';\n",
              "\n",
              "      async function convertToInteractive(key) {\n",
              "        const element = document.querySelector('#df-4518a5b2-8d07-49cb-9e6a-ed9c813a7deb');\n",
              "        const dataTable =\n",
              "          await google.colab.kernel.invokeFunction('convertToInteractive',\n",
              "                                                    [key], {});\n",
              "        if (!dataTable) return;\n",
              "\n",
              "        const docLinkHtml = 'Like what you see? Visit the ' +\n",
              "          '<a target=\"_blank\" href=https://colab.research.google.com/notebooks/data_table.ipynb>data table notebook</a>'\n",
              "          + ' to learn more about interactive tables.';\n",
              "        element.innerHTML = '';\n",
              "        dataTable['output_type'] = 'display_data';\n",
              "        await google.colab.output.renderOutput(dataTable, element);\n",
              "        const docLink = document.createElement('div');\n",
              "        docLink.innerHTML = docLinkHtml;\n",
              "        element.appendChild(docLink);\n",
              "      }\n",
              "    </script>\n",
              "  </div>\n",
              "\n",
              "\n",
              "<div id=\"df-2a767305-132c-4825-978b-de402596e60e\">\n",
              "  <button class=\"colab-df-quickchart\" onclick=\"quickchart('df-2a767305-132c-4825-978b-de402596e60e')\"\n",
              "            title=\"Suggest charts\"\n",
              "            style=\"display:none;\">\n",
              "\n",
              "<svg xmlns=\"http://www.w3.org/2000/svg\" height=\"24px\"viewBox=\"0 0 24 24\"\n",
              "     width=\"24px\">\n",
              "    <g>\n",
              "        <path d=\"M19 3H5c-1.1 0-2 .9-2 2v14c0 1.1.9 2 2 2h14c1.1 0 2-.9 2-2V5c0-1.1-.9-2-2-2zM9 17H7v-7h2v7zm4 0h-2V7h2v10zm4 0h-2v-4h2v4z\"/>\n",
              "    </g>\n",
              "</svg>\n",
              "  </button>\n",
              "\n",
              "<style>\n",
              "  .colab-df-quickchart {\n",
              "      --bg-color: #E8F0FE;\n",
              "      --fill-color: #1967D2;\n",
              "      --hover-bg-color: #E2EBFA;\n",
              "      --hover-fill-color: #174EA6;\n",
              "      --disabled-fill-color: #AAA;\n",
              "      --disabled-bg-color: #DDD;\n",
              "  }\n",
              "\n",
              "  [theme=dark] .colab-df-quickchart {\n",
              "      --bg-color: #3B4455;\n",
              "      --fill-color: #D2E3FC;\n",
              "      --hover-bg-color: #434B5C;\n",
              "      --hover-fill-color: #FFFFFF;\n",
              "      --disabled-bg-color: #3B4455;\n",
              "      --disabled-fill-color: #666;\n",
              "  }\n",
              "\n",
              "  .colab-df-quickchart {\n",
              "    background-color: var(--bg-color);\n",
              "    border: none;\n",
              "    border-radius: 50%;\n",
              "    cursor: pointer;\n",
              "    display: none;\n",
              "    fill: var(--fill-color);\n",
              "    height: 32px;\n",
              "    padding: 0;\n",
              "    width: 32px;\n",
              "  }\n",
              "\n",
              "  .colab-df-quickchart:hover {\n",
              "    background-color: var(--hover-bg-color);\n",
              "    box-shadow: 0 1px 2px rgba(60, 64, 67, 0.3), 0 1px 3px 1px rgba(60, 64, 67, 0.15);\n",
              "    fill: var(--button-hover-fill-color);\n",
              "  }\n",
              "\n",
              "  .colab-df-quickchart-complete:disabled,\n",
              "  .colab-df-quickchart-complete:disabled:hover {\n",
              "    background-color: var(--disabled-bg-color);\n",
              "    fill: var(--disabled-fill-color);\n",
              "    box-shadow: none;\n",
              "  }\n",
              "\n",
              "  .colab-df-spinner {\n",
              "    border: 2px solid var(--fill-color);\n",
              "    border-color: transparent;\n",
              "    border-bottom-color: var(--fill-color);\n",
              "    animation:\n",
              "      spin 1s steps(1) infinite;\n",
              "  }\n",
              "\n",
              "  @keyframes spin {\n",
              "    0% {\n",
              "      border-color: transparent;\n",
              "      border-bottom-color: var(--fill-color);\n",
              "      border-left-color: var(--fill-color);\n",
              "    }\n",
              "    20% {\n",
              "      border-color: transparent;\n",
              "      border-left-color: var(--fill-color);\n",
              "      border-top-color: var(--fill-color);\n",
              "    }\n",
              "    30% {\n",
              "      border-color: transparent;\n",
              "      border-left-color: var(--fill-color);\n",
              "      border-top-color: var(--fill-color);\n",
              "      border-right-color: var(--fill-color);\n",
              "    }\n",
              "    40% {\n",
              "      border-color: transparent;\n",
              "      border-right-color: var(--fill-color);\n",
              "      border-top-color: var(--fill-color);\n",
              "    }\n",
              "    60% {\n",
              "      border-color: transparent;\n",
              "      border-right-color: var(--fill-color);\n",
              "    }\n",
              "    80% {\n",
              "      border-color: transparent;\n",
              "      border-right-color: var(--fill-color);\n",
              "      border-bottom-color: var(--fill-color);\n",
              "    }\n",
              "    90% {\n",
              "      border-color: transparent;\n",
              "      border-bottom-color: var(--fill-color);\n",
              "    }\n",
              "  }\n",
              "</style>\n",
              "\n",
              "  <script>\n",
              "    async function quickchart(key) {\n",
              "      const quickchartButtonEl =\n",
              "        document.querySelector('#' + key + ' button');\n",
              "      quickchartButtonEl.disabled = true;  // To prevent multiple clicks.\n",
              "      quickchartButtonEl.classList.add('colab-df-spinner');\n",
              "      try {\n",
              "        const charts = await google.colab.kernel.invokeFunction(\n",
              "            'suggestCharts', [key], {});\n",
              "      } catch (error) {\n",
              "        console.error('Error during call to suggestCharts:', error);\n",
              "      }\n",
              "      quickchartButtonEl.classList.remove('colab-df-spinner');\n",
              "      quickchartButtonEl.classList.add('colab-df-quickchart-complete');\n",
              "    }\n",
              "    (() => {\n",
              "      let quickchartButtonEl =\n",
              "        document.querySelector('#df-2a767305-132c-4825-978b-de402596e60e button');\n",
              "      quickchartButtonEl.style.display =\n",
              "        google.colab.kernel.accessAllowed ? 'block' : 'none';\n",
              "    })();\n",
              "  </script>\n",
              "</div>\n",
              "    </div>\n",
              "  </div>\n"
            ],
            "application/vnd.google.colaboratory.intrinsic+json": {
              "type": "dataframe",
              "summary": "{\n  \"name\": \"df_heart\",\n  \"rows\": 8,\n  \"fields\": [\n    {\n      \"column\": \"PhysicalHealthDays\",\n      \"properties\": {\n        \"dtype\": \"number\",\n        \"std\": 121330.49676161885,\n        \"min\": 0.0,\n        \"max\": 343181.0,\n        \"num_unique_values\": 6,\n        \"samples\": [\n          343181.0,\n          4.215011903339637,\n          30.0\n        ],\n        \"semantic_type\": \"\",\n        \"description\": \"\"\n      }\n    },\n    {\n      \"column\": \"SleepHours\",\n      \"properties\": {\n        \"dtype\": \"number\",\n        \"std\": 121330.05527695997,\n        \"min\": 1.0,\n        \"max\": 343181.0,\n        \"num_unique_values\": 8,\n        \"samples\": [\n          7.021740854741552,\n          7.0,\n          343181.0\n        ],\n        \"semantic_type\": \"\",\n        \"description\": \"\"\n      }\n    },\n    {\n      \"column\": \"BMI\",\n      \"properties\": {\n        \"dtype\": \"number\",\n        \"std\": 121321.2782133574,\n        \"min\": 6.336259433196205,\n        \"max\": 343181.0,\n        \"num_unique_values\": 8,\n        \"samples\": [\n          28.578538820717345,\n          27.94,\n          343181.0\n        ],\n        \"semantic_type\": \"\",\n        \"description\": \"\"\n      }\n    }\n  ]\n}"
            }
          },
          "metadata": {},
          "execution_count": 21
        }
      ]
    },
    {
      "cell_type": "code",
      "source": [
        "import seaborn as sns\n",
        "import matplotlib.pyplot as plt"
      ],
      "metadata": {
        "id": "x91D60dB8BW4"
      },
      "execution_count": 22,
      "outputs": []
    },
    {
      "cell_type": "code",
      "source": [
        "sex_counts = df_heart['Sex'].value_counts()\n",
        "plt.figure(figsize=(8, 6))\n",
        "plt.bar(sex_counts.index, sex_counts.values, color=['blue', 'red'])\n",
        "plt.xlabel('Sex')\n",
        "plt.ylabel('Count')\n",
        "plt.title('Count of Each Sex in Dataframe')\n",
        "plt.show()"
      ],
      "metadata": {
        "colab": {
          "base_uri": "https://localhost:8080/",
          "height": 564
        },
        "id": "ftOsCwc88BU_",
        "outputId": "7b09cf44-1b76-4ff0-ef0c-12797e34cb90"
      },
      "execution_count": 23,
      "outputs": [
        {
          "output_type": "display_data",
          "data": {
            "text/plain": [
              "<Figure size 800x600 with 1 Axes>"
            ],
            "image/png": "[encoded data removed]"
          },
          "metadata": {}
        }
      ]
    },
    {
      "cell_type": "code",
      "source": [
        "df_heart[\"HadHeartAttack\"].value_counts()"
      ],
      "metadata": {
        "colab": {
          "base_uri": "https://localhost:8080/"
        },
        "id": "h2WrgsAq9eno",
        "outputId": "e1a6ade5-0328-4062-c25a-9a8751f69b3e"
      },
      "execution_count": 24,
      "outputs": [
        {
          "output_type": "execute_result",
          "data": {
            "text/plain": [
              "HadHeartAttack\n",
              "No     324866\n",
              "Yes     18315\n",
              "Name: count, dtype: int64"
            ]
          },
          "metadata": {},
          "execution_count": 24
        }
      ]
    },
    {
      "cell_type": "markdown",
      "source": [
        "There are more people without heart attack than those with heart attack. There is a need to balance this dataset when preprocessing it for machine learning"
      ],
      "metadata": {
        "id": "WgsJv_sF9hoD"
      }
    },
    {
      "cell_type": "code",
      "source": [
        "pielabel = df_heart[\"HadHeartAttack\"].unique()\n",
        "plt.pie(df_heart[\"HadHeartAttack\"].value_counts(), labels=pielabel)"
      ],
      "metadata": {
        "colab": {
          "base_uri": "https://localhost:8080/",
          "height": 475
        },
        "id": "kIj3u2xj8BJ3",
        "outputId": "ebe1a275-26a7-4f7c-b8b4-768c2ccafd50"
      },
      "execution_count": 25,
      "outputs": [
        {
          "output_type": "execute_result",
          "data": {
            "text/plain": [
              "([<matplotlib.patches.Wedge at 0x7d251324b8b0>,\n",
              "  <matplotlib.patches.Wedge at 0x7d251324b7c0>],\n",
              " [Text(-1.0845754652427255, 0.1835648664465117, 'No'),\n",
              "  Text(1.084575469539371, -0.18356484106019066, 'Yes')])"
            ]
          },
          "metadata": {},
          "execution_count": 25
        },
        {
          "output_type": "display_data",
          "data": {
            "text/plain": [
              "<Figure size 640x480 with 1 Axes>"
            ],
            "image/png": "[encoded data removed]"
          },
          "metadata": {}
        }
      ]
    },
    {
      "cell_type": "code",
      "source": [
        "plt.figure(figsize=(8, 6))\n",
        "plt.hist(df_heart['SleepHours'])"
      ],
      "metadata": {
        "colab": {
          "base_uri": "https://localhost:8080/",
          "height": 591
        },
        "id": "HofUVfJl9xlQ",
        "outputId": "7438ab6d-2883-4ee8-d941-4838ad4902d6"
      },
      "execution_count": 26,
      "outputs": [
        {
          "output_type": "execute_result",
          "data": {
            "text/plain": [
              "(array([4.09300e+03, 3.20060e+04, 1.82802e+05, 1.20665e+05, 2.58900e+03,\n",
              "        3.28000e+02, 4.50000e+02, 1.25000e+02, 8.10000e+01, 4.20000e+01]),\n",
              " array([ 1. ,  3.3,  5.6,  7.9, 10.2, 12.5, 14.8, 17.1, 19.4, 21.7, 24. ]),\n",
              " <BarContainer object of 10 artists>)"
            ]
          },
          "metadata": {},
          "execution_count": 26
        },
        {
          "output_type": "display_data",
          "data": {
            "text/plain": [
              "<Figure size 800x600 with 1 Axes>"
            ],
            "image/png": "[encoded data removed]"
          },
          "metadata": {}
        }
      ]
    },
    {
      "cell_type": "code",
      "source": [
        "plt.figure(figsize=(8, 6))\n",
        "plt.boxplot(df_heart['SleepHours'])"
      ],
      "metadata": {
        "colab": {
          "base_uri": "https://localhost:8080/",
          "height": 664
        },
        "id": "BXzTG8aZ9xhL",
        "outputId": "5deee33f-ce2a-4cb7-dd86-7a1ac3fccebb"
      },
      "execution_count": 27,
      "outputs": [
        {
          "output_type": "execute_result",
          "data": {
            "text/plain": [
              "{'whiskers': [<matplotlib.lines.Line2D at 0x7d25131a8f70>,\n",
              "  <matplotlib.lines.Line2D at 0x7d2513162110>],\n",
              " 'caps': [<matplotlib.lines.Line2D at 0x7d2513144df0>,\n",
              "  <matplotlib.lines.Line2D at 0x7d251327d090>],\n",
              " 'boxes': [<matplotlib.lines.Line2D at 0x7d25131a8cd0>],\n",
              " 'medians': [<matplotlib.lines.Line2D at 0x7d25131a92a0>],\n",
              " 'fliers': [<matplotlib.lines.Line2D at 0x7d25131a9540>],\n",
              " 'means': []}"
            ]
          },
          "metadata": {},
          "execution_count": 27
        },
        {
          "output_type": "display_data",
          "data": {
            "text/plain": [
              "<Figure size 800x600 with 1 Axes>"
            ],
            "image/png": "[encoded data removed]"
          },
          "metadata": {}
        }
      ]
    },
    {
      "cell_type": "markdown",
      "source": [
        "The outliers in the sleep hours will be retained because it is sure possible for some people to sleep above the quartile range"
      ],
      "metadata": {
        "id": "BvMt7zqX_-aK"
      }
    },
    {
      "cell_type": "code",
      "source": [
        "df_heart['SleepHours'].unique()"
      ],
      "metadata": {
        "colab": {
          "base_uri": "https://localhost:8080/"
        },
        "id": "Ea1NeF4-9xfa",
        "outputId": "b7696a70-53ec-4a2d-af06-99233b2bf542"
      },
      "execution_count": 28,
      "outputs": [
        {
          "output_type": "execute_result",
          "data": {
            "text/plain": [
              "array([ 8.        ,  5.        ,  9.        ,  7.        ,  6.        ,\n",
              "        4.        , 10.        ,  1.        ,  7.02289554, 18.        ,\n",
              "       12.        ,  3.        ,  2.        , 11.        , 15.        ,\n",
              "       13.        , 16.        , 14.        , 20.        , 24.        ,\n",
              "       23.        , 19.        , 17.        , 22.        ])"
            ]
          },
          "metadata": {},
          "execution_count": 28
        }
      ]
    },
    {
      "cell_type": "markdown",
      "source": [
        "**Encoding our categorical variables to numeric**"
      ],
      "metadata": {
        "id": "t-BFcjZGHqIb"
      }
    },
    {
      "cell_type": "code",
      "source": [
        "df_heart['AgeCategory'].replace({'Age 18 to 24': 1,'Age 25 to 29':2, 'Age 30 to 34' : 3,\\\n",
        "                                          'Age 35 to 39':4, 'Age 40 to 44':5, 'Age 45 to 49':6,\\\n",
        "                                          'Age 50 to 54':7, 'Age 55 to 59':8, 'Age 60 to 64':9,\\\n",
        "                                          'Age 65 to 69':10, 'Age 70 to 74':11, 'Age 75 to 79':12,\\\n",
        "                                          'Age 80 or older':13}, inplace=True)"
      ],
      "metadata": {
        "id": "8ugnp4lQ9xbj"
      },
      "execution_count": 29,
      "outputs": []
    },
    {
      "cell_type": "code",
      "source": [
        "df_heart['HadHeartAttack'].replace({'Yes':1, 'No':0}, inplace=True)\n",
        "df_heart['PhysicalActivities'].replace({'Yes':1, 'No':0}, inplace=True)\n",
        "df_heart['HadAngina'].replace({'Yes':1, 'No':0}, inplace=True)\n",
        "df_heart['HadStroke'].replace({'Yes':1, 'No':0}, inplace=True)\n",
        "df_heart['HadAsthma'].replace({'Yes':1, 'No':0}, inplace=True)\n",
        "df_heart['HadKidneyDisease'].replace({'Yes':1, 'No':0}, inplace=True)\n",
        "df_heart['HadDiabetes'].replace({'Yes':1, 'No':0}, inplace=True)\n",
        "df_heart['DifficultyWalking'].replace({'Yes':1, 'No':0}, inplace=True)\n",
        "df_heart['ChestScan'].replace({'Yes':1, 'No':0}, inplace=True)"
      ],
      "metadata": {
        "id": "0f9d4upcNp3i"
      },
      "execution_count": 30,
      "outputs": []
    },
    {
      "cell_type": "code",
      "source": [
        "df_heart['SmokerStatus'].replace({'Never smoked': 0, 'Former smoker' : 1, 'Current smoker - now smokes some days':2, 'Current smoker - now smokes every day':3}, inplace=True)\n",
        "df_heart['ECigaretteUsage'].replace({'Never used e-cigarettes in my entire life':0, 'Not at all (right now)':1, 'Use them some days':2, 'Use them every day':3}, inplace=True)"
      ],
      "metadata": {
        "id": "nHIez9IMRAOG"
      },
      "execution_count": 32,
      "outputs": []
    },
    {
      "cell_type": "code",
      "source": [
        "df_heart['GeneralHealth'].replace({'Very good': 4, 'Excellent' : 5, 'Good':3, 'Fair':2, 'Poor':1}, inplace=True)\n",
        "df_heart['Sex'].replace({'Male':1, 'Female':0}, inplace=True)\n",
        "df_heart['FluVaxLast12'].replace({'Yes':1, 'No':0}, inplace=True)"
      ],
      "metadata": {
        "id": "6Bzw11WOSDFN"
      },
      "execution_count": 34,
      "outputs": []
    },
    {
      "cell_type": "code",
      "source": [
        "df_heart['LastCheckupTime'].unique()"
      ],
      "metadata": {
        "colab": {
          "base_uri": "https://localhost:8080/"
        },
        "id": "Gl-CEFRx9xZW",
        "outputId": "9af6d18b-00fc-4c40-f44d-61578f142694"
      },
      "execution_count": 37,
      "outputs": [
        {
          "output_type": "execute_result",
          "data": {
            "text/plain": [
              "array(['Within past year (anytime less than 12 months ago)',\n",
              "       'Within past 2 years (1 year but less than 2 years ago)',\n",
              "       'Within past 5 years (2 years but less than 5 years ago)',\n",
              "       '5 or more years ago'], dtype=object)"
            ]
          },
          "metadata": {},
          "execution_count": 37
        }
      ]
    },
    {
      "cell_type": "code",
      "source": [
        "df_heart['HadCOPD'].replace({'Yes':1, 'No':0}, inplace=True)\n",
        "df_heart['HadDepressiveDisorder'].replace({'Yes':1, 'No':0}, inplace=True)\n",
        "df_heart['LastCheckupTime'] = df_heart['LastCheckupTime'].replace({\"5 or more years ago\":4, 'Within past 5 years (2 years but less than 5 years ago)':3, 'Within past 2 years (1 year but less than 2 years ago)':2, 'Within past year (anytime less than 12 months ago)':1})"
      ],
      "metadata": {
        "id": "8mlHs5p8TJ5z"
      },
      "execution_count": 40,
      "outputs": []
    },
    {
      "cell_type": "code",
      "source": [
        "df_heart['AlcoholDrinkers'].replace({'Yes':1, 'No':0}, inplace=True)"
      ],
      "metadata": {
        "id": "zulFL9VtXjgP"
      },
      "execution_count": 44,
      "outputs": []
    },
    {
      "cell_type": "code",
      "source": [
        "df_heart['HadDiabetes'].replace({'Yes, but only during pregnancy (female)':1, 'No, pre-diabetes or borderline diabetes':0}, inplace=True)"
      ],
      "metadata": {
        "id": "NOdejLAFcDyW"
      },
      "execution_count": 48,
      "outputs": []
    },
    {
      "cell_type": "code",
      "source": [
        "df_heart"
      ],
      "metadata": {
        "colab": {
          "base_uri": "https://localhost:8080/",
          "height": 444
        },
        "id": "E78O4j5zTJv7",
        "outputId": "d946dfd5-de52-44ae-deef-103997557a5c"
      },
      "execution_count": 49,
      "outputs": [
        {
          "output_type": "execute_result",
          "data": {
            "text/plain": [
              "        Sex  GeneralHealth  PhysicalHealthDays  LastCheckupTime  \\\n",
              "0         0              4                 0.0                1   \n",
              "1         0              4                 2.0                1   \n",
              "2         0              2                 2.0                1   \n",
              "3         1              1                 1.0                1   \n",
              "4         0              4                 0.0                1   \n",
              "...     ...            ...                 ...              ...   \n",
              "343176    0              2                 0.0                1   \n",
              "343177    1              3                 0.0                1   \n",
              "343178    1              3                 0.0                2   \n",
              "343179    0              5                 2.0                1   \n",
              "343180    1              4                 0.0                1   \n",
              "\n",
              "        PhysicalActivities  SleepHours  HadHeartAttack  HadAngina  HadStroke  \\\n",
              "0                        0         8.0               0          0          0   \n",
              "1                        1         5.0               0          0          0   \n",
              "2                        1         9.0               0          0          0   \n",
              "3                        0         7.0               1          0          1   \n",
              "4                        1         7.0               0          0          0   \n",
              "...                    ...         ...             ...        ...        ...   \n",
              "343176                   1         7.0               0          0          0   \n",
              "343177                   1         7.0               0          0          1   \n",
              "343178                   1         8.0               0          0          0   \n",
              "343179                   1         7.0               0          0          0   \n",
              "343180                   0         5.0               1          0          0   \n",
              "\n",
              "        HadAsthma  ...  HadKidneyDisease  HadDiabetes  DifficultyWalking  \\\n",
              "0               0  ...                 0            1                  0   \n",
              "1               0  ...                 0            0                  0   \n",
              "2               0  ...                 0            0                  0   \n",
              "3               0  ...                 0            1                  0   \n",
              "4               0  ...                 0            0                  0   \n",
              "...           ...  ...               ...          ...                ...   \n",
              "343176          0  ...                 0            0                  0   \n",
              "343177          0  ...                 0            1                  0   \n",
              "343178          0  ...                 0            0                  0   \n",
              "343179          0  ...                 0            0                  0   \n",
              "343180          1  ...                 0            0                  0   \n",
              "\n",
              "        SmokerStatus  ECigaretteUsage  ChestScan  AgeCategory       BMI  \\\n",
              "0                  0                1          0           13  28.52993   \n",
              "1                  0                0          0            8  25.61000   \n",
              "2                  0                0          1            5  21.77000   \n",
              "3                  0                0          0           13  26.08000   \n",
              "4                  1                0          0           13  22.96000   \n",
              "...              ...              ...        ...          ...       ...   \n",
              "343176             0                0          0            2  24.34000   \n",
              "343177             0                0          0           10  29.86000   \n",
              "343178             0                0          0            3  31.19000   \n",
              "343179             0                0          0            7  28.66000   \n",
              "343180             0                0          1           11  32.55000   \n",
              "\n",
              "        AlcoholDrinkers  FluVaxLast12  \n",
              "0                     0             1  \n",
              "1                     0             0  \n",
              "2                     1             0  \n",
              "3                     0             0  \n",
              "4                     1             0  \n",
              "...                 ...           ...  \n",
              "343176                0             0  \n",
              "343177                1             1  \n",
              "343178                1             0  \n",
              "343179                0             1  \n",
              "343180                0             1  \n",
              "\n",
              "[343181 rows x 22 columns]"
            ],
            "text/html": [
              "\n",
              "  <div id=\"df-9d275645-bc13-480a-9f2a-070454a4d5b8\" class=\"colab-df-container\">\n",
              "    <div>\n",
              "<style scoped>\n",
              "    .dataframe tbody tr th:only-of-type {\n",
              "        vertical-align: middle;\n",
              "    }\n",
              "\n",
              "    .dataframe tbody tr th {\n",
              "        vertical-align: top;\n",
              "    }\n",
              "\n",
              "    .dataframe thead th {\n",
              "        text-align: right;\n",
              "    }\n",
              "</style>\n",
              "<table border=\"1\" class=\"dataframe\">\n",
              "  <thead>\n",
              "    <tr style=\"text-align: right;\">\n",
              "      <th></th>\n",
              "      <th>Sex</th>\n",
              "      <th>GeneralHealth</th>\n",
              "      <th>PhysicalHealthDays</th>\n",
              "      <th>LastCheckupTime</th>\n",
              "      <th>PhysicalActivities</th>\n",
              "      <th>SleepHours</th>\n",
              "      <th>HadHeartAttack</th>\n",
              "      <th>HadAngina</th>\n",
              "      <th>HadStroke</th>\n",
              "      <th>HadAsthma</th>\n",
              "      <th>...</th>\n",
              "      <th>HadKidneyDisease</th>\n",
              "      <th>HadDiabetes</th>\n",
              "      <th>DifficultyWalking</th>\n",
              "      <th>SmokerStatus</th>\n",
              "      <th>ECigaretteUsage</th>\n",
              "      <th>ChestScan</th>\n",
              "      <th>AgeCategory</th>\n",
              "      <th>BMI</th>\n",
              "      <th>AlcoholDrinkers</th>\n",
              "      <th>FluVaxLast12</th>\n",
              "    </tr>\n",
              "  </thead>\n",
              "  <tbody>\n",
              "    <tr>\n",
              "      <th>0</th>\n",
              "      <td>0</td>\n",
              "      <td>4</td>\n",
              "      <td>0.0</td>\n",
              "      <td>1</td>\n",
              "      <td>0</td>\n",
              "      <td>8.0</td>\n",
              "      <td>0</td>\n",
              "      <td>0</td>\n",
              "      <td>0</td>\n",
              "      <td>0</td>\n",
              "      <td>...</td>\n",
              "      <td>0</td>\n",
              "      <td>1</td>\n",
              "      <td>0</td>\n",
              "      <td>0</td>\n",
              "      <td>1</td>\n",
              "      <td>0</td>\n",
              "      <td>13</td>\n",
              "      <td>28.52993</td>\n",
              "      <td>0</td>\n",
              "      <td>1</td>\n",
              "    </tr>\n",
              "    <tr>\n",
              "      <th>1</th>\n",
              "      <td>0</td>\n",
              "      <td>4</td>\n",
              "      <td>2.0</td>\n",
              "      <td>1</td>\n",
              "      <td>1</td>\n",
              "      <td>5.0</td>\n",
              "      <td>0</td>\n",
              "      <td>0</td>\n",
              "      <td>0</td>\n",
              "      <td>0</td>\n",
              "      <td>...</td>\n",
              "      <td>0</td>\n",
              "      <td>0</td>\n",
              "      <td>0</td>\n",
              "      <td>0</td>\n",
              "      <td>0</td>\n",
              "      <td>0</td>\n",
              "      <td>8</td>\n",
              "      <td>25.61000</td>\n",
              "      <td>0</td>\n",
              "      <td>0</td>\n",
              "    </tr>\n",
              "    <tr>\n",
              "      <th>2</th>\n",
              "      <td>0</td>\n",
              "      <td>2</td>\n",
              "      <td>2.0</td>\n",
              "      <td>1</td>\n",
              "      <td>1</td>\n",
              "      <td>9.0</td>\n",
              "      <td>0</td>\n",
              "      <td>0</td>\n",
              "      <td>0</td>\n",
              "      <td>0</td>\n",
              "      <td>...</td>\n",
              "      <td>0</td>\n",
              "      <td>0</td>\n",
              "      <td>0</td>\n",
              "      <td>0</td>\n",
              "      <td>0</td>\n",
              "      <td>1</td>\n",
              "      <td>5</td>\n",
              "      <td>21.77000</td>\n",
              "      <td>1</td>\n",
              "      <td>0</td>\n",
              "    </tr>\n",
              "    <tr>\n",
              "      <th>3</th>\n",
              "      <td>1</td>\n",
              "      <td>1</td>\n",
              "      <td>1.0</td>\n",
              "      <td>1</td>\n",
              "      <td>0</td>\n",
              "      <td>7.0</td>\n",
              "      <td>1</td>\n",
              "      <td>0</td>\n",
              "      <td>1</td>\n",
              "      <td>0</td>\n",
              "      <td>...</td>\n",
              "      <td>0</td>\n",
              "      <td>1</td>\n",
              "      <td>0</td>\n",
              "      <td>0</td>\n",
              "      <td>0</td>\n",
              "      <td>0</td>\n",
              "      <td>13</td>\n",
              "      <td>26.08000</td>\n",
              "      <td>0</td>\n",
              "      <td>0</td>\n",
              "    </tr>\n",
              "    <tr>\n",
              "      <th>4</th>\n",
              "      <td>0</td>\n",
              "      <td>4</td>\n",
              "      <td>0.0</td>\n",
              "      <td>1</td>\n",
              "      <td>1</td>\n",
              "      <td>7.0</td>\n",
              "      <td>0</td>\n",
              "      <td>0</td>\n",
              "      <td>0</td>\n",
              "      <td>0</td>\n",
              "      <td>...</td>\n",
              "      <td>0</td>\n",
              "      <td>0</td>\n",
              "      <td>0</td>\n",
              "      <td>1</td>\n",
              "      <td>0</td>\n",
              "      <td>0</td>\n",
              "      <td>13</td>\n",
              "      <td>22.96000</td>\n",
              "      <td>1</td>\n",
              "      <td>0</td>\n",
              "    </tr>\n",
              "    <tr>\n",
              "      <th>...</th>\n",
              "      <td>...</td>\n",
              "      <td>...</td>\n",
              "      <td>...</td>\n",
              "      <td>...</td>\n",
              "      <td>...</td>\n",
              "      <td>...</td>\n",
              "      <td>...</td>\n",
              "      <td>...</td>\n",
              "      <td>...</td>\n",
              "      <td>...</td>\n",
              "      <td>...</td>\n",
              "      <td>...</td>\n",
              "      <td>...</td>\n",
              "      <td>...</td>\n",
              "      <td>...</td>\n",
              "      <td>...</td>\n",
              "      <td>...</td>\n",
              "      <td>...</td>\n",
              "      <td>...</td>\n",
              "      <td>...</td>\n",
              "      <td>...</td>\n",
              "    </tr>\n",
              "    <tr>\n",
              "      <th>343176</th>\n",
              "      <td>0</td>\n",
              "      <td>2</td>\n",
              "      <td>0.0</td>\n",
              "      <td>1</td>\n",
              "      <td>1</td>\n",
              "      <td>7.0</td>\n",
              "      <td>0</td>\n",
              "      <td>0</td>\n",
              "      <td>0</td>\n",
              "      <td>0</td>\n",
              "      <td>...</td>\n",
              "      <td>0</td>\n",
              "      <td>0</td>\n",
              "      <td>0</td>\n",
              "      <td>0</td>\n",
              "      <td>0</td>\n",
              "      <td>0</td>\n",
              "      <td>2</td>\n",
              "      <td>24.34000</td>\n",
              "      <td>0</td>\n",
              "      <td>0</td>\n",
              "    </tr>\n",
              "    <tr>\n",
              "      <th>343177</th>\n",
              "      <td>1</td>\n",
              "      <td>3</td>\n",
              "      <td>0.0</td>\n",
              "      <td>1</td>\n",
              "      <td>1</td>\n",
              "      <td>7.0</td>\n",
              "      <td>0</td>\n",
              "      <td>0</td>\n",
              "      <td>1</td>\n",
              "      <td>0</td>\n",
              "      <td>...</td>\n",
              "      <td>0</td>\n",
              "      <td>1</td>\n",
              "      <td>0</td>\n",
              "      <td>0</td>\n",
              "      <td>0</td>\n",
              "      <td>0</td>\n",
              "      <td>10</td>\n",
              "      <td>29.86000</td>\n",
              "      <td>1</td>\n",
              "      <td>1</td>\n",
              "    </tr>\n",
              "    <tr>\n",
              "      <th>343178</th>\n",
              "      <td>1</td>\n",
              "      <td>3</td>\n",
              "      <td>0.0</td>\n",
              "      <td>2</td>\n",
              "      <td>1</td>\n",
              "      <td>8.0</td>\n",
              "      <td>0</td>\n",
              "      <td>0</td>\n",
              "      <td>0</td>\n",
              "      <td>0</td>\n",
              "      <td>...</td>\n",
              "      <td>0</td>\n",
              "      <td>0</td>\n",
              "      <td>0</td>\n",
              "      <td>0</td>\n",
              "      <td>0</td>\n",
              "      <td>0</td>\n",
              "      <td>3</td>\n",
              "      <td>31.19000</td>\n",
              "      <td>1</td>\n",
              "      <td>0</td>\n",
              "    </tr>\n",
              "    <tr>\n",
              "      <th>343179</th>\n",
              "      <td>0</td>\n",
              "      <td>5</td>\n",
              "      <td>2.0</td>\n",
              "      <td>1</td>\n",
              "      <td>1</td>\n",
              "      <td>7.0</td>\n",
              "      <td>0</td>\n",
              "      <td>0</td>\n",
              "      <td>0</td>\n",
              "      <td>0</td>\n",
              "      <td>...</td>\n",
              "      <td>0</td>\n",
              "      <td>0</td>\n",
              "      <td>0</td>\n",
              "      <td>0</td>\n",
              "      <td>0</td>\n",
              "      <td>0</td>\n",
              "      <td>7</td>\n",
              "      <td>28.66000</td>\n",
              "      <td>0</td>\n",
              "      <td>1</td>\n",
              "    </tr>\n",
              "    <tr>\n",
              "      <th>343180</th>\n",
              "      <td>1</td>\n",
              "      <td>4</td>\n",
              "      <td>0.0</td>\n",
              "      <td>1</td>\n",
              "      <td>0</td>\n",
              "      <td>5.0</td>\n",
              "      <td>1</td>\n",
              "      <td>0</td>\n",
              "      <td>0</td>\n",
              "      <td>1</td>\n",
              "      <td>...</td>\n",
              "      <td>0</td>\n",
              "      <td>0</td>\n",
              "      <td>0</td>\n",
              "      <td>0</td>\n",
              "      <td>0</td>\n",
              "      <td>1</td>\n",
              "      <td>11</td>\n",
              "      <td>32.55000</td>\n",
              "      <td>0</td>\n",
              "      <td>1</td>\n",
              "    </tr>\n",
              "  </tbody>\n",
              "</table>\n",
              "<p>343181 rows × 22 columns</p>\n",
              "</div>\n",
              "    <div class=\"colab-df-buttons\">\n",
              "\n",
              "  <div class=\"colab-df-container\">\n",
              "    <button class=\"colab-df-convert\" onclick=\"convertToInteractive('df-9d275645-bc13-480a-9f2a-070454a4d5b8')\"\n",
              "            title=\"Convert this dataframe to an interactive table.\"\n",
              "            style=\"display:none;\">\n",
              "\n",
              "  <svg xmlns=\"http://www.w3.org/2000/svg\" height=\"24px\" viewBox=\"0 -960 960 960\">\n",
              "    <path d=\"M120-120v-720h720v720H120Zm60-500h600v-160H180v160Zm220 220h160v-160H400v160Zm0 220h160v-160H400v160ZM180-400h160v-160H180v160Zm440 0h160v-160H620v160ZM180-180h160v-160H180v160Zm440 0h160v-160H620v160Z\"/>\n",
              "  </svg>\n",
              "    </button>\n",
              "\n",
              "  <style>\n",
              "    .colab-df-container {\n",
              "      display:flex;\n",
              "      gap: 12px;\n",
              "    }\n",
              "\n",
              "    .colab-df-convert {\n",
              "      background-color: #E8F0FE;\n",
              "      border: none;\n",
              "      border-radius: 50%;\n",
              "      cursor: pointer;\n",
              "      display: none;\n",
              "      fill: #1967D2;\n",
              "      height: 32px;\n",
              "      padding: 0 0 0 0;\n",
              "      width: 32px;\n",
              "    }\n",
              "\n",
              "    .colab-df-convert:hover {\n",
              "      background-color: #E2EBFA;\n",
              "      box-shadow: 0px 1px 2px rgba(60, 64, 67, 0.3), 0px 1px 3px 1px rgba(60, 64, 67, 0.15);\n",
              "      fill: #174EA6;\n",
              "    }\n",
              "\n",
              "    .colab-df-buttons div {\n",
              "      margin-bottom: 4px;\n",
              "    }\n",
              "\n",
              "    [theme=dark] .colab-df-convert {\n",
              "      background-color: #3B4455;\n",
              "      fill: #D2E3FC;\n",
              "    }\n",
              "\n",
              "    [theme=dark] .colab-df-convert:hover {\n",
              "      background-color: #434B5C;\n",
              "      box-shadow: 0px 1px 3px 1px rgba(0, 0, 0, 0.15);\n",
              "      filter: drop-shadow(0px 1px 2px rgba(0, 0, 0, 0.3));\n",
              "      fill: #FFFFFF;\n",
              "    }\n",
              "  </style>\n",
              "\n",
              "    <script>\n",
              "      const buttonEl =\n",
              "        document.querySelector('#df-9d275645-bc13-480a-9f2a-070454a4d5b8 button.colab-df-convert');\n",
              "      buttonEl.style.display =\n",
              "        google.colab.kernel.accessAllowed ? 'block' : 'none';\n",
              "\n",
              "      async function convertToInteractive(key) {\n",
              "        const element = document.querySelector('#df-9d275645-bc13-480a-9f2a-070454a4d5b8');\n",
              "        const dataTable =\n",
              "          await google.colab.kernel.invokeFunction('convertToInteractive',\n",
              "                                                    [key], {});\n",
              "        if (!dataTable) return;\n",
              "\n",
              "        const docLinkHtml = 'Like what you see? Visit the ' +\n",
              "          '<a target=\"_blank\" href=https://colab.research.google.com/notebooks/data_table.ipynb>data table notebook</a>'\n",
              "          + ' to learn more about interactive tables.';\n",
              "        element.innerHTML = '';\n",
              "        dataTable['output_type'] = 'display_data';\n",
              "        await google.colab.output.renderOutput(dataTable, element);\n",
              "        const docLink = document.createElement('div');\n",
              "        docLink.innerHTML = docLinkHtml;\n",
              "        element.appendChild(docLink);\n",
              "      }\n",
              "    </script>\n",
              "  </div>\n",
              "\n",
              "\n",
              "<div id=\"df-b8b8b95c-7e6a-4c0f-8908-2d1b22a321d6\">\n",
              "  <button class=\"colab-df-quickchart\" onclick=\"quickchart('df-b8b8b95c-7e6a-4c0f-8908-2d1b22a321d6')\"\n",
              "            title=\"Suggest charts\"\n",
              "            style=\"display:none;\">\n",
              "\n",
              "<svg xmlns=\"http://www.w3.org/2000/svg\" height=\"24px\"viewBox=\"0 0 24 24\"\n",
              "     width=\"24px\">\n",
              "    <g>\n",
              "        <path d=\"M19 3H5c-1.1 0-2 .9-2 2v14c0 1.1.9 2 2 2h14c1.1 0 2-.9 2-2V5c0-1.1-.9-2-2-2zM9 17H7v-7h2v7zm4 0h-2V7h2v10zm4 0h-2v-4h2v4z\"/>\n",
              "    </g>\n",
              "</svg>\n",
              "  </button>\n",
              "\n",
              "<style>\n",
              "  .colab-df-quickchart {\n",
              "      --bg-color: #E8F0FE;\n",
              "      --fill-color: #1967D2;\n",
              "      --hover-bg-color: #E2EBFA;\n",
              "      --hover-fill-color: #174EA6;\n",
              "      --disabled-fill-color: #AAA;\n",
              "      --disabled-bg-color: #DDD;\n",
              "  }\n",
              "\n",
              "  [theme=dark] .colab-df-quickchart {\n",
              "      --bg-color: #3B4455;\n",
              "      --fill-color: #D2E3FC;\n",
              "      --hover-bg-color: #434B5C;\n",
              "      --hover-fill-color: #FFFFFF;\n",
              "      --disabled-bg-color: #3B4455;\n",
              "      --disabled-fill-color: #666;\n",
              "  }\n",
              "\n",
              "  .colab-df-quickchart {\n",
              "    background-color: var(--bg-color);\n",
              "    border: none;\n",
              "    border-radius: 50%;\n",
              "    cursor: pointer;\n",
              "    display: none;\n",
              "    fill: var(--fill-color);\n",
              "    height: 32px;\n",
              "    padding: 0;\n",
              "    width: 32px;\n",
              "  }\n",
              "\n",
              "  .colab-df-quickchart:hover {\n",
              "    background-color: var(--hover-bg-color);\n",
              "    box-shadow: 0 1px 2px rgba(60, 64, 67, 0.3), 0 1px 3px 1px rgba(60, 64, 67, 0.15);\n",
              "    fill: var(--button-hover-fill-color);\n",
              "  }\n",
              "\n",
              "  .colab-df-quickchart-complete:disabled,\n",
              "  .colab-df-quickchart-complete:disabled:hover {\n",
              "    background-color: var(--disabled-bg-color);\n",
              "    fill: var(--disabled-fill-color);\n",
              "    box-shadow: none;\n",
              "  }\n",
              "\n",
              "  .colab-df-spinner {\n",
              "    border: 2px solid var(--fill-color);\n",
              "    border-color: transparent;\n",
              "    border-bottom-color: var(--fill-color);\n",
              "    animation:\n",
              "      spin 1s steps(1) infinite;\n",
              "  }\n",
              "\n",
              "  @keyframes spin {\n",
              "    0% {\n",
              "      border-color: transparent;\n",
              "      border-bottom-color: var(--fill-color);\n",
              "      border-left-color: var(--fill-color);\n",
              "    }\n",
              "    20% {\n",
              "      border-color: transparent;\n",
              "      border-left-color: var(--fill-color);\n",
              "      border-top-color: var(--fill-color);\n",
              "    }\n",
              "    30% {\n",
              "      border-color: transparent;\n",
              "      border-left-color: var(--fill-color);\n",
              "      border-top-color: var(--fill-color);\n",
              "      border-right-color: var(--fill-color);\n",
              "    }\n",
              "    40% {\n",
              "      border-color: transparent;\n",
              "      border-right-color: var(--fill-color);\n",
              "      border-top-color: var(--fill-color);\n",
              "    }\n",
              "    60% {\n",
              "      border-color: transparent;\n",
              "      border-right-color: var(--fill-color);\n",
              "    }\n",
              "    80% {\n",
              "      border-color: transparent;\n",
              "      border-right-color: var(--fill-color);\n",
              "      border-bottom-color: var(--fill-color);\n",
              "    }\n",
              "    90% {\n",
              "      border-color: transparent;\n",
              "      border-bottom-color: var(--fill-color);\n",
              "    }\n",
              "  }\n",
              "</style>\n",
              "\n",
              "  <script>\n",
              "    async function quickchart(key) {\n",
              "      const quickchartButtonEl =\n",
              "        document.querySelector('#' + key + ' button');\n",
              "      quickchartButtonEl.disabled = true;  // To prevent multiple clicks.\n",
              "      quickchartButtonEl.classList.add('colab-df-spinner');\n",
              "      try {\n",
              "        const charts = await google.colab.kernel.invokeFunction(\n",
              "            'suggestCharts', [key], {});\n",
              "      } catch (error) {\n",
              "        console.error('Error during call to suggestCharts:', error);\n",
              "      }\n",
              "      quickchartButtonEl.classList.remove('colab-df-spinner');\n",
              "      quickchartButtonEl.classList.add('colab-df-quickchart-complete');\n",
              "    }\n",
              "    (() => {\n",
              "      let quickchartButtonEl =\n",
              "        document.querySelector('#df-b8b8b95c-7e6a-4c0f-8908-2d1b22a321d6 button');\n",
              "      quickchartButtonEl.style.display =\n",
              "        google.colab.kernel.accessAllowed ? 'block' : 'none';\n",
              "    })();\n",
              "  </script>\n",
              "</div>\n",
              "    </div>\n",
              "  </div>\n"
            ],
            "application/vnd.google.colaboratory.intrinsic+json": {
              "type": "dataframe",
              "variable_name": "df_heart"
            }
          },
          "metadata": {},
          "execution_count": 49
        }
      ]
    },
    {
      "cell_type": "code",
      "source": [
        "df_heart.info()"
      ],
      "metadata": {
        "colab": {
          "base_uri": "https://localhost:8080/"
        },
        "id": "eh_veA4NTJq5",
        "outputId": "5c542594-119b-4244-9bee-b33e0696ac4a"
      },
      "execution_count": 50,
      "outputs": [
        {
          "output_type": "stream",
          "name": "stdout",
          "text": [
            "<class 'pandas.core.frame.DataFrame'>\n",
            "RangeIndex: 343181 entries, 0 to 343180\n",
            "Data columns (total 22 columns):\n",
            " #   Column                 Non-Null Count   Dtype  \n",
            "---  ------                 --------------   -----  \n",
            " 0   Sex                    343181 non-null  int64  \n",
            " 1   GeneralHealth          343181 non-null  int64  \n",
            " 2   PhysicalHealthDays     343181 non-null  float64\n",
            " 3   LastCheckupTime        343181 non-null  int64  \n",
            " 4   PhysicalActivities     343181 non-null  int64  \n",
            " 5   SleepHours             343181 non-null  float64\n",
            " 6   HadHeartAttack         343181 non-null  int64  \n",
            " 7   HadAngina              343181 non-null  int64  \n",
            " 8   HadStroke              343181 non-null  int64  \n",
            " 9   HadAsthma              343181 non-null  int64  \n",
            " 10  HadCOPD                343181 non-null  int64  \n",
            " 11  HadDepressiveDisorder  343181 non-null  int64  \n",
            " 12  HadKidneyDisease       343181 non-null  int64  \n",
            " 13  HadDiabetes            343181 non-null  int64  \n",
            " 14  DifficultyWalking      343181 non-null  int64  \n",
            " 15  SmokerStatus           343181 non-null  int64  \n",
            " 16  ECigaretteUsage        343181 non-null  int64  \n",
            " 17  ChestScan              343181 non-null  int64  \n",
            " 18  AgeCategory            343181 non-null  int64  \n",
            " 19  BMI                    343181 non-null  float64\n",
            " 20  AlcoholDrinkers        343181 non-null  int64  \n",
            " 21  FluVaxLast12           343181 non-null  int64  \n",
            "dtypes: float64(3), int64(19)\n",
            "memory usage: 57.6 MB\n"
          ]
        }
      ]
    },
    {
      "cell_type": "markdown",
      "source": [
        "All the Categorical variables have been rightly encoded"
      ],
      "metadata": {
        "id": "IZZt2vRjeHn-"
      }
    },
    {
      "cell_type": "code",
      "source": [
        "df_heart.iloc[0]"
      ],
      "metadata": {
        "colab": {
          "base_uri": "https://localhost:8080/"
        },
        "id": "s7Z0Rv3qTJo_",
        "outputId": "91a1f5f9-3995-4453-e9eb-6161e42de54a"
      },
      "execution_count": 51,
      "outputs": [
        {
          "output_type": "execute_result",
          "data": {
            "text/plain": [
              "Sex                       0.00000\n",
              "GeneralHealth             4.00000\n",
              "PhysicalHealthDays        0.00000\n",
              "LastCheckupTime           1.00000\n",
              "PhysicalActivities        0.00000\n",
              "SleepHours                8.00000\n",
              "HadHeartAttack            0.00000\n",
              "HadAngina                 0.00000\n",
              "HadStroke                 0.00000\n",
              "HadAsthma                 0.00000\n",
              "HadCOPD                   0.00000\n",
              "HadDepressiveDisorder     0.00000\n",
              "HadKidneyDisease          0.00000\n",
              "HadDiabetes               1.00000\n",
              "DifficultyWalking         0.00000\n",
              "SmokerStatus              0.00000\n",
              "ECigaretteUsage           1.00000\n",
              "ChestScan                 0.00000\n",
              "AgeCategory              13.00000\n",
              "BMI                      28.52993\n",
              "AlcoholDrinkers           0.00000\n",
              "FluVaxLast12              1.00000\n",
              "Name: 0, dtype: float64"
            ]
          },
          "metadata": {},
          "execution_count": 51
        }
      ]
    },
    {
      "cell_type": "code",
      "source": [
        "plt.rcParams[\"figure.figsize\"] = (20, 10)\n",
        "sns.heatmap(\n",
        "    df_heart.corr(),\n",
        "    annot=True,\n",
        "    annot_kws={\"fontsize\": 8},\n",
        "    fmt=\".2f\",\n",
        "    xticklabels=True,\n",
        "    yticklabels=True,\n",
        ");"
      ],
      "metadata": {
        "colab": {
          "base_uri": "https://localhost:8080/",
          "height": 772
        },
        "id": "dxBj1UzLe89o",
        "outputId": "96bc0d75-5001-4885-fa52-d8e84372d93f"
      },
      "execution_count": 53,
      "outputs": [
        {
          "output_type": "display_data",
          "data": {
            "text/plain": [
              "<Figure size 2000x1000 with 2 Axes>"
            ],
            "image/png": "[encoded data removed]"
          },
          "metadata": {}
        }
      ]
    },
    {
      "cell_type": "code",
      "source": [],
      "metadata": {
        "id": "wGbq4Pa-e85V"
      },
      "execution_count": null,
      "outputs": []
    },
    {
      "cell_type": "markdown",
      "source": [
        "**Data Balancing**"
      ],
      "metadata": {
        "id": "gA7Lpz8ihWZl"
      }
    },
    {
      "cell_type": "code",
      "source": [
        "df_heart_ML = df_heart.copy()"
      ],
      "metadata": {
        "id": "24Pmy6mee83S"
      },
      "execution_count": 54,
      "outputs": []
    },
    {
      "cell_type": "code",
      "source": [
        "df_heart_ML.shape, df_heart.shape"
      ],
      "metadata": {
        "colab": {
          "base_uri": "https://localhost:8080/"
        },
        "id": "FK3n8rw9e8vE",
        "outputId": "3fb0c959-c065-46ab-c887-f4fe1fa7fcb8"
      },
      "execution_count": 57,
      "outputs": [
        {
          "output_type": "execute_result",
          "data": {
            "text/plain": [
              "((343181, 22), (343181, 22))"
            ]
          },
          "metadata": {},
          "execution_count": 57
        }
      ]
    },
    {
      "cell_type": "markdown",
      "source": [
        "**Data Undersampling**"
      ],
      "metadata": {
        "id": "ecXCoT_dls-K"
      }
    },
    {
      "cell_type": "code",
      "source": [
        "from imblearn.under_sampling import RandomUnderSampler\n",
        "rus = RandomUnderSampler(sampling_strategy=0.5)"
      ],
      "metadata": {
        "id": "SmDDkHTTTJlU"
      },
      "execution_count": 58,
      "outputs": []
    },
    {
      "cell_type": "code",
      "source": [
        "X_df = df_heart_ML.drop(columns=['HadHeartAttack'])\n",
        "Y_df = df_heart_ML['HadHeartAttack']"
      ],
      "metadata": {
        "id": "hkXhT1pGmAfQ"
      },
      "execution_count": 59,
      "outputs": []
    },
    {
      "cell_type": "code",
      "source": [
        "X_df.shape,Y_df.shape"
      ],
      "metadata": {
        "colab": {
          "base_uri": "https://localhost:8080/"
        },
        "id": "jZYQyAvmmqUe",
        "outputId": "f5a74e8f-028a-45d6-cde4-fc4d54b98bfa"
      },
      "execution_count": 61,
      "outputs": [
        {
          "output_type": "execute_result",
          "data": {
            "text/plain": [
              "((343181, 21), (343181,))"
            ]
          },
          "metadata": {},
          "execution_count": 61
        }
      ]
    },
    {
      "cell_type": "code",
      "source": [
        "X_df_resample, Y_df_resample = rus.fit_resample(X_df, Y_df)\n"
      ],
      "metadata": {
        "id": "mpxc78YmTJi6"
      },
      "execution_count": 62,
      "outputs": []
    },
    {
      "cell_type": "code",
      "source": [
        "pielabel = Y_df_resample.unique()\n",
        "plt.pie(Y_df_resample.value_counts(), labels=pielabel)"
      ],
      "metadata": {
        "colab": {
          "base_uri": "https://localhost:8080/",
          "height": 876
        },
        "id": "t4bzJTYR8BDp",
        "outputId": "4c2b9c53-d7db-4e34-a8b8-56354b378d65"
      },
      "execution_count": 63,
      "outputs": [
        {
          "output_type": "execute_result",
          "data": {
            "text/plain": [
              "([<matplotlib.patches.Wedge at 0x7d251228c9d0>,\n",
              "  <matplotlib.patches.Wedge at 0x7d251228c8e0>],\n",
              " [Text(-0.5500000594609755, 0.9526279098330699, '0'),\n",
              "  Text(0.5500001486524352, -0.9526278583383436, '1')])"
            ]
          },
          "metadata": {},
          "execution_count": 63
        },
        {
          "output_type": "display_data",
          "data": {
            "text/plain": [
              "<Figure size 2000x1000 with 1 Axes>"
            ],
            "image/png": "[encoded data removed]"
          },
          "metadata": {}
        }
      ]
    },
    {
      "cell_type": "code",
      "source": [
        "Y_df_resample.value_counts()"
      ],
      "metadata": {
        "id": "mSPb5nMc__Su",
        "colab": {
          "base_uri": "https://localhost:8080/"
        },
        "outputId": "f1ffe14c-713a-41c9-89de-5e789d3c956f"
      },
      "execution_count": 64,
      "outputs": [
        {
          "output_type": "execute_result",
          "data": {
            "text/plain": [
              "HadHeartAttack\n",
              "0    36630\n",
              "1    18315\n",
              "Name: count, dtype: int64"
            ]
          },
          "metadata": {},
          "execution_count": 64
        }
      ]
    },
    {
      "cell_type": "markdown",
      "source": [
        "The value of 1 remain the same while the value of 0 has been reduced"
      ],
      "metadata": {
        "id": "XD-kSVQIoGUO"
      }
    },
    {
      "cell_type": "markdown",
      "source": [
        "Undersampling was used because we do not want to generate any synthetic data for machine learning"
      ],
      "metadata": {
        "id": "R6TQN5tkoTjb"
      }
    },
    {
      "cell_type": "code",
      "source": [
        "from sklearn.model_selection import train_test_split"
      ],
      "metadata": {
        "id": "9_0yYnTqouMk"
      },
      "execution_count": 65,
      "outputs": []
    },
    {
      "cell_type": "code",
      "source": [
        "X_train, X_test1, y_train, y_test1 = train_test_split(\n",
        "    X_df_resample,\n",
        "    Y_df_resample,\n",
        "    test_size=0.2,\n",
        "    stratify=Y_df_resample,\n",
        "    random_state=42,\n",
        ")"
      ],
      "metadata": {
        "id": "BB_tK4HwouKu"
      },
      "execution_count": 66,
      "outputs": []
    },
    {
      "cell_type": "code",
      "source": [
        "len(X_train)"
      ],
      "metadata": {
        "colab": {
          "base_uri": "https://localhost:8080/"
        },
        "id": "iHtM5yT_0HCo",
        "outputId": "d143483f-d7f3-4c03-97fd-3519c6b1600f"
      },
      "execution_count": 84,
      "outputs": [
        {
          "output_type": "execute_result",
          "data": {
            "text/plain": [
              "43956"
            ]
          },
          "metadata": {},
          "execution_count": 84
        }
      ]
    },
    {
      "cell_type": "code",
      "source": [
        "y_train.value_counts()"
      ],
      "metadata": {
        "colab": {
          "base_uri": "https://localhost:8080/"
        },
        "id": "0ZzmcMPtotx3",
        "outputId": "bf45c274-26aa-4f1f-8f37-4e095859485e"
      },
      "execution_count": 69,
      "outputs": [
        {
          "output_type": "execute_result",
          "data": {
            "text/plain": [
              "HadHeartAttack\n",
              "0    29304\n",
              "1    14652\n",
              "Name: count, dtype: int64"
            ]
          },
          "metadata": {},
          "execution_count": 69
        }
      ]
    },
    {
      "cell_type": "code",
      "source": [
        "X_test, X_validation, y_test, y_validation = train_test_split(\n",
        "    X_test1,\n",
        "    y_test1,\n",
        "    test_size=0.5,\n",
        "    stratify=y_test1,\n",
        "    random_state=42,\n",
        ")"
      ],
      "metadata": {
        "id": "GOKSCnhTqojy"
      },
      "execution_count": 70,
      "outputs": []
    },
    {
      "cell_type": "code",
      "source": [
        "X_test.shape, y_test.shape, X_validation.shape, y_validation.shape"
      ],
      "metadata": {
        "colab": {
          "base_uri": "https://localhost:8080/"
        },
        "id": "vfxBkcwsrUWk",
        "outputId": "76149cd9-649c-4d9c-979b-a065e9f841ed"
      },
      "execution_count": 72,
      "outputs": [
        {
          "output_type": "execute_result",
          "data": {
            "text/plain": [
              "((5494, 21), (5494,), (5495, 21), (5495,))"
            ]
          },
          "metadata": {},
          "execution_count": 72
        }
      ]
    },
    {
      "cell_type": "code",
      "source": [
        "import tensorflow as tf\n",
        "\n",
        "from keras.models import Sequential, Model\n",
        "from keras.layers import Dense, Dropout, Flatten, Input"
      ],
      "metadata": {
        "id": "CS-F_rL-n-rc"
      },
      "execution_count": 73,
      "outputs": []
    },
    {
      "cell_type": "code",
      "source": [
        "X_train.shape[1]"
      ],
      "metadata": {
        "colab": {
          "base_uri": "https://localhost:8080/"
        },
        "id": "YiHokl43xPl8",
        "outputId": "f28e579f-d8c2-49b2-d105-a178262835c4"
      },
      "execution_count": 74,
      "outputs": [
        {
          "output_type": "execute_result",
          "data": {
            "text/plain": [
              "21"
            ]
          },
          "metadata": {},
          "execution_count": 74
        }
      ]
    },
    {
      "cell_type": "code",
      "source": [
        "model = Sequential()\n",
        "model.add(Dense(100, activation='relu'))\n",
        "model.add(Dropout(0.5))\n",
        "model.add(Dense(100, activation='relu'))\n",
        "model.add(Dropout(0.5))\n",
        "model.add(Dense(100, activation='relu'))\n",
        "model.add(Dropout(0.5))\n",
        "model.add(Dense(100, activation='relu'))\n",
        "model.add(Dropout(0.5))\n",
        "model.add(Dense(100, activation='relu'))\n",
        "model.add(Dropout(0.5))\n",
        "model.add(Dense(50, activation='relu'))\n",
        "model.add(Dropout(0.5))\n",
        "model.add(Dense(2, activation='softmax'))"
      ],
      "metadata": {
        "id": "-zT0XRpMsk0k"
      },
      "execution_count": 110,
      "outputs": []
    },
    {
      "cell_type": "code",
      "source": [
        "epoch = 200\n",
        "from keras.optimizers import Adam\n",
        "early_stopping = tf.keras.callbacks.EarlyStopping(patience = 5)\n",
        "\n",
        "opt = tf.keras.optimizers.Adam(learning_rate=0.0001)"
      ],
      "metadata": {
        "id": "6a83_u8IyYfv"
      },
      "execution_count": 111,
      "outputs": []
    },
    {
      "cell_type": "code",
      "source": [
        "model.compile(loss='sparse_categorical_crossentropy', optimizer=opt, metrics=['accuracy'])"
      ],
      "metadata": {
        "id": "T0M1JjzCy00H"
      },
      "execution_count": 112,
      "outputs": []
    },
    {
      "cell_type": "code",
      "source": [
        "history = model.fit(X_train, y_train,batch_size = 50, steps_per_epoch = len(X_train)//50, epochs=epoch, callbacks=[early_stopping], validation_data = (X_test, y_test),validation_steps=len(X_test)//50)"
      ],
      "metadata": {
        "colab": {
          "base_uri": "https://localhost:8080/"
        },
        "id": "k7pKD5gzzZiy",
        "outputId": "6d69e817-86a0-48f6-96f6-9c181498ae31"
      },
      "execution_count": 118,
      "outputs": [
        {
          "output_type": "stream",
          "name": "stdout",
          "text": [
            "Epoch 1/200\n",
            "879/879 [==============================] - 4s 4ms/step - loss: 0.3963 - accuracy: 0.8261 - val_loss: 0.4337 - val_accuracy: 0.8279\n",
            "Epoch 2/200\n",
            "879/879 [==============================] - 5s 6ms/step - loss: 0.3965 - accuracy: 0.8272 - val_loss: 0.4363 - val_accuracy: 0.8292\n",
            "Epoch 3/200\n",
            "879/879 [==============================] - 4s 5ms/step - loss: 0.3952 - accuracy: 0.8270 - val_loss: 0.4310 - val_accuracy: 0.8270\n",
            "Epoch 4/200\n",
            "879/879 [==============================] - 4s 4ms/step - loss: 0.3943 - accuracy: 0.8274 - val_loss: 0.4348 - val_accuracy: 0.8292\n",
            "Epoch 5/200\n",
            "879/879 [==============================] - 4s 5ms/step - loss: 0.3951 - accuracy: 0.8284 - val_loss: 0.4328 - val_accuracy: 0.8275\n",
            "Epoch 6/200\n",
            "879/879 [==============================] - 5s 6ms/step - loss: 0.3957 - accuracy: 0.8272 - val_loss: 0.4357 - val_accuracy: 0.8268\n",
            "Epoch 7/200\n",
            "879/879 [==============================] - 4s 4ms/step - loss: 0.3964 - accuracy: 0.8263 - val_loss: 0.4343 - val_accuracy: 0.8279\n",
            "Epoch 8/200\n",
            "879/879 [==============================] - 4s 4ms/step - loss: 0.3957 - accuracy: 0.8259 - val_loss: 0.4341 - val_accuracy: 0.8237\n"
          ]
        }
      ]
    },
    {
      "cell_type": "code",
      "source": [
        "plt.figure(figsize=(8, 6))\n",
        "plt.plot(history.history['accuracy'])\n",
        "plt.plot(history.history['val_accuracy'])\n",
        "plt.title('Model accuracy')\n",
        "plt.ylabel('accuracy')\n",
        "plt.xlabel('epoch')\n",
        "plt.legend(['train', 'val'], loc = 'upper left')\n",
        "plt.show()"
      ],
      "metadata": {
        "colab": {
          "base_uri": "https://localhost:8080/",
          "height": 564
        },
        "id": "LDsFAoIZBdRw",
        "outputId": "5fd10439-45c5-462b-bbdb-c084b075a318"
      },
      "execution_count": 120,
      "outputs": [
        {
          "output_type": "display_data",
          "data": {
            "text/plain": [
              "<Figure size 800x600 with 1 Axes>"
            ],
            "image/png": "[encoded data removed]"
          },
          "metadata": {}
        }
      ]
    },
    {
      "cell_type": "code",
      "source": [
        "plt.figure(figsize=(8, 6))\n",
        "plt.plot(history.history['loss'])\n",
        "plt.plot(history.history['val_loss'])\n",
        "plt.title('Model loss')\n",
        "plt.ylabel('loss')\n",
        "plt.xlabel('epoch')\n",
        "plt.legend(['train', 'val'], loc = 'upper left')\n",
        "plt.show()"
      ],
      "metadata": {
        "colab": {
          "base_uri": "https://localhost:8080/",
          "height": 564
        },
        "id": "5tBQMsJaFtYV",
        "outputId": "532ca395-cd05-48ba-fec2-f47ecff762fa"
      },
      "execution_count": 122,
      "outputs": [
        {
          "output_type": "display_data",
          "data": {
            "text/plain": [
              "<Figure size 800x600 with 1 Axes>"
            ],
            "image/png": "[encoded data removed]"
          },
          "metadata": {}
        }
      ]
    },
    {
      "cell_type": "code",
      "source": [
        "model.evaluate(X_validation, y_validation)"
      ],
      "metadata": {
        "colab": {
          "base_uri": "https://localhost:8080/"
        },
        "id": "0PGTkkokDOOh",
        "outputId": "c6626817-9a65-4c38-91da-467406456644"
      },
      "execution_count": 121,
      "outputs": [
        {
          "output_type": "stream",
          "name": "stdout",
          "text": [
            "172/172 [==============================] - 1s 3ms/step - loss: 0.4343 - accuracy: 0.8226\n"
          ]
        },
        {
          "output_type": "execute_result",
          "data": {
            "text/plain": [
              "[0.43427667021751404, 0.8225659728050232]"
            ]
          },
          "metadata": {},
          "execution_count": 121
        }
      ]
    },
    {
      "cell_type": "code",
      "source": [
        "y_pred = model.predict(X_validation)"
      ],
      "metadata": {
        "colab": {
          "base_uri": "https://localhost:8080/"
        },
        "id": "icCDTUzPF9RA",
        "outputId": "28c17674-d79b-4b84-9775-f9a99d563765"
      },
      "execution_count": 123,
      "outputs": [
        {
          "output_type": "stream",
          "name": "stdout",
          "text": [
            "172/172 [==============================] - 1s 3ms/step\n"
          ]
        }
      ]
    },
    {
      "cell_type": "code",
      "source": [
        "y_pred"
      ],
      "metadata": {
        "colab": {
          "base_uri": "https://localhost:8080/"
        },
        "id": "6etlopoXHFIj",
        "outputId": "19494f61-7571-474e-afe8-dc96021283c3"
      },
      "execution_count": 124,
      "outputs": [
        {
          "output_type": "execute_result",
          "data": {
            "text/plain": [
              "array([[0.811037  , 0.188963  ],\n",
              "       [0.7122823 , 0.28771776],\n",
              "       [0.3618168 , 0.63818306],\n",
              "       ...,\n",
              "       [0.7938758 , 0.20612417],\n",
              "       [0.7688656 , 0.2311344 ],\n",
              "       [0.48440874, 0.5155913 ]], dtype=float32)"
            ]
          },
          "metadata": {},
          "execution_count": 124
        }
      ]
    },
    {
      "cell_type": "code",
      "source": [
        "y_pred_actual = np.argmax(y_pred, axis=1)"
      ],
      "metadata": {
        "id": "vR8zXpNwHJel"
      },
      "execution_count": 125,
      "outputs": []
    },
    {
      "cell_type": "code",
      "source": [
        "from sklearn.metrics import confusion_matrix\n",
        "cm = confusion_matrix(y_validation, y_pred_actual)"
      ],
      "metadata": {
        "id": "meAI1uXcJzDw"
      },
      "execution_count": 126,
      "outputs": []
    },
    {
      "cell_type": "code",
      "source": [
        "print(cm)"
      ],
      "metadata": {
        "colab": {
          "base_uri": "https://localhost:8080/"
        },
        "id": "noyWBbwwKFPI",
        "outputId": "64789ba9-d763-4448-cffe-dc73a01b5497"
      },
      "execution_count": 127,
      "outputs": [
        {
          "output_type": "stream",
          "name": "stdout",
          "text": [
            "[[3481  182]\n",
            " [ 793 1039]]\n"
          ]
        }
      ]
    },
    {
      "cell_type": "code",
      "source": [
        "plt.figure(figsize=(8,6))\n",
        "sns.heatmap(cm, annot=True,fmt='d',cmap='Blues',cbar=False,xticklabels=['YES', 'NO'], yticklabels=['YES', 'NO'])\n",
        "plt.xlabel('Predicted')\n",
        "plt.ylabel('Actual')\n",
        "plt.title('Confusion Matrix')\n",
        "plt.show()"
      ],
      "metadata": {
        "colab": {
          "base_uri": "https://localhost:8080/",
          "height": 564
        },
        "id": "LJ50cS2iKH3r",
        "outputId": "abf0e3ee-c13c-4c07-f4d5-aa3b149f9488"
      },
      "execution_count": 128,
      "outputs": [
        {
          "output_type": "display_data",
          "data": {
            "text/plain": [
              "<Figure size 800x600 with 1 Axes>"
            ],
            "image/png": "[encoded data removed]"
          },
          "metadata": {}
        }
      ]
    },
    {
      "cell_type": "code",
      "source": [
        "from sklearn.metrics import f1_score,average_precision_score,average_precision_score, precision_score, recall_score, roc_auc_score, classification_report, roc_curve,auc"
      ],
      "metadata": {
        "id": "uDJ9wv7wLMh-"
      },
      "execution_count": 129,
      "outputs": []
    },
    {
      "cell_type": "code",
      "source": [
        "CR = classification_report(y_validation, y_pred_actual)\n",
        "print(CR)"
      ],
      "metadata": {
        "colab": {
          "base_uri": "https://localhost:8080/"
        },
        "id": "ugCvqgVDLqn5",
        "outputId": "49438cbd-83ea-409b-e297-9be6a0c7e270"
      },
      "execution_count": 130,
      "outputs": [
        {
          "output_type": "stream",
          "name": "stdout",
          "text": [
            "              precision    recall  f1-score   support\n",
            "\n",
            "           0       0.81      0.95      0.88      3663\n",
            "           1       0.85      0.57      0.68      1832\n",
            "\n",
            "    accuracy                           0.82      5495\n",
            "   macro avg       0.83      0.76      0.78      5495\n",
            "weighted avg       0.83      0.82      0.81      5495\n",
            "\n"
          ]
        }
      ]
    },
    {
      "cell_type": "code",
      "source": [
        "print(\"Precision:\", precision_score(y_validation, y_pred_actual))\n",
        "print(\"Recall:\", recall_score(y_validation, y_pred_actual))\n",
        "print(\"F1:\", f1_score(y_validation, y_pred_actual))\n",
        "print(\"AUC\", average_precision_score(y_validation, y_pred_actual))"
      ],
      "metadata": {
        "colab": {
          "base_uri": "https://localhost:8080/"
        },
        "id": "PExnwhXbL9ym",
        "outputId": "27b97143-b0eb-4b2d-9a3b-03c205f09e14"
      },
      "execution_count": 131,
      "outputs": [
        {
          "output_type": "stream",
          "name": "stdout",
          "text": [
            "Precision: 0.8509418509418509\n",
            "Recall: 0.5671397379912664\n",
            "F1: 0.6806419914837865\n",
            "AUC 0.6269159502178999\n"
          ]
        }
      ]
    },
    {
      "cell_type": "markdown",
      "source": [
        "Data Oversampling for building the model"
      ],
      "metadata": {
        "id": "jFEYwCzXN57W"
      }
    },
    {
      "cell_type": "code",
      "source": [
        "from imblearn.over_sampling import RandomOverSampler\n",
        "ros = RandomOverSampler(sampling_strategy=0.5)"
      ],
      "metadata": {
        "id": "-mbR9WuCMvp3"
      },
      "execution_count": 132,
      "outputs": []
    },
    {
      "cell_type": "code",
      "source": [
        "X_df_resample2, Y_df_resample2 = ros.fit_resample(X_df, Y_df)"
      ],
      "metadata": {
        "id": "vva8uV8fOoVg"
      },
      "execution_count": 133,
      "outputs": []
    },
    {
      "cell_type": "code",
      "source": [
        "X_df_resample2.shape, Y_df_resample2.shape"
      ],
      "metadata": {
        "colab": {
          "base_uri": "https://localhost:8080/"
        },
        "id": "ZEfOkQnBO1r6",
        "outputId": "ba8380b6-665a-4a69-defa-9586e3dbdc9f"
      },
      "execution_count": 134,
      "outputs": [
        {
          "output_type": "execute_result",
          "data": {
            "text/plain": [
              "((487299, 21), (487299,))"
            ]
          },
          "metadata": {},
          "execution_count": 134
        }
      ]
    },
    {
      "cell_type": "code",
      "source": [
        "Y_df_resample2.value_counts()"
      ],
      "metadata": {
        "colab": {
          "base_uri": "https://localhost:8080/"
        },
        "id": "dbAGFk_8UoWn",
        "outputId": "60fdae63-7279-4eee-fa6d-e744e3caf903"
      },
      "execution_count": 136,
      "outputs": [
        {
          "output_type": "execute_result",
          "data": {
            "text/plain": [
              "HadHeartAttack\n",
              "0    324866\n",
              "1    162433\n",
              "Name: count, dtype: int64"
            ]
          },
          "metadata": {},
          "execution_count": 136
        }
      ]
    },
    {
      "cell_type": "markdown",
      "source": [
        "There are more samples than the original data and the dataset is now oversampled"
      ],
      "metadata": {
        "id": "YutP9PJtUtOP"
      }
    },
    {
      "cell_type": "code",
      "source": [
        "pielabel = Y_df_resample2.unique()\n",
        "plt.pie(Y_df_resample2.value_counts(), labels=pielabel)"
      ],
      "metadata": {
        "colab": {
          "base_uri": "https://localhost:8080/",
          "height": 876
        },
        "id": "Kjm4h4AgUOGk",
        "outputId": "425b1341-9a1a-45ff-96df-1d2a267b21b1"
      },
      "execution_count": 135,
      "outputs": [
        {
          "output_type": "execute_result",
          "data": {
            "text/plain": [
              "([<matplotlib.patches.Wedge at 0x7d249e802680>,\n",
              "  <matplotlib.patches.Wedge at 0x7d249e802590>],\n",
              " [Text(-0.5500000594609755, 0.9526279098330699, '0'),\n",
              "  Text(0.5500001486524352, -0.9526278583383436, '1')])"
            ]
          },
          "metadata": {},
          "execution_count": 135
        },
        {
          "output_type": "display_data",
          "data": {
            "text/plain": [
              "<Figure size 2000x1000 with 1 Axes>"
            ],
            "image/png": "[encoded data removed]"
          },
          "metadata": {}
        }
      ]
    },
    {
      "cell_type": "code",
      "source": [
        "X_train2, X_test21, y_train2, y_test21 = train_test_split(\n",
        "    X_df_resample2,\n",
        "    Y_df_resample2,\n",
        "    test_size=0.2,\n",
        "    stratify=Y_df_resample2,\n",
        "    random_state=42,\n",
        ")"
      ],
      "metadata": {
        "id": "syNZorTPU1wG"
      },
      "execution_count": 138,
      "outputs": []
    },
    {
      "cell_type": "code",
      "source": [
        "X_test2, X_validation2, y_test2, y_validation2 = train_test_split(\n",
        "    X_test21,\n",
        "    y_test21,\n",
        "    test_size=0.5,\n",
        "    stratify=y_test21,\n",
        "    random_state=42,\n",
        ")"
      ],
      "metadata": {
        "id": "H7TwnXJbVIEN"
      },
      "execution_count": 139,
      "outputs": []
    },
    {
      "cell_type": "code",
      "source": [
        "model1 = tf.keras.Sequential([\n",
        "    tf.keras.layers.Dense(100, activation='relu'),\n",
        "    tf.keras.layers.Dropout(0.5),\n",
        "    tf.keras.layers.Dense(100, activation='relu'),\n",
        "    tf.keras.layers.Dropout(0.5),\n",
        "    tf.keras.layers.Dense(100, activation='relu'),\n",
        "    tf.keras.layers.Dropout(0.5),\n",
        "    tf.keras.layers.Dense(50, activation='relu'),\n",
        "    tf.keras.layers.Dropout(0.5),\n",
        "    tf.keras.layers.Dense(2, activation='softmax')\n",
        "])"
      ],
      "metadata": {
        "id": "wYlWlnANVzmz"
      },
      "execution_count": 141,
      "outputs": []
    },
    {
      "cell_type": "code",
      "source": [
        "early_stopping2 = tf.keras.callbacks.EarlyStopping(patience = 4)"
      ],
      "metadata": {
        "id": "cN-YWt1aYT_C"
      },
      "execution_count": 150,
      "outputs": []
    },
    {
      "cell_type": "code",
      "source": [
        "opt2 = tf.keras.optimizers.Adam(learning_rate=0.0001)\n",
        "model1.compile(loss='sparse_categorical_crossentropy', optimizer=opt2, metrics=['accuracy'])"
      ],
      "metadata": {
        "id": "M1EFN5E0YBRE"
      },
      "execution_count": 151,
      "outputs": []
    },
    {
      "cell_type": "code",
      "source": [
        "history2 = model1.fit(X_train2, y_train2,batch_size = 1000, steps_per_epoch = len(X_train2)//1000, epochs=10, validation_data = (X_test2, y_test2),validation_steps=len(X_test2)//1000)"
      ],
      "metadata": {
        "colab": {
          "base_uri": "https://localhost:8080/"
        },
        "id": "DVVqHwTVW5wv",
        "outputId": "52167812-fa71-497d-e944-9e9c9e9429fd"
      },
      "execution_count": 154,
      "outputs": [
        {
          "output_type": "stream",
          "name": "stdout",
          "text": [
            "Epoch 1/10\n",
            "389/389 [==============================] - 5s 13ms/step - loss: 0.4016 - accuracy: 0.8260\n",
            "Epoch 2/10\n",
            "389/389 [==============================] - 6s 15ms/step - loss: 0.4014 - accuracy: 0.8257\n",
            "Epoch 3/10\n",
            "389/389 [==============================] - 5s 12ms/step - loss: 0.4011 - accuracy: 0.8263\n",
            "Epoch 4/10\n",
            "389/389 [==============================] - 6s 15ms/step - loss: 0.4005 - accuracy: 0.8266\n",
            "Epoch 5/10\n",
            "389/389 [==============================] - 6s 14ms/step - loss: 0.3996 - accuracy: 0.8263\n",
            "Epoch 6/10\n",
            "389/389 [==============================] - 5s 12ms/step - loss: 0.4003 - accuracy: 0.8261\n",
            "Epoch 7/10\n",
            "389/389 [==============================] - 6s 16ms/step - loss: 0.3992 - accuracy: 0.8271\n",
            "Epoch 8/10\n",
            "389/389 [==============================] - 5s 13ms/step - loss: 0.4001 - accuracy: 0.8266\n",
            "Epoch 9/10\n",
            "389/389 [==============================] - 5s 12ms/step - loss: 0.3990 - accuracy: 0.8267\n",
            "Epoch 10/10\n",
            "389/389 [==============================] - 7s 17ms/step - loss: 0.3993 - accuracy: 0.8265\n"
          ]
        }
      ]
    },
    {
      "cell_type": "code",
      "source": [
        "model1.evaluate(X_validation2, y_validation2)"
      ],
      "metadata": {
        "colab": {
          "base_uri": "https://localhost:8080/"
        },
        "id": "PLq0dRkaXqqW",
        "outputId": "a681890e-4a3e-4e60-ea9b-300e54d944de"
      },
      "execution_count": 155,
      "outputs": [
        {
          "output_type": "stream",
          "name": "stdout",
          "text": [
            "1523/1523 [==============================] - 3s 2ms/step - loss: 0.4129 - accuracy: 0.8278\n"
          ]
        },
        {
          "output_type": "execute_result",
          "data": {
            "text/plain": [
              "[0.41293925046920776, 0.8277857303619385]"
            ]
          },
          "metadata": {},
          "execution_count": 155
        }
      ]
    },
    {
      "cell_type": "markdown",
      "source": [
        "The undersampling and oversampling gave almost the same accuracy for both deep learning model."
      ],
      "metadata": {
        "id": "8BcifKEtcDWW"
      }
    },
    {
      "cell_type": "code",
      "source": [],
      "metadata": {
        "id": "lmAB0OMNbptp"
      },
      "execution_count": null,
      "outputs": []
    }
  ]
}