{
  "nbformat": 4,
  "nbformat_minor": 0,
  "metadata": {
    "colab": {
      "provenance": [],
      "authorship_tag": "ABX9TyNnUwkJucnObiV7cyHU+2Ub",
      "include_colab_link": true
    },
    "kernelspec": {
      "name": "python3",
      "display_name": "Python 3"
    },
    "language_info": {
      "name": "python"
    }
  },
  "cells": [
    {
      "cell_type": "markdown",
      "metadata": {
        "id": "view-in-github",
        "colab_type": "text"
      },
      "source": [
        "<a href=\"https://colab.research.google.com/github/eooloyede/Data-Analytics/blob/main/Analysis_of_Crime_Rate_in_UK.ipynb\" target=\"_parent\"><img src=\"https://colab.research.google.com/assets/colab-badge.svg\" alt=\"Open In Colab\"/></a>"
      ]
    },
    {
      "cell_type": "code",
      "execution_count": null,
      "metadata": {
        "id": "KUKyNNxJSrqQ"
      },
      "outputs": [],
      "source": [
        " To run spark, dependencies are installed: Java 8, Apache Spark with Hadoop and Findspark\n",
        "!apt-get install openjdk-8-jdk-headless -qq > /dev/null\n",
        "!wget -q http://archive.apache.org/dist/spark/spark-3.1.1/spark-3.1.1-bin-hadoop3.2.tgz\n",
        "!tar xf spark-3.1.1-bin-hadoop3.2.tgz\n",
        "!pip install -q findspark"
      ]
    },
    {
      "cell_type": "code",
      "source": [
        "#The enviroment variables are also set\n",
        "import os\n",
        "os.environ[\"JAVA_HOME\"] = \"/usr/lib/jvm/java-8-openjdk-amd64\"\n",
        "os.environ[\"SPARK_HOME\"] = \"/content/spark-3.1.1-bin-hadoop3.2\""
      ],
      "metadata": {
        "id": "BV6MsYAAoeqi"
      },
      "execution_count": null,
      "outputs": []
    },
    {
      "cell_type": "code",
      "source": [
        "#Other important spark libraries are also imported\n",
        "import findspark\n",
        "findspark.init()\n",
        "from pyspark.sql import SparkSession\n",
        "spark = SparkSession.builder.master(\"local[*]\").getOrCreate()\n",
        "spark = SparkSession.builder.appName(\"ReadExcel\").getOrCreate()\n",
        "spark.conf.set(\"spark.sql.repl.eagerEval.enabled\", True) # Property used to format output tables better\n",
        "spark"
      ],
      "metadata": {
        "colab": {
          "base_uri": "https://localhost:8080/",
          "height": 219
        },
        "id": "fZ_kExE3o6Oh",
        "outputId": "2c869c3b-0674-40cb-8ab4-472c2f01f146"
      },
      "execution_count": null,
      "outputs": [
        {
          "output_type": "execute_result",
          "data": {
            "text/plain": [
              "<pyspark.sql.session.SparkSession at 0x7d4e78d91d20>"
            ],
            "text/html": [
              "\n",
              "            <div>\n",
              "                <p><b>SparkSession - in-memory</b></p>\n",
              "                \n",
              "        <div>\n",
              "            <p><b>SparkContext</b></p>\n",
              "\n",
              "            <p><a href=\"http://ff0e91486b7c:4040\">Spark UI</a></p>\n",
              "\n",
              "            <dl>\n",
              "              <dt>Version</dt>\n",
              "                <dd><code>v3.1.1</code></dd>\n",
              "              <dt>Master</dt>\n",
              "                <dd><code>local[*]</code></dd>\n",
              "              <dt>AppName</dt>\n",
              "                <dd><code>pyspark-shell</code></dd>\n",
              "            </dl>\n",
              "        </div>\n",
              "        \n",
              "            </div>\n",
              "        "
            ]
          },
          "metadata": {},
          "execution_count": 3
        }
      ]
    },
    {
      "cell_type": "code",
      "source": [
        "#Import other neccessary libraries\n",
        "import pyspark.sql.functions as func\n",
        "from pyspark.sql.functions import sum\n",
        "import pandas as pd"
      ],
      "metadata": {
        "id": "sq5C4WBwvQUi"
      },
      "execution_count": null,
      "outputs": []
    },
    {
      "cell_type": "code",
      "source": [
        "#Install the python library that can read and ods file\n",
        "!pip install odfpy"
      ],
      "metadata": {
        "colab": {
          "base_uri": "https://localhost:8080/"
        },
        "id": "QF9z7DTvvrfg",
        "outputId": "dc0d0bd2-d055-408c-e7c0-54c1c645c448"
      },
      "execution_count": null,
      "outputs": [
        {
          "output_type": "stream",
          "name": "stdout",
          "text": [
            "Collecting odfpy\n",
            "  Downloading odfpy-1.4.1.tar.gz (717 kB)\n",
            "\u001b[?25l     \u001b[90m━━━━━━━━━━━━━━━━━━━━━━━━━━━━━━━━━━━━━━━━\u001b[0m \u001b[32m0.0/717.0 kB\u001b[0m \u001b[31m?\u001b[0m eta \u001b[36m-:--:--\u001b[0m\r\u001b[2K     \u001b[91m━━━━━━\u001b[0m\u001b[90m╺\u001b[0m\u001b[90m━━━━━━━━━━━━━━━━━━━━━━━━━━━━━━━━━\u001b[0m \u001b[32m112.6/717.0 kB\u001b[0m \u001b[31m3.4 MB/s\u001b[0m eta \u001b[36m0:00:01\u001b[0m\r\u001b[2K     \u001b[91m━━━━━━━━━━━━━━━━━━━━━━━━━━━━━━━\u001b[0m\u001b[90m╺\u001b[0m\u001b[90m━━━━━━━━\u001b[0m \u001b[32m563.2/717.0 kB\u001b[0m \u001b[31m8.4 MB/s\u001b[0m eta \u001b[36m0:00:01\u001b[0m\r\u001b[2K     \u001b[90m━━━━━━━━━━━━━━━━━━━━━━━━━━━━━━━━━━━━━━━━\u001b[0m \u001b[32m717.0/717.0 kB\u001b[0m \u001b[31m8.1 MB/s\u001b[0m eta \u001b[36m0:00:00\u001b[0m\n",
            "\u001b[?25h  Preparing metadata (setup.py) ... \u001b[?25l\u001b[?25hdone\n",
            "Requirement already satisfied: defusedxml in /usr/local/lib/python3.10/dist-packages (from odfpy) (0.7.1)\n",
            "Building wheels for collected packages: odfpy\n",
            "  Building wheel for odfpy (setup.py) ... \u001b[?25l\u001b[?25hdone\n",
            "  Created wheel for odfpy: filename=odfpy-1.4.1-py2.py3-none-any.whl size=160673 sha256=54f7db712930a11aca087aadabe1fddda46a5fac8e8a0ba464bdc6754579baa1\n",
            "  Stored in directory: /root/.cache/pip/wheels/c8/2e/95/90d94fe33903786937f3b8c33dd88807f792359c6424b40469\n",
            "Successfully built odfpy\n",
            "Installing collected packages: odfpy\n",
            "Successfully installed odfpy-1.4.1\n"
          ]
        }
      ]
    },
    {
      "cell_type": "code",
      "source": [
        "#Load the dataset into pandas\n",
        "DF12_13 = pd.read_excel('/content/sample_data/prc-pfa-mar2013-onwards-tables-191023.ods', sheet_name='2012-13')\n",
        "DF13_14 = pd.read_excel('/content/sample_data/prc-pfa-mar2013-onwards-tables-191023.ods', sheet_name='2013-14')\n",
        "DF14_15 = pd.read_excel('/content/sample_data/prc-pfa-mar2013-onwards-tables-191023.ods', sheet_name='2014-15')\n",
        "DF15_16 = pd.read_excel('/content/sample_data/prc-pfa-mar2013-onwards-tables-191023.ods', sheet_name='2015-16')\n",
        "DF16_17 = pd.read_excel('/content/sample_data/prc-pfa-mar2013-onwards-tables-191023.ods', sheet_name='2016-17')\n",
        "DF17_18 = pd.read_excel('/content/sample_data/prc-pfa-mar2013-onwards-tables-191023.ods', sheet_name='2017-18')\n",
        "DF18_19 = pd.read_excel('/content/sample_data/prc-pfa-mar2013-onwards-tables-191023.ods', sheet_name='2018-19')\n",
        "DF19_20 = pd.read_excel('/content/sample_data/prc-pfa-mar2013-onwards-tables-191023.ods', sheet_name='2019-20')\n",
        "DF20_21 = pd.read_excel('/content/sample_data/prc-pfa-mar2013-onwards-tables-191023.ods', sheet_name='2020-21')\n",
        "DF21_22 = pd.read_excel('/content/sample_data/prc-pfa-mar2013-onwards-tables-191023.ods', sheet_name='2021-22')\n",
        "DF22_23 = pd.read_excel('/content/sample_data/prc-pfa-mar2013-onwards-tables-191023.ods', sheet_name='2022-23')"
      ],
      "metadata": {
        "id": "Y_wUGygqxQ23"
      },
      "execution_count": null,
      "outputs": []
    },
    {
      "cell_type": "code",
      "source": [
        "DF12_13['Offence Code'] = DF12_13['Offence Code'].astype(str)\n",
        "DF13_14['Offence Code'] = DF13_14['Offence Code'].astype(str)\n",
        "DF14_15['Offence Code'] = DF14_15['Offence Code'].astype(str)\n",
        "DF15_16['Offence Code'] = DF15_16['Offence Code'].astype(str)\n",
        "DF16_17['Offence Code'] = DF16_17['Offence Code'].astype(str)\n",
        "DF17_18['Offence Code'] = DF17_18['Offence Code'].astype(str)\n",
        "DF18_19['Offence Code'] = DF18_19['Offence Code'].astype(str)\n",
        "DF19_20['Offence Code'] = DF19_20['Offence Code'].astype(str)\n",
        "DF20_21['Offence Code'] = DF20_21['Offence Code'].astype(str)\n",
        "DF21_22['Offence Code'] = DF21_22['Offence Code'].astype(str)\n",
        "DF22_23['Offence Code'] = DF22_23['Offence Code'].astype(str)"
      ],
      "metadata": {
        "id": "-9NA112R-d3K"
      },
      "execution_count": null,
      "outputs": []
    },
    {
      "cell_type": "code",
      "source": [
        "spark_DF12_13 = spark.createDataFrame(DF12_13)\n",
        "spark_DF13_14 = spark.createDataFrame(DF13_14)\n",
        "spark_DF14_15 = spark.createDataFrame(DF14_15)\n",
        "spark_DF15_16 = spark.createDataFrame(DF15_16)\n",
        "spark_DF16_17 = spark.createDataFrame(DF16_17)\n",
        "spark_DF17_18 = spark.createDataFrame(DF17_18)\n",
        "spark_DF18_19 = spark.createDataFrame(DF18_19)\n",
        "spark_DF19_20 = spark.createDataFrame(DF19_20)\n",
        "spark_DF20_21 = spark.createDataFrame(DF20_21)\n",
        "spark_DF21_22 = spark.createDataFrame(DF21_22)\n",
        "spark_DF22_23 = spark.createDataFrame(DF22_23)"
      ],
      "metadata": {
        "id": "OXo1iAsq0BHD"
      },
      "execution_count": null,
      "outputs": []
    },
    {
      "cell_type": "code",
      "source": [
        "spark_DF12_13.show()"
      ],
      "metadata": {
        "colab": {
          "base_uri": "https://localhost:8080/"
        },
        "id": "d_f0HFic-bbT",
        "outputId": "9494dd51-5bec-45f5-b7c7-b64310fce99e"
      },
      "execution_count": null,
      "outputs": [
        {
          "output_type": "stream",
          "name": "stdout",
          "text": [
            "+--------------+-----------------+-----------------+--------------------+--------------------+--------------------+------------+------------------+\n",
            "|Financial Year|Financial Quarter|       Force Name| Offence Description|       Offence Group|    Offence Subgroup|Offence Code|Number of Offences|\n",
            "+--------------+-----------------+-----------------+--------------------+--------------------+--------------------+------------+------------------+\n",
            "|       2012/13|                1|     Action Fraud|Fraud offences re...|      Fraud offences| Fraud: Action Fraud|          AF|             20323|\n",
            "|       2012/13|                1|Avon and Somerset|Abandoning child ...|Violence against ...|Violence without ...|          12|                 0|\n",
            "|       2012/13|                1|Avon and Somerset|Absconding from l...|Miscellaneous cri...|Miscellaneous cri...|          80|                 1|\n",
            "|       2012/13|                1|Avon and Somerset|Abuse of children...|     Sexual offences|Other sexual offe...|          71|                 0|\n",
            "|       2012/13|                1|Avon and Somerset|Abuse of position...|     Sexual offences|Other sexual offe...|          73|                 3|\n",
            "|       2012/13|                1|Avon and Somerset|Actually bodily h...|Violence against ...|Violence with injury|          8G|                 0|\n",
            "|       2012/13|                1|Avon and Somerset|Adulteration of f...|Miscellaneous cri...|Miscellaneous cri...|          89|                 0|\n",
            "|       2012/13|                1|Avon and Somerset|Aggravated burgla...|      Theft offences|Non-domestic burg...|          31|                 1|\n",
            "|       2012/13|                1|Avon and Somerset|Aggravated burgla...|      Theft offences|   Domestic burglary|          29|                 5|\n",
            "|       2012/13|                1|Avon and Somerset|Aggravated vehicl...|      Theft offences|Theft of a motor ...|        37.2|                45|\n",
            "|       2012/13|                1|Avon and Somerset|      Aiding suicide|Miscellaneous cri...|Miscellaneous cri...|          76|                 0|\n",
            "|       2012/13|                1|Avon and Somerset|Arson endangering...|Criminal damage a...|               Arson|         56A|                25|\n",
            "|       2012/13|                1|Avon and Somerset|Arson not endange...|Criminal damage a...|               Arson|         56B|               184|\n",
            "|       2012/13|                1|Avon and Somerset| Assault with injury|Violence against ...|Violence with injury|          8N|              2064|\n",
            "|       2012/13|                1|Avon and Somerset|Assault with inte...|Violence against ...|Violence with injury|          5D|                83|\n",
            "|       2012/13|                1|Avon and Somerset|Assault without i...|Violence against ...|Violence without ...|        105A|              1573|\n",
            "|       2012/13|                1|Avon and Somerset|Assault without i...|Violence against ...|Violence without ...|         104|               140|\n",
            "|       2012/13|                1|Avon and Somerset|Attempted burglar...|      Theft offences|Non-domestic burg...|         30B|               205|\n",
            "|       2012/13|                1|Avon and Somerset|Attempted burglar...|      Theft offences|   Domestic burglary|         28B|               182|\n",
            "|       2012/13|                1|Avon and Somerset|Attempted distrac...|      Theft offences|   Domestic burglary|         28D|                 2|\n",
            "+--------------+-----------------+-----------------+--------------------+--------------------+--------------------+------------+------------------+\n",
            "only showing top 20 rows\n",
            "\n"
          ]
        }
      ]
    },
    {
      "cell_type": "code",
      "source": [
        "spark_DF22_23.show()"
      ],
      "metadata": {
        "colab": {
          "base_uri": "https://localhost:8080/"
        },
        "id": "1rUb_nxXCYrX",
        "outputId": "49a98da5-1618-4a4b-d3d3-7c6b576680d2"
      },
      "execution_count": null,
      "outputs": [
        {
          "output_type": "stream",
          "name": "stdout",
          "text": [
            "+--------------+-----------------+-----------------+--------------------+--------------------+--------------------+------------+------------------+\n",
            "|Financial Year|Financial Quarter|       Force Name| Offence Description|       Offence Group|    Offence Subgroup|Offence Code|Number of Offences|\n",
            "+--------------+-----------------+-----------------+--------------------+--------------------+--------------------+------------+------------------+\n",
            "|       2022/23|                1|Avon and Somerset|Absconding from l...|Miscellaneous cri...|Miscellaneous cri...|          80|                 6|\n",
            "|       2022/23|                1|Avon and Somerset|Abuse of children...|     Sexual offences|Other sexual offe...|          71|                 5|\n",
            "|       2022/23|                1|Avon and Somerset|Abuse of position...|     Sexual offences|Other sexual offe...|          73|                 1|\n",
            "|       2022/23|                1|Avon and Somerset|Aggravated Burgla...|      Theft offences|Non-domestic burg...|         31A|                 5|\n",
            "|       2022/23|                1|Avon and Somerset|Aggravated burgla...|      Theft offences|Non-domestic burg...|          31|                 0|\n",
            "|       2022/23|                1|Avon and Somerset|Aggravated burgla...|      Theft offences|   Domestic burglary|          29|                 0|\n",
            "|       2022/23|                1|Avon and Somerset|Aggravated Burgla...|      Theft offences|   Domestic burglary|         29A|                24|\n",
            "|       2022/23|                1|Avon and Somerset|Aggravated vehicl...|      Theft offences|Theft of a motor ...|        37.2|                 9|\n",
            "|       2022/23|                1|Avon and Somerset|      Aiding suicide|Miscellaneous cri...|Miscellaneous cri...|          76|                 0|\n",
            "|       2022/23|                1|Avon and Somerset|Arson endangering...|Criminal damage a...|               Arson|         56A|                15|\n",
            "|       2022/23|                1|Avon and Somerset|Arson not endange...|Criminal damage a...|               Arson|         56B|               149|\n",
            "|       2022/23|                1|Avon and Somerset| Assault with injury|Violence against ...|Violence with injury|          8N|              3054|\n",
            "|       2022/23|                1|Avon and Somerset|Assault with inju...|Violence against ...|Violence with injury|          8S|                99|\n",
            "|       2022/23|                1|Avon and Somerset|Assault with inte...|Violence against ...|Violence with injury|          5D|               156|\n",
            "|       2022/23|                1|Avon and Somerset|Assault without i...|Violence against ...|Violence without ...|        105A|              4728|\n",
            "|       2022/23|                1|Avon and Somerset|Assault without i...|Violence against ...|Violence without ...|         104|               320|\n",
            "|       2022/23|                1|Avon and Somerset|Assaults on emerg...|Violence against ...|Violence with injury|          8T|                23|\n",
            "|       2022/23|                1|Avon and Somerset|Attempted Burglar...|      Theft offences|Non-domestic burg...|         30D|                96|\n",
            "|       2022/23|                1|Avon and Somerset|Attempted burglar...|      Theft offences|Non-domestic burg...|         30B|                 0|\n",
            "|       2022/23|                1|Avon and Somerset|Attempted burglar...|      Theft offences|   Domestic burglary|         28B|                 0|\n",
            "+--------------+-----------------+-----------------+--------------------+--------------------+--------------------+------------+------------------+\n",
            "only showing top 20 rows\n",
            "\n"
          ]
        }
      ]
    },
    {
      "cell_type": "code",
      "source": [
        "#Merge dataset using spark SQL union\n",
        "merged_DF = spark_DF12_13.union(spark_DF13_14)\\\n",
        ".union(spark_DF14_15).union(spark_DF15_16)\\\n",
        ".union(spark_DF16_17).union(spark_DF17_18)\\\n",
        ".union(spark_DF18_19).union(spark_DF19_20)\\\n",
        ".union(spark_DF20_21).union(spark_DF21_22)\\\n",
        ".union(spark_DF22_23)"
      ],
      "metadata": {
        "id": "9lIH5R5eCirw"
      },
      "execution_count": null,
      "outputs": []
    },
    {
      "cell_type": "code",
      "source": [
        "merged_DF.count()"
      ],
      "metadata": {
        "colab": {
          "base_uri": "https://localhost:8080/"
        },
        "id": "cV0jWPbXMg6p",
        "outputId": "11ae98c3-eb47-48ff-d1f7-fef00aad46f3"
      },
      "execution_count": null,
      "outputs": [
        {
          "output_type": "execute_result",
          "data": {
            "text/plain": [
              "252522"
            ]
          },
          "metadata": {},
          "execution_count": 17
        }
      ]
    },
    {
      "cell_type": "code",
      "source": [
        "merged_DF.show()"
      ],
      "metadata": {
        "colab": {
          "base_uri": "https://localhost:8080/"
        },
        "id": "r5tu4ETxGch4",
        "outputId": "381c19cd-a3f9-4f25-c829-88bc32fd6745"
      },
      "execution_count": null,
      "outputs": [
        {
          "output_type": "stream",
          "name": "stdout",
          "text": [
            "+--------------+-----------------+-----------------+--------------------+--------------------+--------------------+------------+------------------+\n",
            "|Financial Year|Financial Quarter|       Force Name| Offence Description|       Offence Group|    Offence Subgroup|Offence Code|Number of Offences|\n",
            "+--------------+-----------------+-----------------+--------------------+--------------------+--------------------+------------+------------------+\n",
            "|       2012/13|                1|     Action Fraud|Fraud offences re...|      Fraud offences| Fraud: Action Fraud|          AF|             20323|\n",
            "|       2012/13|                1|Avon and Somerset|Abandoning child ...|Violence against ...|Violence without ...|          12|                 0|\n",
            "|       2012/13|                1|Avon and Somerset|Absconding from l...|Miscellaneous cri...|Miscellaneous cri...|          80|                 1|\n",
            "|       2012/13|                1|Avon and Somerset|Abuse of children...|     Sexual offences|Other sexual offe...|          71|                 0|\n",
            "|       2012/13|                1|Avon and Somerset|Abuse of position...|     Sexual offences|Other sexual offe...|          73|                 3|\n",
            "|       2012/13|                1|Avon and Somerset|Actually bodily h...|Violence against ...|Violence with injury|          8G|                 0|\n",
            "|       2012/13|                1|Avon and Somerset|Adulteration of f...|Miscellaneous cri...|Miscellaneous cri...|          89|                 0|\n",
            "|       2012/13|                1|Avon and Somerset|Aggravated burgla...|      Theft offences|Non-domestic burg...|          31|                 1|\n",
            "|       2012/13|                1|Avon and Somerset|Aggravated burgla...|      Theft offences|   Domestic burglary|          29|                 5|\n",
            "|       2012/13|                1|Avon and Somerset|Aggravated vehicl...|      Theft offences|Theft of a motor ...|        37.2|                45|\n",
            "|       2012/13|                1|Avon and Somerset|      Aiding suicide|Miscellaneous cri...|Miscellaneous cri...|          76|                 0|\n",
            "|       2012/13|                1|Avon and Somerset|Arson endangering...|Criminal damage a...|               Arson|         56A|                25|\n",
            "|       2012/13|                1|Avon and Somerset|Arson not endange...|Criminal damage a...|               Arson|         56B|               184|\n",
            "|       2012/13|                1|Avon and Somerset| Assault with injury|Violence against ...|Violence with injury|          8N|              2064|\n",
            "|       2012/13|                1|Avon and Somerset|Assault with inte...|Violence against ...|Violence with injury|          5D|                83|\n",
            "|       2012/13|                1|Avon and Somerset|Assault without i...|Violence against ...|Violence without ...|        105A|              1573|\n",
            "|       2012/13|                1|Avon and Somerset|Assault without i...|Violence against ...|Violence without ...|         104|               140|\n",
            "|       2012/13|                1|Avon and Somerset|Attempted burglar...|      Theft offences|Non-domestic burg...|         30B|               205|\n",
            "|       2012/13|                1|Avon and Somerset|Attempted burglar...|      Theft offences|   Domestic burglary|         28B|               182|\n",
            "|       2012/13|                1|Avon and Somerset|Attempted distrac...|      Theft offences|   Domestic burglary|         28D|                 2|\n",
            "+--------------+-----------------+-----------------+--------------------+--------------------+--------------------+------------+------------------+\n",
            "only showing top 20 rows\n",
            "\n"
          ]
        }
      ]
    },
    {
      "cell_type": "code",
      "source": [
        "merged_DF.dtypes"
      ],
      "metadata": {
        "colab": {
          "base_uri": "https://localhost:8080/"
        },
        "id": "n3pBqwRqGfGr",
        "outputId": "7acbfbb0-a78c-437d-fe2a-498c6dabb730"
      },
      "execution_count": null,
      "outputs": [
        {
          "output_type": "execute_result",
          "data": {
            "text/plain": [
              "[('Financial Year', 'string'),\n",
              " ('Financial Quarter', 'bigint'),\n",
              " ('Force Name', 'string'),\n",
              " ('Offence Description', 'string'),\n",
              " ('Offence Group', 'string'),\n",
              " ('Offence Subgroup', 'string'),\n",
              " ('Offence Code', 'string'),\n",
              " ('Number of Offences', 'bigint')]"
            ]
          },
          "metadata": {},
          "execution_count": 18
        }
      ]
    },
    {
      "cell_type": "code",
      "source": [
        "#Save a copy of merged spark DF into Pandas DF\n",
        "merged_DF_pd = merged_DF.select(\"*\").toPandas()\n",
        "merged_DF_pd"
      ],
      "metadata": {
        "colab": {
          "base_uri": "https://localhost:8080/",
          "height": 615
        },
        "id": "7e20J3xgL75E",
        "outputId": "48b54b85-cc76-41aa-e319-9b2adb26ca13"
      },
      "execution_count": null,
      "outputs": [
        {
          "output_type": "execute_result",
          "data": {
            "text/plain": [
              "       Financial Year  Financial Quarter         Force Name  \\\n",
              "0             2012/13                  1       Action Fraud   \n",
              "1             2012/13                  1  Avon and Somerset   \n",
              "2             2012/13                  1  Avon and Somerset   \n",
              "3             2012/13                  1  Avon and Somerset   \n",
              "4             2012/13                  1  Avon and Somerset   \n",
              "...               ...                ...                ...   \n",
              "252517        2022/23                  3              CIFAS   \n",
              "252518        2022/23                  3         UK Finance   \n",
              "252519        2022/23                  4       Action Fraud   \n",
              "252520        2022/23                  4              CIFAS   \n",
              "252521        2022/23                  4         UK Finance   \n",
              "\n",
              "                                      Offence Description  \\\n",
              "0                 Fraud offences recorded by Action Fraud   \n",
              "1        Abandoning child under two years (outcomes only)   \n",
              "2                          Absconding from lawful custody   \n",
              "3       Abuse of children through prostitution and por...   \n",
              "4           Abuse of position of trust of a sexual nature   \n",
              "...                                                   ...   \n",
              "252517                   Fraud offences recorded by CIFAS   \n",
              "252518              Fraud offences recorded by UK Finance   \n",
              "252519            Fraud offences recorded by Action Fraud   \n",
              "252520                   Fraud offences recorded by CIFAS   \n",
              "252521              Fraud offences recorded by UK Finance   \n",
              "\n",
              "                               Offence Group  \\\n",
              "0                             Fraud offences   \n",
              "1                Violence against the person   \n",
              "2       Miscellaneous crimes against society   \n",
              "3                            Sexual offences   \n",
              "4                            Sexual offences   \n",
              "...                                      ...   \n",
              "252517                        Fraud offences   \n",
              "252518                        Fraud offences   \n",
              "252519                        Fraud offences   \n",
              "252520                        Fraud offences   \n",
              "252521                        Fraud offences   \n",
              "\n",
              "                            Offence Subgroup Offence Code  Number of Offences  \n",
              "0                        Fraud: Action Fraud           AF               20323  \n",
              "1                    Violence without injury           12                   0  \n",
              "2       Miscellaneous crimes against society           80                   1  \n",
              "3                      Other sexual offences           71                   0  \n",
              "4                      Other sexual offences           73                   3  \n",
              "...                                      ...          ...                 ...  \n",
              "252517                          Fraud: CIFAS        CIFAS               96612  \n",
              "252518                     Fraud: UK Finance   UK Finance              128818  \n",
              "252519                   Fraud: Action Fraud           AF               78312  \n",
              "252520                          Fraud: CIFAS        CIFAS               88141  \n",
              "252521                     Fraud: UK Finance   UK Finance              113476  \n",
              "\n",
              "[252522 rows x 8 columns]"
            ],
            "text/html": [
              "\n",
              "  <div id=\"df-ee9a4872-cebc-4d69-b6d4-7a17eed1380a\" class=\"colab-df-container\">\n",
              "    <div>\n",
              "<style scoped>\n",
              "    .dataframe tbody tr th:only-of-type {\n",
              "        vertical-align: middle;\n",
              "    }\n",
              "\n",
              "    .dataframe tbody tr th {\n",
              "        vertical-align: top;\n",
              "    }\n",
              "\n",
              "    .dataframe thead th {\n",
              "        text-align: right;\n",
              "    }\n",
              "</style>\n",
              "<table border=\"1\" class=\"dataframe\">\n",
              "  <thead>\n",
              "    <tr style=\"text-align: right;\">\n",
              "      <th></th>\n",
              "      <th>Financial Year</th>\n",
              "      <th>Financial Quarter</th>\n",
              "      <th>Force Name</th>\n",
              "      <th>Offence Description</th>\n",
              "      <th>Offence Group</th>\n",
              "      <th>Offence Subgroup</th>\n",
              "      <th>Offence Code</th>\n",
              "      <th>Number of Offences</th>\n",
              "    </tr>\n",
              "  </thead>\n",
              "  <tbody>\n",
              "    <tr>\n",
              "      <th>0</th>\n",
              "      <td>2012/13</td>\n",
              "      <td>1</td>\n",
              "      <td>Action Fraud</td>\n",
              "      <td>Fraud offences recorded by Action Fraud</td>\n",
              "      <td>Fraud offences</td>\n",
              "      <td>Fraud: Action Fraud</td>\n",
              "      <td>AF</td>\n",
              "      <td>20323</td>\n",
              "    </tr>\n",
              "    <tr>\n",
              "      <th>1</th>\n",
              "      <td>2012/13</td>\n",
              "      <td>1</td>\n",
              "      <td>Avon and Somerset</td>\n",
              "      <td>Abandoning child under two years (outcomes only)</td>\n",
              "      <td>Violence against the person</td>\n",
              "      <td>Violence without injury</td>\n",
              "      <td>12</td>\n",
              "      <td>0</td>\n",
              "    </tr>\n",
              "    <tr>\n",
              "      <th>2</th>\n",
              "      <td>2012/13</td>\n",
              "      <td>1</td>\n",
              "      <td>Avon and Somerset</td>\n",
              "      <td>Absconding from lawful custody</td>\n",
              "      <td>Miscellaneous crimes against society</td>\n",
              "      <td>Miscellaneous crimes against society</td>\n",
              "      <td>80</td>\n",
              "      <td>1</td>\n",
              "    </tr>\n",
              "    <tr>\n",
              "      <th>3</th>\n",
              "      <td>2012/13</td>\n",
              "      <td>1</td>\n",
              "      <td>Avon and Somerset</td>\n",
              "      <td>Abuse of children through prostitution and por...</td>\n",
              "      <td>Sexual offences</td>\n",
              "      <td>Other sexual offences</td>\n",
              "      <td>71</td>\n",
              "      <td>0</td>\n",
              "    </tr>\n",
              "    <tr>\n",
              "      <th>4</th>\n",
              "      <td>2012/13</td>\n",
              "      <td>1</td>\n",
              "      <td>Avon and Somerset</td>\n",
              "      <td>Abuse of position of trust of a sexual nature</td>\n",
              "      <td>Sexual offences</td>\n",
              "      <td>Other sexual offences</td>\n",
              "      <td>73</td>\n",
              "      <td>3</td>\n",
              "    </tr>\n",
              "    <tr>\n",
              "      <th>...</th>\n",
              "      <td>...</td>\n",
              "      <td>...</td>\n",
              "      <td>...</td>\n",
              "      <td>...</td>\n",
              "      <td>...</td>\n",
              "      <td>...</td>\n",
              "      <td>...</td>\n",
              "      <td>...</td>\n",
              "    </tr>\n",
              "    <tr>\n",
              "      <th>252517</th>\n",
              "      <td>2022/23</td>\n",
              "      <td>3</td>\n",
              "      <td>CIFAS</td>\n",
              "      <td>Fraud offences recorded by CIFAS</td>\n",
              "      <td>Fraud offences</td>\n",
              "      <td>Fraud: CIFAS</td>\n",
              "      <td>CIFAS</td>\n",
              "      <td>96612</td>\n",
              "    </tr>\n",
              "    <tr>\n",
              "      <th>252518</th>\n",
              "      <td>2022/23</td>\n",
              "      <td>3</td>\n",
              "      <td>UK Finance</td>\n",
              "      <td>Fraud offences recorded by UK Finance</td>\n",
              "      <td>Fraud offences</td>\n",
              "      <td>Fraud: UK Finance</td>\n",
              "      <td>UK Finance</td>\n",
              "      <td>128818</td>\n",
              "    </tr>\n",
              "    <tr>\n",
              "      <th>252519</th>\n",
              "      <td>2022/23</td>\n",
              "      <td>4</td>\n",
              "      <td>Action Fraud</td>\n",
              "      <td>Fraud offences recorded by Action Fraud</td>\n",
              "      <td>Fraud offences</td>\n",
              "      <td>Fraud: Action Fraud</td>\n",
              "      <td>AF</td>\n",
              "      <td>78312</td>\n",
              "    </tr>\n",
              "    <tr>\n",
              "      <th>252520</th>\n",
              "      <td>2022/23</td>\n",
              "      <td>4</td>\n",
              "      <td>CIFAS</td>\n",
              "      <td>Fraud offences recorded by CIFAS</td>\n",
              "      <td>Fraud offences</td>\n",
              "      <td>Fraud: CIFAS</td>\n",
              "      <td>CIFAS</td>\n",
              "      <td>88141</td>\n",
              "    </tr>\n",
              "    <tr>\n",
              "      <th>252521</th>\n",
              "      <td>2022/23</td>\n",
              "      <td>4</td>\n",
              "      <td>UK Finance</td>\n",
              "      <td>Fraud offences recorded by UK Finance</td>\n",
              "      <td>Fraud offences</td>\n",
              "      <td>Fraud: UK Finance</td>\n",
              "      <td>UK Finance</td>\n",
              "      <td>113476</td>\n",
              "    </tr>\n",
              "  </tbody>\n",
              "</table>\n",
              "<p>252522 rows × 8 columns</p>\n",
              "</div>\n",
              "    <div class=\"colab-df-buttons\">\n",
              "\n",
              "  <div class=\"colab-df-container\">\n",
              "    <button class=\"colab-df-convert\" onclick=\"convertToInteractive('df-ee9a4872-cebc-4d69-b6d4-7a17eed1380a')\"\n",
              "            title=\"Convert this dataframe to an interactive table.\"\n",
              "            style=\"display:none;\">\n",
              "\n",
              "  <svg xmlns=\"http://www.w3.org/2000/svg\" height=\"24px\" viewBox=\"0 -960 960 960\">\n",
              "    <path d=\"M120-120v-720h720v720H120Zm60-500h600v-160H180v160Zm220 220h160v-160H400v160Zm0 220h160v-160H400v160ZM180-400h160v-160H180v160Zm440 0h160v-160H620v160ZM180-180h160v-160H180v160Zm440 0h160v-160H620v160Z\"/>\n",
              "  </svg>\n",
              "    </button>\n",
              "\n",
              "  <style>\n",
              "    .colab-df-container {\n",
              "      display:flex;\n",
              "      gap: 12px;\n",
              "    }\n",
              "\n",
              "    .colab-df-convert {\n",
              "      background-color: #E8F0FE;\n",
              "      border: none;\n",
              "      border-radius: 50%;\n",
              "      cursor: pointer;\n",
              "      display: none;\n",
              "      fill: #1967D2;\n",
              "      height: 32px;\n",
              "      padding: 0 0 0 0;\n",
              "      width: 32px;\n",
              "    }\n",
              "\n",
              "    .colab-df-convert:hover {\n",
              "      background-color: #E2EBFA;\n",
              "      box-shadow: 0px 1px 2px rgba(60, 64, 67, 0.3), 0px 1px 3px 1px rgba(60, 64, 67, 0.15);\n",
              "      fill: #174EA6;\n",
              "    }\n",
              "\n",
              "    .colab-df-buttons div {\n",
              "      margin-bottom: 4px;\n",
              "    }\n",
              "\n",
              "    [theme=dark] .colab-df-convert {\n",
              "      background-color: #3B4455;\n",
              "      fill: #D2E3FC;\n",
              "    }\n",
              "\n",
              "    [theme=dark] .colab-df-convert:hover {\n",
              "      background-color: #434B5C;\n",
              "      box-shadow: 0px 1px 3px 1px rgba(0, 0, 0, 0.15);\n",
              "      filter: drop-shadow(0px 1px 2px rgba(0, 0, 0, 0.3));\n",
              "      fill: #FFFFFF;\n",
              "    }\n",
              "  </style>\n",
              "\n",
              "    <script>\n",
              "      const buttonEl =\n",
              "        document.querySelector('#df-ee9a4872-cebc-4d69-b6d4-7a17eed1380a button.colab-df-convert');\n",
              "      buttonEl.style.display =\n",
              "        google.colab.kernel.accessAllowed ? 'block' : 'none';\n",
              "\n",
              "      async function convertToInteractive(key) {\n",
              "        const element = document.querySelector('#df-ee9a4872-cebc-4d69-b6d4-7a17eed1380a');\n",
              "        const dataTable =\n",
              "          await google.colab.kernel.invokeFunction('convertToInteractive',\n",
              "                                                    [key], {});\n",
              "        if (!dataTable) return;\n",
              "\n",
              "        const docLinkHtml = 'Like what you see? Visit the ' +\n",
              "          '<a target=\"_blank\" href=https://colab.research.google.com/notebooks/data_table.ipynb>data table notebook</a>'\n",
              "          + ' to learn more about interactive tables.';\n",
              "        element.innerHTML = '';\n",
              "        dataTable['output_type'] = 'display_data';\n",
              "        await google.colab.output.renderOutput(dataTable, element);\n",
              "        const docLink = document.createElement('div');\n",
              "        docLink.innerHTML = docLinkHtml;\n",
              "        element.appendChild(docLink);\n",
              "      }\n",
              "    </script>\n",
              "  </div>\n",
              "\n",
              "\n",
              "<div id=\"df-dad1220b-b55e-4c0e-bb92-e15e67879e19\">\n",
              "  <button class=\"colab-df-quickchart\" onclick=\"quickchart('df-dad1220b-b55e-4c0e-bb92-e15e67879e19')\"\n",
              "            title=\"Suggest charts\"\n",
              "            style=\"display:none;\">\n",
              "\n",
              "<svg xmlns=\"http://www.w3.org/2000/svg\" height=\"24px\"viewBox=\"0 0 24 24\"\n",
              "     width=\"24px\">\n",
              "    <g>\n",
              "        <path d=\"M19 3H5c-1.1 0-2 .9-2 2v14c0 1.1.9 2 2 2h14c1.1 0 2-.9 2-2V5c0-1.1-.9-2-2-2zM9 17H7v-7h2v7zm4 0h-2V7h2v10zm4 0h-2v-4h2v4z\"/>\n",
              "    </g>\n",
              "</svg>\n",
              "  </button>\n",
              "\n",
              "<style>\n",
              "  .colab-df-quickchart {\n",
              "      --bg-color: #E8F0FE;\n",
              "      --fill-color: #1967D2;\n",
              "      --hover-bg-color: #E2EBFA;\n",
              "      --hover-fill-color: #174EA6;\n",
              "      --disabled-fill-color: #AAA;\n",
              "      --disabled-bg-color: #DDD;\n",
              "  }\n",
              "\n",
              "  [theme=dark] .colab-df-quickchart {\n",
              "      --bg-color: #3B4455;\n",
              "      --fill-color: #D2E3FC;\n",
              "      --hover-bg-color: #434B5C;\n",
              "      --hover-fill-color: #FFFFFF;\n",
              "      --disabled-bg-color: #3B4455;\n",
              "      --disabled-fill-color: #666;\n",
              "  }\n",
              "\n",
              "  .colab-df-quickchart {\n",
              "    background-color: var(--bg-color);\n",
              "    border: none;\n",
              "    border-radius: 50%;\n",
              "    cursor: pointer;\n",
              "    display: none;\n",
              "    fill: var(--fill-color);\n",
              "    height: 32px;\n",
              "    padding: 0;\n",
              "    width: 32px;\n",
              "  }\n",
              "\n",
              "  .colab-df-quickchart:hover {\n",
              "    background-color: var(--hover-bg-color);\n",
              "    box-shadow: 0 1px 2px rgba(60, 64, 67, 0.3), 0 1px 3px 1px rgba(60, 64, 67, 0.15);\n",
              "    fill: var(--button-hover-fill-color);\n",
              "  }\n",
              "\n",
              "  .colab-df-quickchart-complete:disabled,\n",
              "  .colab-df-quickchart-complete:disabled:hover {\n",
              "    background-color: var(--disabled-bg-color);\n",
              "    fill: var(--disabled-fill-color);\n",
              "    box-shadow: none;\n",
              "  }\n",
              "\n",
              "  .colab-df-spinner {\n",
              "    border: 2px solid var(--fill-color);\n",
              "    border-color: transparent;\n",
              "    border-bottom-color: var(--fill-color);\n",
              "    animation:\n",
              "      spin 1s steps(1) infinite;\n",
              "  }\n",
              "\n",
              "  @keyframes spin {\n",
              "    0% {\n",
              "      border-color: transparent;\n",
              "      border-bottom-color: var(--fill-color);\n",
              "      border-left-color: var(--fill-color);\n",
              "    }\n",
              "    20% {\n",
              "      border-color: transparent;\n",
              "      border-left-color: var(--fill-color);\n",
              "      border-top-color: var(--fill-color);\n",
              "    }\n",
              "    30% {\n",
              "      border-color: transparent;\n",
              "      border-left-color: var(--fill-color);\n",
              "      border-top-color: var(--fill-color);\n",
              "      border-right-color: var(--fill-color);\n",
              "    }\n",
              "    40% {\n",
              "      border-color: transparent;\n",
              "      border-right-color: var(--fill-color);\n",
              "      border-top-color: var(--fill-color);\n",
              "    }\n",
              "    60% {\n",
              "      border-color: transparent;\n",
              "      border-right-color: var(--fill-color);\n",
              "    }\n",
              "    80% {\n",
              "      border-color: transparent;\n",
              "      border-right-color: var(--fill-color);\n",
              "      border-bottom-color: var(--fill-color);\n",
              "    }\n",
              "    90% {\n",
              "      border-color: transparent;\n",
              "      border-bottom-color: var(--fill-color);\n",
              "    }\n",
              "  }\n",
              "</style>\n",
              "\n",
              "  <script>\n",
              "    async function quickchart(key) {\n",
              "      const quickchartButtonEl =\n",
              "        document.querySelector('#' + key + ' button');\n",
              "      quickchartButtonEl.disabled = true;  // To prevent multiple clicks.\n",
              "      quickchartButtonEl.classList.add('colab-df-spinner');\n",
              "      try {\n",
              "        const charts = await google.colab.kernel.invokeFunction(\n",
              "            'suggestCharts', [key], {});\n",
              "      } catch (error) {\n",
              "        console.error('Error during call to suggestCharts:', error);\n",
              "      }\n",
              "      quickchartButtonEl.classList.remove('colab-df-spinner');\n",
              "      quickchartButtonEl.classList.add('colab-df-quickchart-complete');\n",
              "    }\n",
              "    (() => {\n",
              "      let quickchartButtonEl =\n",
              "        document.querySelector('#df-dad1220b-b55e-4c0e-bb92-e15e67879e19 button');\n",
              "      quickchartButtonEl.style.display =\n",
              "        google.colab.kernel.accessAllowed ? 'block' : 'none';\n",
              "    })();\n",
              "  </script>\n",
              "</div>\n",
              "    </div>\n",
              "  </div>\n"
            ]
          },
          "metadata": {},
          "execution_count": 19
        }
      ]
    },
    {
      "cell_type": "code",
      "source": [
        "#Drop column Offence Description\n",
        "merged_DF_pd = merged_DF_pd.drop('Offence Description', axis =1)"
      ],
      "metadata": {
        "id": "NOewLJP2TCoj"
      },
      "execution_count": null,
      "outputs": []
    },
    {
      "cell_type": "code",
      "source": [
        "merged_DF_pd"
      ],
      "metadata": {
        "colab": {
          "base_uri": "https://localhost:8080/",
          "height": 510
        },
        "id": "TDUw1FMBX2FJ",
        "outputId": "b773ab07-015e-42be-dac8-c7d9952ec070"
      },
      "execution_count": null,
      "outputs": [
        {
          "output_type": "execute_result",
          "data": {
            "text/plain": [
              "       Financial Year  Financial Quarter         Force Name  \\\n",
              "0             2012/13                  1       Action Fraud   \n",
              "1             2012/13                  1  Avon and Somerset   \n",
              "2             2012/13                  1  Avon and Somerset   \n",
              "3             2012/13                  1  Avon and Somerset   \n",
              "4             2012/13                  1  Avon and Somerset   \n",
              "...               ...                ...                ...   \n",
              "252517        2022/23                  3              CIFAS   \n",
              "252518        2022/23                  3         UK Finance   \n",
              "252519        2022/23                  4       Action Fraud   \n",
              "252520        2022/23                  4              CIFAS   \n",
              "252521        2022/23                  4         UK Finance   \n",
              "\n",
              "                               Offence Group  \\\n",
              "0                             Fraud offences   \n",
              "1                Violence against the person   \n",
              "2       Miscellaneous crimes against society   \n",
              "3                            Sexual offences   \n",
              "4                            Sexual offences   \n",
              "...                                      ...   \n",
              "252517                        Fraud offences   \n",
              "252518                        Fraud offences   \n",
              "252519                        Fraud offences   \n",
              "252520                        Fraud offences   \n",
              "252521                        Fraud offences   \n",
              "\n",
              "                            Offence Subgroup Offence Code  Number of Offences  \n",
              "0                        Fraud: Action Fraud           AF               20323  \n",
              "1                    Violence without injury           12                   0  \n",
              "2       Miscellaneous crimes against society           80                   1  \n",
              "3                      Other sexual offences           71                   0  \n",
              "4                      Other sexual offences           73                   3  \n",
              "...                                      ...          ...                 ...  \n",
              "252517                          Fraud: CIFAS        CIFAS               96612  \n",
              "252518                     Fraud: UK Finance   UK Finance              128818  \n",
              "252519                   Fraud: Action Fraud           AF               78312  \n",
              "252520                          Fraud: CIFAS        CIFAS               88141  \n",
              "252521                     Fraud: UK Finance   UK Finance              113476  \n",
              "\n",
              "[252522 rows x 7 columns]"
            ],
            "text/html": [
              "\n",
              "  <div id=\"df-e89ccc00-d448-4576-abbd-4a5a7a39df34\" class=\"colab-df-container\">\n",
              "    <div>\n",
              "<style scoped>\n",
              "    .dataframe tbody tr th:only-of-type {\n",
              "        vertical-align: middle;\n",
              "    }\n",
              "\n",
              "    .dataframe tbody tr th {\n",
              "        vertical-align: top;\n",
              "    }\n",
              "\n",
              "    .dataframe thead th {\n",
              "        text-align: right;\n",
              "    }\n",
              "</style>\n",
              "<table border=\"1\" class=\"dataframe\">\n",
              "  <thead>\n",
              "    <tr style=\"text-align: right;\">\n",
              "      <th></th>\n",
              "      <th>Financial Year</th>\n",
              "      <th>Financial Quarter</th>\n",
              "      <th>Force Name</th>\n",
              "      <th>Offence Group</th>\n",
              "      <th>Offence Subgroup</th>\n",
              "      <th>Offence Code</th>\n",
              "      <th>Number of Offences</th>\n",
              "    </tr>\n",
              "  </thead>\n",
              "  <tbody>\n",
              "    <tr>\n",
              "      <th>0</th>\n",
              "      <td>2012/13</td>\n",
              "      <td>1</td>\n",
              "      <td>Action Fraud</td>\n",
              "      <td>Fraud offences</td>\n",
              "      <td>Fraud: Action Fraud</td>\n",
              "      <td>AF</td>\n",
              "      <td>20323</td>\n",
              "    </tr>\n",
              "    <tr>\n",
              "      <th>1</th>\n",
              "      <td>2012/13</td>\n",
              "      <td>1</td>\n",
              "      <td>Avon and Somerset</td>\n",
              "      <td>Violence against the person</td>\n",
              "      <td>Violence without injury</td>\n",
              "      <td>12</td>\n",
              "      <td>0</td>\n",
              "    </tr>\n",
              "    <tr>\n",
              "      <th>2</th>\n",
              "      <td>2012/13</td>\n",
              "      <td>1</td>\n",
              "      <td>Avon and Somerset</td>\n",
              "      <td>Miscellaneous crimes against society</td>\n",
              "      <td>Miscellaneous crimes against society</td>\n",
              "      <td>80</td>\n",
              "      <td>1</td>\n",
              "    </tr>\n",
              "    <tr>\n",
              "      <th>3</th>\n",
              "      <td>2012/13</td>\n",
              "      <td>1</td>\n",
              "      <td>Avon and Somerset</td>\n",
              "      <td>Sexual offences</td>\n",
              "      <td>Other sexual offences</td>\n",
              "      <td>71</td>\n",
              "      <td>0</td>\n",
              "    </tr>\n",
              "    <tr>\n",
              "      <th>4</th>\n",
              "      <td>2012/13</td>\n",
              "      <td>1</td>\n",
              "      <td>Avon and Somerset</td>\n",
              "      <td>Sexual offences</td>\n",
              "      <td>Other sexual offences</td>\n",
              "      <td>73</td>\n",
              "      <td>3</td>\n",
              "    </tr>\n",
              "    <tr>\n",
              "      <th>...</th>\n",
              "      <td>...</td>\n",
              "      <td>...</td>\n",
              "      <td>...</td>\n",
              "      <td>...</td>\n",
              "      <td>...</td>\n",
              "      <td>...</td>\n",
              "      <td>...</td>\n",
              "    </tr>\n",
              "    <tr>\n",
              "      <th>252517</th>\n",
              "      <td>2022/23</td>\n",
              "      <td>3</td>\n",
              "      <td>CIFAS</td>\n",
              "      <td>Fraud offences</td>\n",
              "      <td>Fraud: CIFAS</td>\n",
              "      <td>CIFAS</td>\n",
              "      <td>96612</td>\n",
              "    </tr>\n",
              "    <tr>\n",
              "      <th>252518</th>\n",
              "      <td>2022/23</td>\n",
              "      <td>3</td>\n",
              "      <td>UK Finance</td>\n",
              "      <td>Fraud offences</td>\n",
              "      <td>Fraud: UK Finance</td>\n",
              "      <td>UK Finance</td>\n",
              "      <td>128818</td>\n",
              "    </tr>\n",
              "    <tr>\n",
              "      <th>252519</th>\n",
              "      <td>2022/23</td>\n",
              "      <td>4</td>\n",
              "      <td>Action Fraud</td>\n",
              "      <td>Fraud offences</td>\n",
              "      <td>Fraud: Action Fraud</td>\n",
              "      <td>AF</td>\n",
              "      <td>78312</td>\n",
              "    </tr>\n",
              "    <tr>\n",
              "      <th>252520</th>\n",
              "      <td>2022/23</td>\n",
              "      <td>4</td>\n",
              "      <td>CIFAS</td>\n",
              "      <td>Fraud offences</td>\n",
              "      <td>Fraud: CIFAS</td>\n",
              "      <td>CIFAS</td>\n",
              "      <td>88141</td>\n",
              "    </tr>\n",
              "    <tr>\n",
              "      <th>252521</th>\n",
              "      <td>2022/23</td>\n",
              "      <td>4</td>\n",
              "      <td>UK Finance</td>\n",
              "      <td>Fraud offences</td>\n",
              "      <td>Fraud: UK Finance</td>\n",
              "      <td>UK Finance</td>\n",
              "      <td>113476</td>\n",
              "    </tr>\n",
              "  </tbody>\n",
              "</table>\n",
              "<p>252522 rows × 7 columns</p>\n",
              "</div>\n",
              "    <div class=\"colab-df-buttons\">\n",
              "\n",
              "  <div class=\"colab-df-container\">\n",
              "    <button class=\"colab-df-convert\" onclick=\"convertToInteractive('df-e89ccc00-d448-4576-abbd-4a5a7a39df34')\"\n",
              "            title=\"Convert this dataframe to an interactive table.\"\n",
              "            style=\"display:none;\">\n",
              "\n",
              "  <svg xmlns=\"http://www.w3.org/2000/svg\" height=\"24px\" viewBox=\"0 -960 960 960\">\n",
              "    <path d=\"M120-120v-720h720v720H120Zm60-500h600v-160H180v160Zm220 220h160v-160H400v160Zm0 220h160v-160H400v160ZM180-400h160v-160H180v160Zm440 0h160v-160H620v160ZM180-180h160v-160H180v160Zm440 0h160v-160H620v160Z\"/>\n",
              "  </svg>\n",
              "    </button>\n",
              "\n",
              "  <style>\n",
              "    .colab-df-container {\n",
              "      display:flex;\n",
              "      gap: 12px;\n",
              "    }\n",
              "\n",
              "    .colab-df-convert {\n",
              "      background-color: #E8F0FE;\n",
              "      border: none;\n",
              "      border-radius: 50%;\n",
              "      cursor: pointer;\n",
              "      display: none;\n",
              "      fill: #1967D2;\n",
              "      height: 32px;\n",
              "      padding: 0 0 0 0;\n",
              "      width: 32px;\n",
              "    }\n",
              "\n",
              "    .colab-df-convert:hover {\n",
              "      background-color: #E2EBFA;\n",
              "      box-shadow: 0px 1px 2px rgba(60, 64, 67, 0.3), 0px 1px 3px 1px rgba(60, 64, 67, 0.15);\n",
              "      fill: #174EA6;\n",
              "    }\n",
              "\n",
              "    .colab-df-buttons div {\n",
              "      margin-bottom: 4px;\n",
              "    }\n",
              "\n",
              "    [theme=dark] .colab-df-convert {\n",
              "      background-color: #3B4455;\n",
              "      fill: #D2E3FC;\n",
              "    }\n",
              "\n",
              "    [theme=dark] .colab-df-convert:hover {\n",
              "      background-color: #434B5C;\n",
              "      box-shadow: 0px 1px 3px 1px rgba(0, 0, 0, 0.15);\n",
              "      filter: drop-shadow(0px 1px 2px rgba(0, 0, 0, 0.3));\n",
              "      fill: #FFFFFF;\n",
              "    }\n",
              "  </style>\n",
              "\n",
              "    <script>\n",
              "      const buttonEl =\n",
              "        document.querySelector('#df-e89ccc00-d448-4576-abbd-4a5a7a39df34 button.colab-df-convert');\n",
              "      buttonEl.style.display =\n",
              "        google.colab.kernel.accessAllowed ? 'block' : 'none';\n",
              "\n",
              "      async function convertToInteractive(key) {\n",
              "        const element = document.querySelector('#df-e89ccc00-d448-4576-abbd-4a5a7a39df34');\n",
              "        const dataTable =\n",
              "          await google.colab.kernel.invokeFunction('convertToInteractive',\n",
              "                                                    [key], {});\n",
              "        if (!dataTable) return;\n",
              "\n",
              "        const docLinkHtml = 'Like what you see? Visit the ' +\n",
              "          '<a target=\"_blank\" href=https://colab.research.google.com/notebooks/data_table.ipynb>data table notebook</a>'\n",
              "          + ' to learn more about interactive tables.';\n",
              "        element.innerHTML = '';\n",
              "        dataTable['output_type'] = 'display_data';\n",
              "        await google.colab.output.renderOutput(dataTable, element);\n",
              "        const docLink = document.createElement('div');\n",
              "        docLink.innerHTML = docLinkHtml;\n",
              "        element.appendChild(docLink);\n",
              "      }\n",
              "    </script>\n",
              "  </div>\n",
              "\n",
              "\n",
              "<div id=\"df-c2fa4b4e-99de-40d1-8b81-905c40dd693b\">\n",
              "  <button class=\"colab-df-quickchart\" onclick=\"quickchart('df-c2fa4b4e-99de-40d1-8b81-905c40dd693b')\"\n",
              "            title=\"Suggest charts\"\n",
              "            style=\"display:none;\">\n",
              "\n",
              "<svg xmlns=\"http://www.w3.org/2000/svg\" height=\"24px\"viewBox=\"0 0 24 24\"\n",
              "     width=\"24px\">\n",
              "    <g>\n",
              "        <path d=\"M19 3H5c-1.1 0-2 .9-2 2v14c0 1.1.9 2 2 2h14c1.1 0 2-.9 2-2V5c0-1.1-.9-2-2-2zM9 17H7v-7h2v7zm4 0h-2V7h2v10zm4 0h-2v-4h2v4z\"/>\n",
              "    </g>\n",
              "</svg>\n",
              "  </button>\n",
              "\n",
              "<style>\n",
              "  .colab-df-quickchart {\n",
              "      --bg-color: #E8F0FE;\n",
              "      --fill-color: #1967D2;\n",
              "      --hover-bg-color: #E2EBFA;\n",
              "      --hover-fill-color: #174EA6;\n",
              "      --disabled-fill-color: #AAA;\n",
              "      --disabled-bg-color: #DDD;\n",
              "  }\n",
              "\n",
              "  [theme=dark] .colab-df-quickchart {\n",
              "      --bg-color: #3B4455;\n",
              "      --fill-color: #D2E3FC;\n",
              "      --hover-bg-color: #434B5C;\n",
              "      --hover-fill-color: #FFFFFF;\n",
              "      --disabled-bg-color: #3B4455;\n",
              "      --disabled-fill-color: #666;\n",
              "  }\n",
              "\n",
              "  .colab-df-quickchart {\n",
              "    background-color: var(--bg-color);\n",
              "    border: none;\n",
              "    border-radius: 50%;\n",
              "    cursor: pointer;\n",
              "    display: none;\n",
              "    fill: var(--fill-color);\n",
              "    height: 32px;\n",
              "    padding: 0;\n",
              "    width: 32px;\n",
              "  }\n",
              "\n",
              "  .colab-df-quickchart:hover {\n",
              "    background-color: var(--hover-bg-color);\n",
              "    box-shadow: 0 1px 2px rgba(60, 64, 67, 0.3), 0 1px 3px 1px rgba(60, 64, 67, 0.15);\n",
              "    fill: var(--button-hover-fill-color);\n",
              "  }\n",
              "\n",
              "  .colab-df-quickchart-complete:disabled,\n",
              "  .colab-df-quickchart-complete:disabled:hover {\n",
              "    background-color: var(--disabled-bg-color);\n",
              "    fill: var(--disabled-fill-color);\n",
              "    box-shadow: none;\n",
              "  }\n",
              "\n",
              "  .colab-df-spinner {\n",
              "    border: 2px solid var(--fill-color);\n",
              "    border-color: transparent;\n",
              "    border-bottom-color: var(--fill-color);\n",
              "    animation:\n",
              "      spin 1s steps(1) infinite;\n",
              "  }\n",
              "\n",
              "  @keyframes spin {\n",
              "    0% {\n",
              "      border-color: transparent;\n",
              "      border-bottom-color: var(--fill-color);\n",
              "      border-left-color: var(--fill-color);\n",
              "    }\n",
              "    20% {\n",
              "      border-color: transparent;\n",
              "      border-left-color: var(--fill-color);\n",
              "      border-top-color: var(--fill-color);\n",
              "    }\n",
              "    30% {\n",
              "      border-color: transparent;\n",
              "      border-left-color: var(--fill-color);\n",
              "      border-top-color: var(--fill-color);\n",
              "      border-right-color: var(--fill-color);\n",
              "    }\n",
              "    40% {\n",
              "      border-color: transparent;\n",
              "      border-right-color: var(--fill-color);\n",
              "      border-top-color: var(--fill-color);\n",
              "    }\n",
              "    60% {\n",
              "      border-color: transparent;\n",
              "      border-right-color: var(--fill-color);\n",
              "    }\n",
              "    80% {\n",
              "      border-color: transparent;\n",
              "      border-right-color: var(--fill-color);\n",
              "      border-bottom-color: var(--fill-color);\n",
              "    }\n",
              "    90% {\n",
              "      border-color: transparent;\n",
              "      border-bottom-color: var(--fill-color);\n",
              "    }\n",
              "  }\n",
              "</style>\n",
              "\n",
              "  <script>\n",
              "    async function quickchart(key) {\n",
              "      const quickchartButtonEl =\n",
              "        document.querySelector('#' + key + ' button');\n",
              "      quickchartButtonEl.disabled = true;  // To prevent multiple clicks.\n",
              "      quickchartButtonEl.classList.add('colab-df-spinner');\n",
              "      try {\n",
              "        const charts = await google.colab.kernel.invokeFunction(\n",
              "            'suggestCharts', [key], {});\n",
              "      } catch (error) {\n",
              "        console.error('Error during call to suggestCharts:', error);\n",
              "      }\n",
              "      quickchartButtonEl.classList.remove('colab-df-spinner');\n",
              "      quickchartButtonEl.classList.add('colab-df-quickchart-complete');\n",
              "    }\n",
              "    (() => {\n",
              "      let quickchartButtonEl =\n",
              "        document.querySelector('#df-c2fa4b4e-99de-40d1-8b81-905c40dd693b button');\n",
              "      quickchartButtonEl.style.display =\n",
              "        google.colab.kernel.accessAllowed ? 'block' : 'none';\n",
              "    })();\n",
              "  </script>\n",
              "</div>\n",
              "    </div>\n",
              "  </div>\n"
            ]
          },
          "metadata": {},
          "execution_count": 21
        }
      ]
    },
    {
      "cell_type": "code",
      "source": [
        "#Check for null values\n",
        "merged_DF_pd.isnull().sum()"
      ],
      "metadata": {
        "colab": {
          "base_uri": "https://localhost:8080/"
        },
        "id": "qbkT8BMUX5eZ",
        "outputId": "3bd02acf-2a9a-43f4-bb0b-74c8321b4c06"
      },
      "execution_count": null,
      "outputs": [
        {
          "output_type": "execute_result",
          "data": {
            "text/plain": [
              "Financial Year        0\n",
              "Financial Quarter     0\n",
              "Force Name            0\n",
              "Offence Group         0\n",
              "Offence Subgroup      0\n",
              "Offence Code          0\n",
              "Number of Offences    0\n",
              "dtype: int64"
            ]
          },
          "metadata": {},
          "execution_count": 23
        }
      ]
    },
    {
      "cell_type": "code",
      "source": [
        "#Check for Negative values in financial quarter\n",
        "(merged_DF_pd['Financial Quarter'] <0).any().any()"
      ],
      "metadata": {
        "colab": {
          "base_uri": "https://localhost:8080/"
        },
        "id": "5Q4pIJzvadjY",
        "outputId": "87eedd00-489c-479d-cc01-877f7d4f2d9e"
      },
      "execution_count": null,
      "outputs": [
        {
          "output_type": "execute_result",
          "data": {
            "text/plain": [
              "False"
            ]
          },
          "metadata": {},
          "execution_count": 24
        }
      ]
    },
    {
      "cell_type": "code",
      "source": [
        "#Check for negative values\n",
        "(merged_DF_pd['Number of Offences'] <0).any().any()"
      ],
      "metadata": {
        "colab": {
          "base_uri": "https://localhost:8080/"
        },
        "id": "c-lhIlfzdU7Q",
        "outputId": "fced7ab5-8a80-486f-a6ec-017b8a860ffc"
      },
      "execution_count": null,
      "outputs": [
        {
          "output_type": "execute_result",
          "data": {
            "text/plain": [
              "True"
            ]
          },
          "metadata": {},
          "execution_count": 25
        }
      ]
    },
    {
      "cell_type": "code",
      "source": [
        "import numpy as np"
      ],
      "metadata": {
        "id": "BEazxbzmgd2B"
      },
      "execution_count": null,
      "outputs": []
    },
    {
      "cell_type": "code",
      "source": [
        "#Convert all negative values to nan using numpy\n",
        "merged_DF_pd['Number of Offences'] = np.where(merged_DF_pd['Number of Offences'] < 0, \\\n",
        "                                              np.nan, merged_DF_pd['Number of Offences'])"
      ],
      "metadata": {
        "id": "vG8AEJktgWxz"
      },
      "execution_count": null,
      "outputs": []
    },
    {
      "cell_type": "code",
      "source": [
        "#Check if they have been turned to NaN\n",
        "merged_DF_pd.isna().sum()"
      ],
      "metadata": {
        "colab": {
          "base_uri": "https://localhost:8080/"
        },
        "id": "OmpFUd48gxtx",
        "outputId": "1d211170-bf21-4e6d-d73b-ad77171473d8"
      },
      "execution_count": null,
      "outputs": [
        {
          "output_type": "execute_result",
          "data": {
            "text/plain": [
              "Financial Year          0\n",
              "Financial Quarter       0\n",
              "Force Name              0\n",
              "Offence Group           0\n",
              "Offence Subgroup        0\n",
              "Offence Code            0\n",
              "Number of Offences    426\n",
              "dtype: int64"
            ]
          },
          "metadata": {},
          "execution_count": 28
        }
      ]
    },
    {
      "cell_type": "code",
      "source": [
        "#Drop all 426 rows with NaN\n",
        "merged_DF_pd.dropna(axis=0, inplace=True)"
      ],
      "metadata": {
        "id": "aEg2RO34hl-B"
      },
      "execution_count": null,
      "outputs": []
    },
    {
      "cell_type": "code",
      "source": [
        "merged_DF_pd.isna().sum()"
      ],
      "metadata": {
        "colab": {
          "base_uri": "https://localhost:8080/"
        },
        "id": "VzZLY9BViHY8",
        "outputId": "7ba1d7ac-6874-41d8-b86a-0cf933cc892c"
      },
      "execution_count": null,
      "outputs": [
        {
          "output_type": "execute_result",
          "data": {
            "text/plain": [
              "Financial Year        0\n",
              "Financial Quarter     0\n",
              "Force Name            0\n",
              "Offence Group         0\n",
              "Offence Subgroup      0\n",
              "Offence Code          0\n",
              "Number of Offences    0\n",
              "dtype: int64"
            ]
          },
          "metadata": {},
          "execution_count": 30
        }
      ]
    },
    {
      "cell_type": "code",
      "source": [
        "#Detect outliers by boxplot\n",
        "import matplotlib.pyplot as plt"
      ],
      "metadata": {
        "id": "IpJAkvFpmHuL"
      },
      "execution_count": null,
      "outputs": []
    },
    {
      "cell_type": "code",
      "source": [
        "plt.boxplot(merged_DF_pd['Number of Offences'], vert = False)\n",
        "plt.title('Boxplot Outlier detection for Number of Offences')\n",
        "plt.xlabel('Number of Offences')\n",
        "plt.show()"
      ],
      "metadata": {
        "colab": {
          "base_uri": "https://localhost:8080/",
          "height": 472
        },
        "id": "3i2sPta_mUIJ",
        "outputId": "122ddb27-c832-455b-b0cc-dcdbd5490301"
      },
      "execution_count": null,
      "outputs": [
        {
          "output_type": "display_data",
          "data": {
            "text/plain": [
              "<Figure size 640x480 with 1 Axes>"
            ],
            "image/png": "[encoded data removed]"
          },
          "metadata": {}
        }
      ]
    },
    {
      "cell_type": "code",
      "source": [
        "#Reset the index to tally with new number of rows\n",
        "merged_DF_pd = merged_DF_pd.reset_index(drop=True)"
      ],
      "metadata": {
        "id": "uJV0pX4dpuFM"
      },
      "execution_count": null,
      "outputs": []
    },
    {
      "cell_type": "code",
      "source": [
        "merged_DF_pd"
      ],
      "metadata": {
        "colab": {
          "base_uri": "https://localhost:8080/",
          "height": 510
        },
        "id": "MSmOPlI6p3Cw",
        "outputId": "806577e8-585a-4078-9374-59ce6a4e5192"
      },
      "execution_count": null,
      "outputs": [
        {
          "output_type": "execute_result",
          "data": {
            "text/plain": [
              "       Financial Year  Financial Quarter         Force Name  \\\n",
              "0             2012/13                  1       Action Fraud   \n",
              "1             2012/13                  1  Avon and Somerset   \n",
              "2             2012/13                  1  Avon and Somerset   \n",
              "3             2012/13                  1  Avon and Somerset   \n",
              "4             2012/13                  1  Avon and Somerset   \n",
              "...               ...                ...                ...   \n",
              "252091        2022/23                  3              CIFAS   \n",
              "252092        2022/23                  3         UK Finance   \n",
              "252093        2022/23                  4       Action Fraud   \n",
              "252094        2022/23                  4              CIFAS   \n",
              "252095        2022/23                  4         UK Finance   \n",
              "\n",
              "                               Offence Group  \\\n",
              "0                             Fraud offences   \n",
              "1                Violence against the person   \n",
              "2       Miscellaneous crimes against society   \n",
              "3                            Sexual offences   \n",
              "4                            Sexual offences   \n",
              "...                                      ...   \n",
              "252091                        Fraud offences   \n",
              "252092                        Fraud offences   \n",
              "252093                        Fraud offences   \n",
              "252094                        Fraud offences   \n",
              "252095                        Fraud offences   \n",
              "\n",
              "                            Offence Subgroup Offence Code  Number of Offences  \n",
              "0                        Fraud: Action Fraud           AF             20323.0  \n",
              "1                    Violence without injury           12                 0.0  \n",
              "2       Miscellaneous crimes against society           80                 1.0  \n",
              "3                      Other sexual offences           71                 0.0  \n",
              "4                      Other sexual offences           73                 3.0  \n",
              "...                                      ...          ...                 ...  \n",
              "252091                          Fraud: CIFAS        CIFAS             96612.0  \n",
              "252092                     Fraud: UK Finance   UK Finance            128818.0  \n",
              "252093                   Fraud: Action Fraud           AF             78312.0  \n",
              "252094                          Fraud: CIFAS        CIFAS             88141.0  \n",
              "252095                     Fraud: UK Finance   UK Finance            113476.0  \n",
              "\n",
              "[252096 rows x 7 columns]"
            ],
            "text/html": [
              "\n",
              "  <div id=\"df-e8449f58-46a3-44d8-aa77-c4d1e0c5dd0e\" class=\"colab-df-container\">\n",
              "    <div>\n",
              "<style scoped>\n",
              "    .dataframe tbody tr th:only-of-type {\n",
              "        vertical-align: middle;\n",
              "    }\n",
              "\n",
              "    .dataframe tbody tr th {\n",
              "        vertical-align: top;\n",
              "    }\n",
              "\n",
              "    .dataframe thead th {\n",
              "        text-align: right;\n",
              "    }\n",
              "</style>\n",
              "<table border=\"1\" class=\"dataframe\">\n",
              "  <thead>\n",
              "    <tr style=\"text-align: right;\">\n",
              "      <th></th>\n",
              "      <th>Financial Year</th>\n",
              "      <th>Financial Quarter</th>\n",
              "      <th>Force Name</th>\n",
              "      <th>Offence Group</th>\n",
              "      <th>Offence Subgroup</th>\n",
              "      <th>Offence Code</th>\n",
              "      <th>Number of Offences</th>\n",
              "    </tr>\n",
              "  </thead>\n",
              "  <tbody>\n",
              "    <tr>\n",
              "      <th>0</th>\n",
              "      <td>2012/13</td>\n",
              "      <td>1</td>\n",
              "      <td>Action Fraud</td>\n",
              "      <td>Fraud offences</td>\n",
              "      <td>Fraud: Action Fraud</td>\n",
              "      <td>AF</td>\n",
              "      <td>20323.0</td>\n",
              "    </tr>\n",
              "    <tr>\n",
              "      <th>1</th>\n",
              "      <td>2012/13</td>\n",
              "      <td>1</td>\n",
              "      <td>Avon and Somerset</td>\n",
              "      <td>Violence against the person</td>\n",
              "      <td>Violence without injury</td>\n",
              "      <td>12</td>\n",
              "      <td>0.0</td>\n",
              "    </tr>\n",
              "    <tr>\n",
              "      <th>2</th>\n",
              "      <td>2012/13</td>\n",
              "      <td>1</td>\n",
              "      <td>Avon and Somerset</td>\n",
              "      <td>Miscellaneous crimes against society</td>\n",
              "      <td>Miscellaneous crimes against society</td>\n",
              "      <td>80</td>\n",
              "      <td>1.0</td>\n",
              "    </tr>\n",
              "    <tr>\n",
              "      <th>3</th>\n",
              "      <td>2012/13</td>\n",
              "      <td>1</td>\n",
              "      <td>Avon and Somerset</td>\n",
              "      <td>Sexual offences</td>\n",
              "      <td>Other sexual offences</td>\n",
              "      <td>71</td>\n",
              "      <td>0.0</td>\n",
              "    </tr>\n",
              "    <tr>\n",
              "      <th>4</th>\n",
              "      <td>2012/13</td>\n",
              "      <td>1</td>\n",
              "      <td>Avon and Somerset</td>\n",
              "      <td>Sexual offences</td>\n",
              "      <td>Other sexual offences</td>\n",
              "      <td>73</td>\n",
              "      <td>3.0</td>\n",
              "    </tr>\n",
              "    <tr>\n",
              "      <th>...</th>\n",
              "      <td>...</td>\n",
              "      <td>...</td>\n",
              "      <td>...</td>\n",
              "      <td>...</td>\n",
              "      <td>...</td>\n",
              "      <td>...</td>\n",
              "      <td>...</td>\n",
              "    </tr>\n",
              "    <tr>\n",
              "      <th>252091</th>\n",
              "      <td>2022/23</td>\n",
              "      <td>3</td>\n",
              "      <td>CIFAS</td>\n",
              "      <td>Fraud offences</td>\n",
              "      <td>Fraud: CIFAS</td>\n",
              "      <td>CIFAS</td>\n",
              "      <td>96612.0</td>\n",
              "    </tr>\n",
              "    <tr>\n",
              "      <th>252092</th>\n",
              "      <td>2022/23</td>\n",
              "      <td>3</td>\n",
              "      <td>UK Finance</td>\n",
              "      <td>Fraud offences</td>\n",
              "      <td>Fraud: UK Finance</td>\n",
              "      <td>UK Finance</td>\n",
              "      <td>128818.0</td>\n",
              "    </tr>\n",
              "    <tr>\n",
              "      <th>252093</th>\n",
              "      <td>2022/23</td>\n",
              "      <td>4</td>\n",
              "      <td>Action Fraud</td>\n",
              "      <td>Fraud offences</td>\n",
              "      <td>Fraud: Action Fraud</td>\n",
              "      <td>AF</td>\n",
              "      <td>78312.0</td>\n",
              "    </tr>\n",
              "    <tr>\n",
              "      <th>252094</th>\n",
              "      <td>2022/23</td>\n",
              "      <td>4</td>\n",
              "      <td>CIFAS</td>\n",
              "      <td>Fraud offences</td>\n",
              "      <td>Fraud: CIFAS</td>\n",
              "      <td>CIFAS</td>\n",
              "      <td>88141.0</td>\n",
              "    </tr>\n",
              "    <tr>\n",
              "      <th>252095</th>\n",
              "      <td>2022/23</td>\n",
              "      <td>4</td>\n",
              "      <td>UK Finance</td>\n",
              "      <td>Fraud offences</td>\n",
              "      <td>Fraud: UK Finance</td>\n",
              "      <td>UK Finance</td>\n",
              "      <td>113476.0</td>\n",
              "    </tr>\n",
              "  </tbody>\n",
              "</table>\n",
              "<p>252096 rows × 7 columns</p>\n",
              "</div>\n",
              "    <div class=\"colab-df-buttons\">\n",
              "\n",
              "  <div class=\"colab-df-container\">\n",
              "    <button class=\"colab-df-convert\" onclick=\"convertToInteractive('df-e8449f58-46a3-44d8-aa77-c4d1e0c5dd0e')\"\n",
              "            title=\"Convert this dataframe to an interactive table.\"\n",
              "            style=\"display:none;\">\n",
              "\n",
              "  <svg xmlns=\"http://www.w3.org/2000/svg\" height=\"24px\" viewBox=\"0 -960 960 960\">\n",
              "    <path d=\"M120-120v-720h720v720H120Zm60-500h600v-160H180v160Zm220 220h160v-160H400v160Zm0 220h160v-160H400v160ZM180-400h160v-160H180v160Zm440 0h160v-160H620v160ZM180-180h160v-160H180v160Zm440 0h160v-160H620v160Z\"/>\n",
              "  </svg>\n",
              "    </button>\n",
              "\n",
              "  <style>\n",
              "    .colab-df-container {\n",
              "      display:flex;\n",
              "      gap: 12px;\n",
              "    }\n",
              "\n",
              "    .colab-df-convert {\n",
              "      background-color: #E8F0FE;\n",
              "      border: none;\n",
              "      border-radius: 50%;\n",
              "      cursor: pointer;\n",
              "      display: none;\n",
              "      fill: #1967D2;\n",
              "      height: 32px;\n",
              "      padding: 0 0 0 0;\n",
              "      width: 32px;\n",
              "    }\n",
              "\n",
              "    .colab-df-convert:hover {\n",
              "      background-color: #E2EBFA;\n",
              "      box-shadow: 0px 1px 2px rgba(60, 64, 67, 0.3), 0px 1px 3px 1px rgba(60, 64, 67, 0.15);\n",
              "      fill: #174EA6;\n",
              "    }\n",
              "\n",
              "    .colab-df-buttons div {\n",
              "      margin-bottom: 4px;\n",
              "    }\n",
              "\n",
              "    [theme=dark] .colab-df-convert {\n",
              "      background-color: #3B4455;\n",
              "      fill: #D2E3FC;\n",
              "    }\n",
              "\n",
              "    [theme=dark] .colab-df-convert:hover {\n",
              "      background-color: #434B5C;\n",
              "      box-shadow: 0px 1px 3px 1px rgba(0, 0, 0, 0.15);\n",
              "      filter: drop-shadow(0px 1px 2px rgba(0, 0, 0, 0.3));\n",
              "      fill: #FFFFFF;\n",
              "    }\n",
              "  </style>\n",
              "\n",
              "    <script>\n",
              "      const buttonEl =\n",
              "        document.querySelector('#df-e8449f58-46a3-44d8-aa77-c4d1e0c5dd0e button.colab-df-convert');\n",
              "      buttonEl.style.display =\n",
              "        google.colab.kernel.accessAllowed ? 'block' : 'none';\n",
              "\n",
              "      async function convertToInteractive(key) {\n",
              "        const element = document.querySelector('#df-e8449f58-46a3-44d8-aa77-c4d1e0c5dd0e');\n",
              "        const dataTable =\n",
              "          await google.colab.kernel.invokeFunction('convertToInteractive',\n",
              "                                                    [key], {});\n",
              "        if (!dataTable) return;\n",
              "\n",
              "        const docLinkHtml = 'Like what you see? Visit the ' +\n",
              "          '<a target=\"_blank\" href=https://colab.research.google.com/notebooks/data_table.ipynb>data table notebook</a>'\n",
              "          + ' to learn more about interactive tables.';\n",
              "        element.innerHTML = '';\n",
              "        dataTable['output_type'] = 'display_data';\n",
              "        await google.colab.output.renderOutput(dataTable, element);\n",
              "        const docLink = document.createElement('div');\n",
              "        docLink.innerHTML = docLinkHtml;\n",
              "        element.appendChild(docLink);\n",
              "      }\n",
              "    </script>\n",
              "  </div>\n",
              "\n",
              "\n",
              "<div id=\"df-cf9aa698-45aa-4381-946d-9213a83a40d3\">\n",
              "  <button class=\"colab-df-quickchart\" onclick=\"quickchart('df-cf9aa698-45aa-4381-946d-9213a83a40d3')\"\n",
              "            title=\"Suggest charts\"\n",
              "            style=\"display:none;\">\n",
              "\n",
              "<svg xmlns=\"http://www.w3.org/2000/svg\" height=\"24px\"viewBox=\"0 0 24 24\"\n",
              "     width=\"24px\">\n",
              "    <g>\n",
              "        <path d=\"M19 3H5c-1.1 0-2 .9-2 2v14c0 1.1.9 2 2 2h14c1.1 0 2-.9 2-2V5c0-1.1-.9-2-2-2zM9 17H7v-7h2v7zm4 0h-2V7h2v10zm4 0h-2v-4h2v4z\"/>\n",
              "    </g>\n",
              "</svg>\n",
              "  </button>\n",
              "\n",
              "<style>\n",
              "  .colab-df-quickchart {\n",
              "      --bg-color: #E8F0FE;\n",
              "      --fill-color: #1967D2;\n",
              "      --hover-bg-color: #E2EBFA;\n",
              "      --hover-fill-color: #174EA6;\n",
              "      --disabled-fill-color: #AAA;\n",
              "      --disabled-bg-color: #DDD;\n",
              "  }\n",
              "\n",
              "  [theme=dark] .colab-df-quickchart {\n",
              "      --bg-color: #3B4455;\n",
              "      --fill-color: #D2E3FC;\n",
              "      --hover-bg-color: #434B5C;\n",
              "      --hover-fill-color: #FFFFFF;\n",
              "      --disabled-bg-color: #3B4455;\n",
              "      --disabled-fill-color: #666;\n",
              "  }\n",
              "\n",
              "  .colab-df-quickchart {\n",
              "    background-color: var(--bg-color);\n",
              "    border: none;\n",
              "    border-radius: 50%;\n",
              "    cursor: pointer;\n",
              "    display: none;\n",
              "    fill: var(--fill-color);\n",
              "    height: 32px;\n",
              "    padding: 0;\n",
              "    width: 32px;\n",
              "  }\n",
              "\n",
              "  .colab-df-quickchart:hover {\n",
              "    background-color: var(--hover-bg-color);\n",
              "    box-shadow: 0 1px 2px rgba(60, 64, 67, 0.3), 0 1px 3px 1px rgba(60, 64, 67, 0.15);\n",
              "    fill: var(--button-hover-fill-color);\n",
              "  }\n",
              "\n",
              "  .colab-df-quickchart-complete:disabled,\n",
              "  .colab-df-quickchart-complete:disabled:hover {\n",
              "    background-color: var(--disabled-bg-color);\n",
              "    fill: var(--disabled-fill-color);\n",
              "    box-shadow: none;\n",
              "  }\n",
              "\n",
              "  .colab-df-spinner {\n",
              "    border: 2px solid var(--fill-color);\n",
              "    border-color: transparent;\n",
              "    border-bottom-color: var(--fill-color);\n",
              "    animation:\n",
              "      spin 1s steps(1) infinite;\n",
              "  }\n",
              "\n",
              "  @keyframes spin {\n",
              "    0% {\n",
              "      border-color: transparent;\n",
              "      border-bottom-color: var(--fill-color);\n",
              "      border-left-color: var(--fill-color);\n",
              "    }\n",
              "    20% {\n",
              "      border-color: transparent;\n",
              "      border-left-color: var(--fill-color);\n",
              "      border-top-color: var(--fill-color);\n",
              "    }\n",
              "    30% {\n",
              "      border-color: transparent;\n",
              "      border-left-color: var(--fill-color);\n",
              "      border-top-color: var(--fill-color);\n",
              "      border-right-color: var(--fill-color);\n",
              "    }\n",
              "    40% {\n",
              "      border-color: transparent;\n",
              "      border-right-color: var(--fill-color);\n",
              "      border-top-color: var(--fill-color);\n",
              "    }\n",
              "    60% {\n",
              "      border-color: transparent;\n",
              "      border-right-color: var(--fill-color);\n",
              "    }\n",
              "    80% {\n",
              "      border-color: transparent;\n",
              "      border-right-color: var(--fill-color);\n",
              "      border-bottom-color: var(--fill-color);\n",
              "    }\n",
              "    90% {\n",
              "      border-color: transparent;\n",
              "      border-bottom-color: var(--fill-color);\n",
              "    }\n",
              "  }\n",
              "</style>\n",
              "\n",
              "  <script>\n",
              "    async function quickchart(key) {\n",
              "      const quickchartButtonEl =\n",
              "        document.querySelector('#' + key + ' button');\n",
              "      quickchartButtonEl.disabled = true;  // To prevent multiple clicks.\n",
              "      quickchartButtonEl.classList.add('colab-df-spinner');\n",
              "      try {\n",
              "        const charts = await google.colab.kernel.invokeFunction(\n",
              "            'suggestCharts', [key], {});\n",
              "      } catch (error) {\n",
              "        console.error('Error during call to suggestCharts:', error);\n",
              "      }\n",
              "      quickchartButtonEl.classList.remove('colab-df-spinner');\n",
              "      quickchartButtonEl.classList.add('colab-df-quickchart-complete');\n",
              "    }\n",
              "    (() => {\n",
              "      let quickchartButtonEl =\n",
              "        document.querySelector('#df-cf9aa698-45aa-4381-946d-9213a83a40d3 button');\n",
              "      quickchartButtonEl.style.display =\n",
              "        google.colab.kernel.accessAllowed ? 'block' : 'none';\n",
              "    })();\n",
              "  </script>\n",
              "</div>\n",
              "    </div>\n",
              "  </div>\n"
            ]
          },
          "metadata": {},
          "execution_count": 34
        }
      ]
    },
    {
      "cell_type": "code",
      "source": [
        "#Export Clean Data for Power BI visualization\n",
        "merged_DF_pd.to_csv('CleanDataforVisualisation.csv', index=False)"
      ],
      "metadata": {
        "id": "KNMGFyRcp3-r"
      },
      "execution_count": null,
      "outputs": []
    },
    {
      "cell_type": "code",
      "source": [
        "spark_Clean_DF = spark.createDataFrame(merged_DF_pd)"
      ],
      "metadata": {
        "colab": {
          "base_uri": "https://localhost:8080/"
        },
        "id": "Idt4y1k_r65U",
        "outputId": "f4156a55-ea9a-4adb-fea6-0c637e553c8b"
      },
      "execution_count": null,
      "outputs": [
        {
          "output_type": "stream",
          "name": "stderr",
          "text": [
            "/content/spark-3.1.1-bin-hadoop3.2/python/pyspark/sql/pandas/conversion.py:331: FutureWarning: iteritems is deprecated and will be removed in a future version. Use .items instead.\n",
            "  for column, series in pdf.iteritems():\n"
          ]
        }
      ]
    },
    {
      "cell_type": "code",
      "source": [
        "from pyspark.sql.functions import avg, col, desc"
      ],
      "metadata": {
        "id": "XTremud3sGum"
      },
      "execution_count": null,
      "outputs": []
    },
    {
      "cell_type": "code",
      "source": [
        "spark_Clean_DF.groupBy(\"Offence Group\").sum(\"Number of Offences\").show()"
      ],
      "metadata": {
        "colab": {
          "base_uri": "https://localhost:8080/"
        },
        "id": "08WKXvdGxvXb",
        "outputId": "a795180f-2f0a-424c-fb8f-ac26e353393e"
      },
      "execution_count": null,
      "outputs": [
        {
          "output_type": "stream",
          "name": "stdout",
          "text": [
            "+--------------------+-----------------------+\n",
            "|       Offence Group|sum(Number of Offences)|\n",
            "+--------------------+-----------------------+\n",
            "|Public order offe...|              3886443.0|\n",
            "|             Robbery|               738343.0|\n",
            "|      Fraud offences|              7999764.0|\n",
            "|     Sexual offences|              1453870.0|\n",
            "|Criminal damage a...|              5906879.0|\n",
            "|Possession of wea...|               404123.0|\n",
            "|       Drug offences|              1911637.0|\n",
            "|      Theft offences|            1.9616514E7|\n",
            "|Miscellaneous cri...|               934175.0|\n",
            "|Violence against ...|            1.4982661E7|\n",
            "+--------------------+-----------------------+\n",
            "\n"
          ]
        }
      ]
    },
    {
      "cell_type": "code",
      "source": [
        "#Explore using spark SQL"
      ],
      "metadata": {
        "id": "ejInsqQn1nKS"
      },
      "execution_count": null,
      "outputs": []
    },
    {
      "cell_type": "code",
      "source": [
        "spark_Clean_DF.groupBy(\"Offence Group\")\\\n",
        "           .agg(func.sum(\"Number of Offences\")\\\n",
        "                .alias(\"sum_number_of_offences\"))\\\n",
        "           .orderBy(\"sum_number_of_offences\", ascending = False).show(5)"
      ],
      "metadata": {
        "colab": {
          "base_uri": "https://localhost:8080/"
        },
        "id": "39wsHE1uzwcv",
        "outputId": "45513902-0c0f-4b31-800f-e27a22ad3062"
      },
      "execution_count": null,
      "outputs": [
        {
          "output_type": "stream",
          "name": "stdout",
          "text": [
            "+--------------------+----------------------+\n",
            "|       Offence Group|sum_number_of_offences|\n",
            "+--------------------+----------------------+\n",
            "|      Theft offences|           1.9616514E7|\n",
            "|Violence against ...|           1.4982661E7|\n",
            "|      Fraud offences|             7999764.0|\n",
            "|Criminal damage a...|             5906879.0|\n",
            "|Public order offe...|             3886443.0|\n",
            "+--------------------+----------------------+\n",
            "only showing top 5 rows\n",
            "\n"
          ]
        }
      ]
    },
    {
      "cell_type": "code",
      "source": [
        "#Force name with highest number of offences recorded\n",
        "spark_Clean_DF.groupBy(\"Force Name\")\\\n",
        "           .agg(func.sum(\"Number of Offences\")\\\n",
        "                .alias(\"sum_number_of_offences\"))\\\n",
        "           .orderBy(\"sum_number_of_offences\", ascending = False).show(1)"
      ],
      "metadata": {
        "colab": {
          "base_uri": "https://localhost:8080/"
        },
        "id": "52jsGkcE45Ny",
        "outputId": "35f24b35-c3fe-4bc1-a007-a30751f959fa"
      },
      "execution_count": null,
      "outputs": [
        {
          "output_type": "stream",
          "name": "stdout",
          "text": [
            "+-------------------+----------------------+\n",
            "|         Force Name|sum_number_of_offences|\n",
            "+-------------------+----------------------+\n",
            "|Metropolitan Police|             8733471.0|\n",
            "+-------------------+----------------------+\n",
            "only showing top 1 row\n",
            "\n"
          ]
        }
      ]
    },
    {
      "cell_type": "code",
      "source": [
        "#Top Financial Year with highest number of offences recorded\n",
        "spark_Clean_DF.groupBy(\"Financial Year\")\\\n",
        "           .agg(func.sum(\"Number of Offences\")\\\n",
        "                .alias(\"sum_number_of_offences\"))\\\n",
        "           .orderBy(\"sum_number_of_offences\", ascending = False).show(3)"
      ],
      "metadata": {
        "colab": {
          "base_uri": "https://localhost:8080/"
        },
        "id": "CUKbwwIq8tEk",
        "outputId": "8a961c56-047f-4f86-87b6-c02d1579eacf"
      },
      "execution_count": null,
      "outputs": [
        {
          "output_type": "stream",
          "name": "stdout",
          "text": [
            "+--------------+----------------------+\n",
            "|Financial Year|sum_number_of_offences|\n",
            "+--------------+----------------------+\n",
            "|       2022/23|             6736588.0|\n",
            "|       2021/22|             6343500.0|\n",
            "|       2019/20|             6078988.0|\n",
            "+--------------+----------------------+\n",
            "only showing top 3 rows\n",
            "\n"
          ]
        }
      ]
    },
    {
      "cell_type": "code",
      "source": [],
      "metadata": {
        "id": "NdjKpjF2BUeP"
      },
      "execution_count": null,
      "outputs": []
    }
  ]
}